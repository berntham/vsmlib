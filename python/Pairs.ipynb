{
 "cells": [
  {
   "cell_type": "code",
   "execution_count": 1,
   "metadata": {
    "collapsed": false
   },
   "outputs": [],
   "source": [
    "import random\n",
    "import socket\n",
    "import numpy as np\n",
    "import matplotlib as mpl\n",
    "from matplotlib import pyplot as plt\n",
    "import sklearn\n",
    "from sklearn.linear_model import LogisticRegression\n",
    "import sklearn.decomposition\n",
    "%matplotlib inline\n",
    "import vsmlib\n",
    "import brewer2mpl\n",
    "import pandas\n",
    "from pandas.tools.plotting import parallel_coordinates\n",
    "mpl.rcParams['figure.figsize'] = (17.5, 8.0)"
   ]
  },
  {
   "cell_type": "code",
   "execution_count": 2,
   "metadata": {
    "collapsed": false
   },
   "outputs": [],
   "source": [
    "if socket.gethostname()==\"cypress\":\n",
    "    dir_root=\"/storage/scratch/SVD/explicit_BNC_w3_pos_svd_400_C0.1/\"    \n",
    "    dir_root=\"/storage/scratch/SVD/explicit_Giga_2w_svd_500_C0.6/\"\n",
    "if socket.gethostname()==\"ashtree\":  \n",
    "    dir_root=\"/mnt/work/nlp_scratch/SVD/explicit_Giga_2w_svd_500_C0.6/\"\n",
    "    #dir_root=\"/mnt/work/nlp_scratch/test\"\n",
    "if socket.gethostname()==\"rc017.m.gsic.titech.ac.jp\":\n",
    "    dir_root=\"/home/blackbird/data/scratch/sparse/Russian/proza.ru_raw_w2/\"    \n",
    "    #dir_root=\"/home/blackbird/data/scratch/sparse/test/\"    "
   ]
  },
  {
   "cell_type": "code",
   "execution_count": 3,
   "metadata": {
    "collapsed": false
   },
   "outputs": [
    {
     "name": "stdout",
     "output_type": "stream",
     "text": [
      "this is sparse explicit\n",
      "Matrix loaded in 1.36 sec\n",
      "Matrix dimentions : (451803, 451803) (451.8K unique words in the corpus )\n",
      "Would take 760.4GiB if stored in dense format\n",
      "Cnt nonzero elements = 274457098 (should take about 1.0GiB of memory space\n",
      "Sparsity = 0.1345%\n"
     ]
    }
   ],
   "source": [
    "m=vsmlib.model.load_from_dir(dir_root)"
   ]
  },
  {
   "cell_type": "code",
   "execution_count": 4,
   "metadata": {
    "collapsed": false
   },
   "outputs": [
    {
     "data": {
      "text/plain": [
       "'explicit_proza.ru_raw_w2'"
      ]
     },
     "execution_count": 4,
     "metadata": {},
     "output_type": "execute_result"
    }
   ],
   "source": [
    "m.name"
   ]
  },
  {
   "cell_type": "code",
   "execution_count": 5,
   "metadata": {
    "collapsed": false
   },
   "outputs": [
    {
     "data": {
      "image/png": "[encoded data removed]",
      "text/plain": [
       "<matplotlib.figure.Figure at 0x7fbc604cf748>"
      ]
     },
     "metadata": {},
     "output_type": "display_data"
    }
   ],
   "source": [
    "from vsmlib.visualize import draw_features\n",
    "draw_features(m,[\"walk\",\"run\"])"
   ]
  },
  {
   "cell_type": "code",
   "execution_count": 6,
   "metadata": {
    "collapsed": false
   },
   "outputs": [],
   "source": [
    "row=m.get_row(\"кошка\").todense()\n",
    "row=np.asarray(row).reshape(-1)"
   ]
  },
  {
   "cell_type": "code",
   "execution_count": 7,
   "metadata": {
    "collapsed": false
   },
   "outputs": [],
   "source": [
    "#print(m.vocabulary.get_id(\"man\"))\n",
    "#m.vocabulary.get_word_by_id(3)\n",
    "#for i in row.argsort()[-3:][::-1]:\n"
   ]
  },
  {
   "cell_type": "code",
   "execution_count": 11,
   "metadata": {
    "collapsed": false
   },
   "outputs": [
    {
     "name": "stdout",
     "output_type": "stream",
     "text": [
      "сиамская 14.2314\n",
      "ангорская 14.0395\n",
      "трёхцветная 13.5928\n",
      "трехцветная 13.4534\n",
      "нашкодившая 13.0469\n",
      "окотилась 12.917\n",
      "драная 12.7845\n",
      "мартовская 12.6287\n",
      "белогрудка 12.536\n",
      "звёздная 12.2286\n",
      "гуляющая 12.1021\n",
      "камышовая 12.0874\n",
      "замяукала 11.9938\n",
      "дымчатая 11.99\n",
      "мяукнула 11.881\n",
      "пятнистая 11.6602\n",
      "промяукала 11.657\n",
      "шкодливая 11.567\n",
      "рыжка 11.5073\n",
      "загулявшая 11.45\n"
     ]
    }
   ],
   "source": [
    "for i in row.argsort()[-20:][::-1]:\n",
    "    print (m.vocabulary.get_word_by_id(i),row[i])"
   ]
  },
  {
   "cell_type": "raw",
   "metadata": {},
   "source": [
    "#m.vocabulary.get_id(\"birdcage\")\n",
    "#m.vocabulary.get_word_by_id(74803)"
   ]
  },
  {
   "cell_type": "code",
   "execution_count": 10,
   "metadata": {
    "collapsed": false
   },
   "outputs": [
    {
     "data": {
      "text/plain": [
       "['год', 'человек', 'время', 'дело', 'жизнь']"
      ]
     },
     "execution_count": 10,
     "metadata": {},
     "output_type": "execute_result"
    }
   ],
   "source": [
    "name_file_nouns=\"../data/sitting/NounList\"\n",
    "lst_nouns = [s.strip() for s in open(name_file_nouns).readlines()]\n",
    "lst_nouns[:5]"
   ]
  },
  {
   "cell_type": "code",
   "execution_count": 11,
   "metadata": {
    "collapsed": false
   },
   "outputs": [],
   "source": [
    "lst_w_features=[\"сидит\",\"села\",\"сел\",\"сидела\",\"сидел\"]\n",
    "lst_pos_features=[m.vocabulary.get_id(i) for i in lst_w_features]"
   ]
  },
  {
   "cell_type": "code",
   "execution_count": 12,
   "metadata": {
    "collapsed": false
   },
   "outputs": [
    {
     "data": {
      "text/plain": [
       "[('год', 1.6206044554710388),\n",
       " ('человек', 8.7104455232620239),\n",
       " ('время', 6.096189022064209),\n",
       " ('дело', 0),\n",
       " ('жизнь', 0),\n",
       " ('день', 3.6389289498329163),\n",
       " ('рука', 0),\n",
       " ('раз', 1.2701685726642609),\n",
       " ('работа', 0),\n",
       " ('слово', 0)]"
      ]
     },
     "execution_count": 12,
     "metadata": {},
     "output_type": "execute_result"
    }
   ],
   "source": [
    "lst_results=[]\n",
    "for w in lst_nouns:\n",
    "    id_w=m.vocabulary.get_id(w)\n",
    "    coef=0;\n",
    "    for f in lst_pos_features:\n",
    "        if m.matrix[id_w,f]>0:\n",
    "            coef+=m.matrix[id_w,f]\n",
    "    lst_results.append((w,coef))\n",
    "lst_results[:10]"
   ]
  },
  {
   "cell_type": "code",
   "execution_count": 24,
   "metadata": {
    "collapsed": false
   },
   "outputs": [],
   "source": [
    "lst_results.sort(key=lambda x:x[1])\n",
    "lst_results.reverse()"
   ]
  },
  {
   "cell_type": "code",
   "execution_count": 25,
   "metadata": {
    "collapsed": false
   },
   "outputs": [],
   "source": [
    "f=open(\"sorted_sit.txt\",\"w\")\n",
    "for i in lst_results:\n",
    "    f.write(str(i[0])+\",\\t\"+str(i[1])+\"\\n\")\n",
    "f.close()"
   ]
  },
  {
   "cell_type": "code",
   "execution_count": 23,
   "metadata": {
    "collapsed": true
   },
   "outputs": [],
   "source": [
    "a=[1,2,3]\n",
    "a.reverse()"
   ]
  },
  {
   "cell_type": "code",
   "execution_count": null,
   "metadata": {
    "collapsed": true
   },
   "outputs": [],
   "source": []
  },
  {
   "cell_type": "code",
   "execution_count": 15,
   "metadata": {
    "collapsed": false
   },
   "outputs": [
    {
     "data": {
      "text/plain": [
       "(-1, 17)"
      ]
     },
     "execution_count": 15,
     "metadata": {},
     "output_type": "execute_result"
    },
    {
     "data": {
      "image/png": "[encoded data removed]",
      "text/plain": [
       "<matplotlib.figure.Figure at 0x7fbc3688f390>"
      ]
     },
     "metadata": {},
     "output_type": "display_data"
    }
   ],
   "source": [
    "ax = plt.subplot('111')\n",
    "for i in lst_results:\n",
    "    plt.text(1,i[1],i[0])\n",
    "ax.set_xlim(0,2)\n",
    "ax.set_ylim(-1,17)"
   ]
  },
  {
   "cell_type": "code",
   "execution_count": null,
   "metadata": {
    "collapsed": true
   },
   "outputs": [],
   "source": []
  },
  {
   "cell_type": "code",
   "execution_count": null,
   "metadata": {
    "collapsed": false
   },
   "outputs": [],
   "source": []
  }
 ],
 "metadata": {
  "kernelspec": {
   "display_name": "Python 3",
   "language": "python",
   "name": "python3"
  },
  "language_info": {
   "codemirror_mode": {
    "name": "ipython",
    "version": 3
   },
   "file_extension": ".py",
   "mimetype": "text/x-python",
   "name": "python",
   "nbconvert_exporter": "python",
   "pygments_lexer": "ipython3",
   "version": "3.4.3"
  }
 },
 "nbformat": 4,
 "nbformat_minor": 0
}
