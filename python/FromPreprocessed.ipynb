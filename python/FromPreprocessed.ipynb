{
 "metadata": {
  "name": ""
 },
 "nbformat": 3,
 "nbformat_minor": 0,
 "worksheets": [
  {
   "cells": [
    {
     "cell_type": "code",
     "collapsed": false,
     "input": [
      "import os\n",
      "import socket\n",
      "import timeit\n",
      "import time\n",
      "import numpy\n",
      "import nltk\n",
      "from IPython.display import HTML\n",
      "from imp import reload\n",
      "from vsmlib import similarity\n",
      "from vsmlib import testhelper"
     ],
     "language": "python",
     "metadata": {},
     "outputs": [],
     "prompt_number": 3
    },
    {
     "cell_type": "code",
     "collapsed": false,
     "input": [
      "reload(similarity)\n",
      "#if socket.gethostname()==\"cypress\": similarity.path_corpus = \"/storage/corpora/BNC/all.txt\"\n",
      "if socket.gethostname()==\"ashtree\":\n",
      "    similarity.path_corpus = \"/mnt/storage/Corpora/BNC/all.txt\"\n",
      "    similarity.dir_cache = \"/mnt/work/nlp_scratch\"\n",
      "#similarity.purge()\n",
      "similarity.init()\n",
      "similarity.collocation_measure=similarity.CollocationMeasures.pmi\n",
      "socket.gethostname()"
     ],
     "language": "python",
     "metadata": {},
     "outputs": [
      {
       "ename": "BaseException",
       "evalue": "",
       "output_type": "pyerr",
       "traceback": [
        "\u001b[0;31m---------------------------------------------------------------------------\u001b[0m\n\u001b[0;31mBaseException\u001b[0m                             Traceback (most recent call last)",
        "\u001b[0;32m<ipython-input-4-e9de036b247f>\u001b[0m in \u001b[0;36m<module>\u001b[0;34m()\u001b[0m\n\u001b[1;32m      5\u001b[0m     \u001b[0msimilarity\u001b[0m\u001b[0;34m.\u001b[0m\u001b[0mdir_cache\u001b[0m \u001b[0;34m=\u001b[0m \u001b[0;34m\"/mnt/work/nlp_scratch\"\u001b[0m\u001b[0;34m\u001b[0m\u001b[0m\n\u001b[1;32m      6\u001b[0m \u001b[0;31m#similarity.purge()\u001b[0m\u001b[0;34m\u001b[0m\u001b[0;34m\u001b[0m\u001b[0m\n\u001b[0;32m----> 7\u001b[0;31m \u001b[0msimilarity\u001b[0m\u001b[0;34m.\u001b[0m\u001b[0minit\u001b[0m\u001b[0;34m(\u001b[0m\u001b[0;34m)\u001b[0m\u001b[0;34m\u001b[0m\u001b[0m\n\u001b[0m\u001b[1;32m      8\u001b[0m \u001b[0msimilarity\u001b[0m\u001b[0;34m.\u001b[0m\u001b[0mcollocation_measure\u001b[0m\u001b[0;34m=\u001b[0m\u001b[0msimilarity\u001b[0m\u001b[0;34m.\u001b[0m\u001b[0mCollocationMeasures\u001b[0m\u001b[0;34m.\u001b[0m\u001b[0mpmi\u001b[0m\u001b[0;34m\u001b[0m\u001b[0m\n\u001b[1;32m      9\u001b[0m \u001b[0msocket\u001b[0m\u001b[0;34m.\u001b[0m\u001b[0mgethostname\u001b[0m\u001b[0;34m(\u001b[0m\u001b[0;34m)\u001b[0m\u001b[0;34m\u001b[0m\u001b[0m\n",
        "\u001b[0;32m/home/blackbird/Cloud/Dropbox/Collaboration/Anna/Botva/DistributionalSimilarity/python/vsmlib/similarity.py\u001b[0m in \u001b[0;36minit\u001b[0;34m()\u001b[0m\n\u001b[1;32m    263\u001b[0m \u001b[0;34m\u001b[0m\u001b[0m\n\u001b[1;32m    264\u001b[0m \u001b[0;32mdef\u001b[0m \u001b[0minit\u001b[0m\u001b[0;34m(\u001b[0m\u001b[0;34m)\u001b[0m\u001b[0;34m:\u001b[0m\u001b[0;34m\u001b[0m\u001b[0m\n\u001b[0;32m--> 265\u001b[0;31m     \u001b[0mprefetch_frequencies_all\u001b[0m\u001b[0;34m(\u001b[0m\u001b[0;34m)\u001b[0m\u001b[0;34m\u001b[0m\u001b[0m\n\u001b[0m",
        "\u001b[0;32m/home/blackbird/Cloud/Dropbox/Collaboration/Anna/Botva/DistributionalSimilarity/python/vsmlib/similarity.py\u001b[0m in \u001b[0;36mprefetch_frequencies_all\u001b[0;34m()\u001b[0m\n\u001b[1;32m    223\u001b[0m \u001b[0;32mdef\u001b[0m \u001b[0mprefetch_frequencies_all\u001b[0m\u001b[0;34m(\u001b[0m\u001b[0;34m)\u001b[0m\u001b[0;34m:\u001b[0m\u001b[0;34m\u001b[0m\u001b[0m\n\u001b[1;32m    224\u001b[0m     \u001b[0;32mif\u001b[0m \u001b[0;32mnot\u001b[0m \u001b[0mos\u001b[0m\u001b[0;34m.\u001b[0m\u001b[0mpath\u001b[0m\u001b[0;34m.\u001b[0m\u001b[0misfile\u001b[0m\u001b[0;34m(\u001b[0m\u001b[0mos\u001b[0m\u001b[0;34m.\u001b[0m\u001b[0mpath\u001b[0m\u001b[0;34m.\u001b[0m\u001b[0mjoin\u001b[0m\u001b[0;34m(\u001b[0m\u001b[0mdir_cache\u001b[0m\u001b[0;34m,\u001b[0m\u001b[0;34m\"frequencies\"\u001b[0m\u001b[0;34m)\u001b[0m\u001b[0;34m)\u001b[0m\u001b[0;34m:\u001b[0m\u001b[0;34m\u001b[0m\u001b[0m\n\u001b[0;32m--> 225\u001b[0;31m         \u001b[0mmy_call\u001b[0m\u001b[0;34m(\u001b[0m\u001b[0;34m[\u001b[0m\u001b[0;34m\"../preprocess/get_frequency_all\"\u001b[0m\u001b[0;34m,\u001b[0m \u001b[0mpath_corpus\u001b[0m\u001b[0;34m,\u001b[0m \u001b[0mdir_cache\u001b[0m\u001b[0;34m]\u001b[0m\u001b[0;34m,\u001b[0m \u001b[0mcwd\u001b[0m\u001b[0;34m=\u001b[0m\u001b[0;34m\"../preprocess\"\u001b[0m\u001b[0;34m)\u001b[0m\u001b[0;34m\u001b[0m\u001b[0m\n\u001b[0m\u001b[1;32m    226\u001b[0m     \u001b[0;32mfor\u001b[0m \u001b[0mline\u001b[0m \u001b[0;32min\u001b[0m \u001b[0mopen\u001b[0m\u001b[0;34m(\u001b[0m\u001b[0mos\u001b[0m\u001b[0;34m.\u001b[0m\u001b[0mpath\u001b[0m\u001b[0;34m.\u001b[0m\u001b[0mjoin\u001b[0m\u001b[0;34m(\u001b[0m\u001b[0mdir_cache\u001b[0m\u001b[0;34m,\u001b[0m\u001b[0;34m\"frequencies\"\u001b[0m\u001b[0;34m)\u001b[0m\u001b[0;34m)\u001b[0m\u001b[0;34m:\u001b[0m\u001b[0;34m\u001b[0m\u001b[0m\n\u001b[1;32m    227\u001b[0m         \u001b[0mtokens\u001b[0m\u001b[0;34m=\u001b[0m\u001b[0mline\u001b[0m\u001b[0;34m.\u001b[0m\u001b[0msplit\u001b[0m\u001b[0;34m(\u001b[0m\u001b[0;34m)\u001b[0m\u001b[0;34m\u001b[0m\u001b[0m\n",
        "\u001b[0;32m/home/blackbird/Cloud/Dropbox/Collaboration/Anna/Botva/DistributionalSimilarity/python/vsmlib/similarity.py\u001b[0m in \u001b[0;36mmy_call\u001b[0;34m(launch_params, **kwargs)\u001b[0m\n\u001b[1;32m     42\u001b[0m         \u001b[0mprint\u001b[0m \u001b[0;34m(\u001b[0m\u001b[0;34m\"There were some errors\"\u001b[0m\u001b[0;34m)\u001b[0m\u001b[0;34m\u001b[0m\u001b[0m\n\u001b[1;32m     43\u001b[0m         \u001b[0mprint\u001b[0m \u001b[0;34m(\u001b[0m\u001b[0moutput\u001b[0m\u001b[0;34m[\u001b[0m\u001b[0;36m1\u001b[0m\u001b[0;34m]\u001b[0m\u001b[0;34m)\u001b[0m\u001b[0;34m\u001b[0m\u001b[0m\n\u001b[0;32m---> 44\u001b[0;31m         \u001b[0;32mraise\u001b[0m \u001b[0mBaseException\u001b[0m\u001b[0;34m(\u001b[0m\u001b[0;34m)\u001b[0m\u001b[0;34m\u001b[0m\u001b[0m\n\u001b[0m\u001b[1;32m     45\u001b[0m     \u001b[0;31m#   print (\"out:\",output[0])\u001b[0m\u001b[0;34m\u001b[0m\u001b[0;34m\u001b[0m\u001b[0m\n\u001b[1;32m     46\u001b[0m \u001b[0;34m\u001b[0m\u001b[0m\n",
        "\u001b[0;31mBaseException\u001b[0m: "
       ]
      },
      {
       "output_type": "stream",
       "stream": "stdout",
       "text": [
        "There were some errors\n",
        "b\"terminate called after throwing an instance of 'std::runtime_error'\\n  what():  can not open corpus file\\n\"\n"
       ]
      }
     ],
     "prompt_number": 4
    },
    {
     "cell_type": "code",
     "collapsed": false,
     "input": [
      "#similarity.cmp_words(\"quick\",\"fast\")\n",
      "#similarity.cmp_words(\"pensive\",\"fast\")\n",
      "#similarity.CollocationMeasures.raw_frequency(\"fast\").most_common(12)\n",
      "similarity.CollocationMeasures.pmi(\"fast\").most_common(15)\n",
      "#timeit.timeit('similarity.get_cfd(\"fast\").most_common(12)',setup=\"import similarity\")\n",
      "#start=time.time()\n",
      "#similarity.get_cfd(\"fast\").most_common(12)\n",
      "#time.time()-start\n",
      "\n",
      "#import pstats\n",
      "#p = pstats.Stats('profile.log')\n",
      "#p.strip_dirs().sort_stats(-1).print_stats()\n",
      "#p.sort_stats('cumulative').print_stats(20)"
     ],
     "language": "python",
     "metadata": {},
     "outputs": [
      {
       "metadata": {},
       "output_type": "pyout",
       "prompt_number": 5,
       "text": [
        "[]"
       ]
      }
     ],
     "prompt_number": 5
    },
    {
     "cell_type": "code",
     "collapsed": false,
     "input": [
      "#similarity.cmp_words(\"quick\",\"fast\")\n",
      "#similarity.show_common_context(\"pensive\",\"caged\")\n",
      "#similarity.CollocationMeasures.pmi(\"caged\").most_common(20)\n",
      "#similarity.collocation_measure=similarity.CollocationMeasures.pmi\n",
      "#similarity.cmp_first_tail([\"pensive\",\"caged\",\"caged\"])\n",
      "similarity.cmp_words(\"pensive\",\"thoughtful\")"
     ],
     "language": "python",
     "metadata": {},
     "outputs": [
      {
       "ename": "TypeError",
       "evalue": "'NoneType' object is not callable",
       "output_type": "pyerr",
       "traceback": [
        "\u001b[0;31m---------------------------------------------------------------------------\u001b[0m\n\u001b[0;31mTypeError\u001b[0m                                 Traceback (most recent call last)",
        "\u001b[0;32m<ipython-input-6-f2034f6a81ca>\u001b[0m in \u001b[0;36m<module>\u001b[0;34m()\u001b[0m\n\u001b[1;32m      4\u001b[0m \u001b[0;31m#similarity.collocation_measure=similarity.CollocationMeasures.pmi\u001b[0m\u001b[0;34m\u001b[0m\u001b[0;34m\u001b[0m\u001b[0m\n\u001b[1;32m      5\u001b[0m \u001b[0;31m#similarity.cmp_first_tail([\"pensive\",\"caged\",\"caged\"])\u001b[0m\u001b[0;34m\u001b[0m\u001b[0;34m\u001b[0m\u001b[0m\n\u001b[0;32m----> 6\u001b[0;31m \u001b[0msimilarity\u001b[0m\u001b[0;34m.\u001b[0m\u001b[0mcmp_words\u001b[0m\u001b[0;34m(\u001b[0m\u001b[0;34m\"pensive\"\u001b[0m\u001b[0;34m,\u001b[0m\u001b[0;34m\"thoughtful\"\u001b[0m\u001b[0;34m)\u001b[0m\u001b[0;34m\u001b[0m\u001b[0m\n\u001b[0m",
        "\u001b[0;32m/home/blackbird/Cloud/Dropbox/Collaboration/Anna/Botva/DistributionalSimilarity/python/vsmlib/similarity.py\u001b[0m in \u001b[0;36mcmp_words\u001b[0;34m(a, b)\u001b[0m\n\u001b[1;32m    137\u001b[0m \u001b[0;34m\u001b[0m\u001b[0m\n\u001b[1;32m    138\u001b[0m \u001b[0;32mdef\u001b[0m \u001b[0mcmp_words\u001b[0m\u001b[0;34m(\u001b[0m\u001b[0ma\u001b[0m\u001b[0;34m,\u001b[0m\u001b[0mb\u001b[0m\u001b[0;34m)\u001b[0m\u001b[0;34m:\u001b[0m\u001b[0;34m\u001b[0m\u001b[0m\n\u001b[0;32m--> 139\u001b[0;31m     \u001b[0;32mreturn\u001b[0m \u001b[0mmetric\u001b[0m\u001b[0;34m(\u001b[0m\u001b[0mcollocation_measure\u001b[0m\u001b[0;34m(\u001b[0m\u001b[0ma\u001b[0m\u001b[0;34m)\u001b[0m\u001b[0;34m,\u001b[0m\u001b[0mcollocation_measure\u001b[0m\u001b[0;34m(\u001b[0m\u001b[0mb\u001b[0m\u001b[0;34m)\u001b[0m\u001b[0;34m)\u001b[0m\u001b[0;34m\u001b[0m\u001b[0m\n\u001b[0m\u001b[1;32m    140\u001b[0m \u001b[0;34m\u001b[0m\u001b[0m\n\u001b[1;32m    141\u001b[0m \u001b[0;32mdef\u001b[0m \u001b[0mcmp_first_tail\u001b[0m\u001b[0;34m(\u001b[0m\u001b[0ml\u001b[0m\u001b[0;34m,\u001b[0m\u001b[0mverbose\u001b[0m\u001b[0;34m=\u001b[0m\u001b[0;32mFalse\u001b[0m\u001b[0;34m)\u001b[0m\u001b[0;34m:\u001b[0m\u001b[0;34m\u001b[0m\u001b[0m\n",
        "\u001b[0;31mTypeError\u001b[0m: 'NoneType' object is not callable"
       ]
      }
     ],
     "prompt_number": 6
    },
    {
     "cell_type": "code",
     "collapsed": false,
     "input": [
      "#similarity.cmp_first_tail(cfdist,[\"remote\",\"distant\",\"savage\",\"automatic\",\"mean\"])\n",
      "#cmp_first_tail(cfdist,[\"fast\",\"distant\",\"quick\",\"automatic\",\"mean\"])\n",
      "#similarity.show_common_context(\"fast\",\"mean\")"
     ],
     "language": "python",
     "metadata": {},
     "outputs": [],
     "prompt_number": 55
    },
    {
     "cell_type": "code",
     "collapsed": false,
     "input": [
      "#similarity.show_common_context(\"remote\",\"distant\",15)"
     ],
     "language": "python",
     "metadata": {},
     "outputs": [],
     "prompt_number": 56
    },
    {
     "cell_type": "code",
     "collapsed": false,
     "input": [
      "#similarity.coolocation_measure=None\n",
      "similarity.cmp_first_tail([\"detest\",\"argue\",\"hate\",\"reveal\",\"discover\"],verbose=True)"
     ],
     "language": "python",
     "metadata": {},
     "outputs": [
      {
       "output_type": "stream",
       "stream": "stdout",
       "text": [
        "detest  vs\n",
        "argue     \t0.0937814875359127"
       ]
      },
      {
       "output_type": "stream",
       "stream": "stdout",
       "text": [
        "\n",
        "hate      \t0.17328824999547643"
       ]
      },
      {
       "output_type": "stream",
       "stream": "stdout",
       "text": [
        "\n",
        "reveal    \t0.026531325698173822"
       ]
      },
      {
       "output_type": "stream",
       "stream": "stdout",
       "text": [
        "\n",
        "discover  \t0.06169248390861881"
       ]
      },
      {
       "output_type": "stream",
       "stream": "stdout",
       "text": [
        "\n"
       ]
      },
      {
       "metadata": {},
       "output_type": "pyout",
       "prompt_number": 57,
       "text": [
        "('hate', 0.07950676245956373)"
       ]
      }
     ],
     "prompt_number": 57
    },
    {
     "cell_type": "code",
     "collapsed": false,
     "input": [
      "similarity.cmp_first_tail([\"pensive\",\"oppressed\",\"caged\",\"happy\",\"thoughtful\"],verbose=True)"
     ],
     "language": "python",
     "metadata": {},
     "outputs": [
      {
       "output_type": "stream",
       "stream": "stdout",
       "text": [
        "pensive  vs\n",
        "oppressed \t0.002439187515744683\n",
        "caged     \t0.0\n",
        "happy     \t0.07941511454449854"
       ]
      },
      {
       "output_type": "stream",
       "stream": "stdout",
       "text": [
        "\n",
        "thoughtful\t0.2771379417339275\n"
       ]
      },
      {
       "metadata": {},
       "output_type": "pyout",
       "prompt_number": 58,
       "text": [
        "('thoughtful', 0.19772282718942893)"
       ]
      }
     ],
     "prompt_number": 58
    },
    {
     "cell_type": "code",
     "collapsed": false,
     "input": [
      "def do_synonyms_test(lines):\n",
      "    output=\"\"\n",
      "    cnt_all=0;\n",
      "    cnt_correct=0;\n",
      "    lst_conf=[]\n",
      "    for tokens in lines:\n",
      "        guess,confidence=similarity.cmp_first_tail(tokens[:-1],verbose=False)\n",
      "        if guess==tokens[-1]:\n",
      "            cnt_correct+=1\n",
      "            lst_conf.append(confidence)\n",
      "        cnt_all+=1\n",
      "        #print (tokens[0],guess,guess==tokens[-1],\"\\n\")\n",
      "        output+=\"Q: \"+tokens[0]+\", A: \"+guess+\" - \"\n",
      "        if (guess==tokens[-1]):\n",
      "            output+=\"<span style=\\\"color:green\\\">correct!</span>\"\n",
      "        else:\n",
      "            output+=\"<span style=\\\"color:red\\\">wrong</span>, should be \"+tokens[-1]\n",
      "        output+=\"</br>\\n\"\n",
      "    success_rate=cnt_correct/cnt_all\n",
      "    output+=\"</br>success rate = \" + str( success_rate)+\"</br>\\n\"\n",
      "    output+=\"avg confidence = \"+ str( numpy.mean(lst_conf))+\"</br>\\n\"\n",
      "    return HTML(output)"
     ],
     "language": "python",
     "metadata": {},
     "outputs": [],
     "prompt_number": 61
    },
    {
     "cell_type": "code",
     "collapsed": false,
     "input": [
      "#similarity.collocation_measure=similarity.CollocationMeasures.raw_frequency\n",
      "similarity.metric = similarity.cmp_vectors_cosine\n",
      "\n",
      "#similarity.metric = similarity.cmp_vectors_euc\n",
      "do_synonyms_test(get_test_from_file(\"../tests/syn_easy.txt\"))\n",
      "#do_synonyms_test(get_test_from_toefl(\"../tests/toefl/toefl\"))"
     ],
     "language": "python",
     "metadata": {},
     "outputs": [
      {
       "html": [
        "Q: kind, A: nice - <span style=\"color:green\">correct!</span></br>\n",
        "Q: fast, A: quick - <span style=\"color:green\">correct!</span></br>\n",
        "Q: skinny, A: thin - <span style=\"color:green\">correct!</span></br>\n",
        "Q: remote, A: distant - <span style=\"color:green\">correct!</span></br>\n",
        "Q: detest, A: hate - <span style=\"color:green\">correct!</span></br>\n",
        "Q: gracious, A: pleasant - <span style=\"color:green\">correct!</span></br>\n",
        "Q: predict, A: foretell - <span style=\"color:green\">correct!</span></br>\n",
        "Q: kin, A: twist - <span style=\"color:red\">wrong</span>, should be relative</br>\n",
        "Q: pensive, A: thoughtful - <span style=\"color:green\">correct!</span></br>\n",
        "Q: banish, A: hate - <span style=\"color:red\">wrong</span>, should be exile</br>\n",
        "Q: saccharine, A: sweet - <span style=\"color:green\">correct!</span></br>\n",
        "Q: drag, A: pull - <span style=\"color:green\">correct!</span></br>\n",
        "</br>success rate = 0.8333333333333334</br>\n",
        "avg confidence = 0.171788020582</br>\n"
       ],
       "metadata": {},
       "output_type": "pyout",
       "prompt_number": 62,
       "text": [
        "<IPython.core.display.HTML at 0x7f54257effd0>"
       ]
      }
     ],
     "prompt_number": 62
    },
    {
     "cell_type": "code",
     "collapsed": false,
     "input": [
      "#similarity.cmp_first_tail([\"kind\",\"nice\",\"best\"],verbose=True)\n",
      "similarity.CollocationMeasures.pmi(\"skilfully\").most_common(20)\n"
     ],
     "language": "python",
     "metadata": {},
     "outputs": [
      {
       "metadata": {},
       "output_type": "pyout",
       "prompt_number": 21,
       "text": [
        "[('-pacifies', 17.43235643695553),\n",
        " ('-aers', 16.43235643695553),\n",
        " ('-note-orders', 16.43235643695553),\n",
        " ('-biagi', 16.43235643695553),\n",
        " ('-kieselguhr', 15.847393936234374),\n",
        " ('-prokina', 15.847393936234374),\n",
        " ('-metalsmith', 15.432356436955528),\n",
        " ('little-boy', 14.847393936234374),\n",
        " ('-thieve', 14.110428342068168),\n",
        " ('remastered', 13.731916718814437),\n",
        " ('-aranjuez', 13.625001514897924),\n",
        " ('-frugally', 13.52546584134701),\n",
        " ('intercut', 13.52546584134701),\n",
        " ('deflects', 13.110428342068168),\n",
        " ('staved', 12.972924818318232),\n",
        " ('-toyboy', 12.972924818318232),\n",
        " ('entertainingly', 12.908794480898516),\n",
        " ('titbit', 12.67746893479206),\n",
        " ('-paulus', 12.574375441827955),\n",
        " ('navigated', 12.52546584134701)]"
       ]
      }
     ],
     "prompt_number": 21
    },
    {
     "cell_type": "code",
     "collapsed": false,
     "input": [
      "similarity.show_common_context(\"kin\",\"relative\")"
     ],
     "language": "python",
     "metadata": {},
     "outputs": [
      {
       "output_type": "stream",
       "stream": "stdout",
       "text": [
        "importance   \t 1 \t 188\n",
        "risk         \t 0 \t 100\n",
        "merits       \t 0 \t 86\n",
        "autonomy     \t 0 \t 79\n",
        "prices       \t 0 \t 73\n",
        "decline      \t 0 \t 59\n",
        "lack         \t 0 \t 59\n",
        "price        \t 0 \t 55\n",
        "friend       \t 0 \t 52\n",
        "terms        \t 10 \t 37\n",
        "molecular    \t 0 \t 45\n",
        "group        \t 26 \t 2\n",
        "selection    \t 25 \t 0\n",
        "support      \t 18 \t 4\n",
        "groups       \t 19 \t 0\n",
        "relationships \t 17 \t 0\n",
        "relations    \t 15 \t 0\n",
        "friends      \t 14 \t 1\n",
        "see          \t 11 \t 0\n",
        "neighbours   \t 9 \t 1\n"
       ]
      }
     ],
     "prompt_number": 13
    },
    {
     "cell_type": "code",
     "collapsed": false,
     "input": [
      "similarity.show_common_context(\"kind\",\"best\")"
     ],
     "language": "python",
     "metadata": {},
     "outputs": [
      {
       "output_type": "stream",
       "stream": "stdout",
       "text": [
        "thing        \t 705 \t 590\n",
        "way          \t 97 \t 1186\n",
        "known        \t 17 \t 737\n",
        "interests    \t 1 \t 488\n",
        "possible     \t 10 \t 423\n",
        "friend       \t 15 \t 406\n",
        "man          \t 159 \t 206\n",
        "use          \t 14 \t 251\n",
        "work         \t 150 \t 109\n",
        "time         \t 26 \t 226\n",
        "people       \t 130 \t 111\n",
        "part         \t 9 \t 212\n",
        "things       \t 134 \t 62\n",
        "person       \t 146 \t 47\n",
        "another      \t 110 \t 6\n",
        "enough       \t 104 \t 2\n",
        "information  \t 82 \t 18\n"
       ]
      }
     ],
     "prompt_number": 14
    },
    {
     "cell_type": "code",
     "collapsed": false,
     "input": [
      "scores = [3,6,2,1,3]\n",
      "sorted(scores)[-1]-sorted(scores)[-2]\n",
      "#sorted(scores)\n"
     ],
     "language": "python",
     "metadata": {},
     "outputs": [
      {
       "metadata": {},
       "output_type": "pyout",
       "prompt_number": 15,
       "text": [
        "3"
       ]
      }
     ],
     "prompt_number": 15
    },
    {
     "cell_type": "code",
     "collapsed": false,
     "input": [
      "cfd = nltk.ConditionalFreqDist()\n",
      "cfd[\"apple\"][\"orange\"]=2.3\n",
      "cfd[\"apple\"][\"orange\"]"
     ],
     "language": "python",
     "metadata": {},
     "outputs": [
      {
       "metadata": {},
       "output_type": "pyout",
       "prompt_number": 16,
       "text": [
        "2.3"
       ]
      }
     ],
     "prompt_number": 16
    },
    {
     "cell_type": "code",
     "collapsed": false,
     "input": [
      "class bcolors:\n",
      "    HEADER = '\\033[95m'\n",
      "    OKBLUE = '\\033[94m'\n",
      "    OKGREEN = '\\033[92m'\n",
      "    WARNING = '\\033[93m'\n",
      "    FAIL = '\\033[91m'\n",
      "    ENDC = '\\033[0m'\n"
     ],
     "language": "python",
     "metadata": {},
     "outputs": [],
     "prompt_number": 103
    },
    {
     "cell_type": "code",
     "collapsed": false,
     "input": [
      "print ('\\033[1;38mCrimson like Chianti\\033[1;m')\n"
     ],
     "language": "python",
     "metadata": {},
     "outputs": [],
     "prompt_number": 107
    },
    {
     "cell_type": "code",
     "collapsed": false,
     "input": [],
     "language": "python",
     "metadata": {},
     "outputs": [
      {
       "metadata": {},
       "output_type": "pyout",
       "prompt_number": 117,
       "text": [
        "'<hr />'"
       ]
      }
     ],
     "prompt_number": 117
    },
    {
     "cell_type": "code",
     "collapsed": false,
     "input": [],
     "language": "python",
     "metadata": {},
     "outputs": []
    }
   ],
   "metadata": {}
  }
 ]
}