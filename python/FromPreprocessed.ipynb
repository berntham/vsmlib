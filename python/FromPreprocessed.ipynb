{
 "metadata": {
  "name": ""
 },
 "nbformat": 3,
 "nbformat_minor": 0,
 "worksheets": [
  {
   "cells": [
    {
     "cell_type": "code",
     "collapsed": false,
     "input": [
      "import nltk\n",
      "import similarity\n",
      "import os\n",
      "import socket\n",
      "from imp import reload\n",
      "import timeit\n",
      "import time"
     ],
     "language": "python",
     "metadata": {},
     "outputs": [],
     "prompt_number": 5
    },
    {
     "cell_type": "code",
     "collapsed": false,
     "input": [
      "reload(similarity)\n",
      "#if socket.gethostname()==\"cypress\": similarity.path_corpus = \"/storage/corpora/BNC/all.txt\"\n",
      "if socket.gethostname()==\"ashtree\":\n",
      "    similarity.path_corpus = \"/mnt/storage/Corpora/BNC/all.txt\"\n",
      "    similarity.dir_cache = \"/mnt/work/nlp_scratch\"\n",
      "#similarity.purge()\n"
     ],
     "language": "python",
     "metadata": {},
     "outputs": [],
     "prompt_number": 6
    },
    {
     "cell_type": "code",
     "collapsed": false,
     "input": [
      "#similarity.cmp_words(\"quick\",\"fast\")\n",
      "#similarity.cmp_words(\"pensive\",\"fast\")\n",
      "#similarity.CollocationMeasures.raw_frequency(\"fast\").most_common(12)\n",
      "#similarity.CollocationMeasures.pmi(\"fast\").most_common(12)\n",
      "#timeit.timeit('similarity.get_cfd(\"fast\").most_common(12)',setup=\"import similarity\")\n",
      "#start=time.time()\n",
      "#similarity.get_cfd(\"fast\").most_common(12)\n",
      "#time.time()-start\n",
      "\n",
      "#import pstats\n",
      "#p = pstats.Stats('profile.log')\n",
      "#p.strip_dirs().sort_stats(-1).print_stats()\n",
      "#p.sort_stats('cumulative').print_stats(20)"
     ],
     "language": "python",
     "metadata": {},
     "outputs": [],
     "prompt_number": 7
    },
    {
     "cell_type": "code",
     "collapsed": false,
     "input": [
      "#similarity.cmp_words(\"quick\",\"fast\")\n",
      "#similarity.show_common_context(\"fast\",\"quick\")\n",
      "similarity.CollocationMeasures.pmi(\"fast\")"
     ],
     "language": "python",
     "metadata": {},
     "outputs": [
      {
       "output_type": "stream",
       "stream": "stdout",
       "text": [
        "ow, prefetched 0 frequency for acceleration_deceleration\n",
        "ow, prefetched 0 frequency for dump_restore\n",
        "ow, prefetched 0 frequency for words_min\n",
        "ow, prefetched 0 frequency for"
       ]
      },
      {
       "output_type": "stream",
       "stream": "stdout",
       "text": [
        " growth_high\n",
        "ow, prefetched 0 frequency for slow_static\n",
        "ow, prefetched 0 frequency for rap_slow\n",
        "ow, prefetched 0 frequency for"
       ]
      },
      {
       "output_type": "stream",
       "stream": "stdout",
       "text": [
        " orbits_min\n",
        "ow, prefetched 0 frequency for hammer-on_pull\n"
       ]
      },
      {
       "metadata": {},
       "output_type": "pyout",
       "prompt_number": 8,
       "text": [
        "<FreqDist with 2473 samples and 8 outcomes>"
       ]
      }
     ],
     "prompt_number": 8
    },
    {
     "cell_type": "code",
     "collapsed": false,
     "input": [
      "#similarity.cmp_first_tail(cfdist,[\"remote\",\"distant\",\"savage\",\"automatic\",\"mean\"])\n",
      "#cmp_first_tail(cfdist,[\"fast\",\"distant\",\"quick\",\"automatic\",\"mean\"])\n",
      "#similarity.show_common_context(\"fast\",\"mean\")"
     ],
     "language": "python",
     "metadata": {},
     "outputs": []
    },
    {
     "cell_type": "code",
     "collapsed": false,
     "input": [
      "#similarity.show_common_context(\"remote\",\"distant\",15)"
     ],
     "language": "python",
     "metadata": {},
     "outputs": [],
     "prompt_number": 9
    },
    {
     "cell_type": "code",
     "collapsed": false,
     "input": [
      "similarity.collocation_measure=similarity.CollocationMeasures.pmi\n",
      "#similarity.coolocation_measure=None\n",
      "similarity.cmp_first_tail([\"detest\",\"argue\",\"hate\",\"reveal\",\"discover\"],verbose=True)"
     ],
     "language": "python",
     "metadata": {},
     "outputs": [
      {
       "output_type": "stream",
       "stream": "stdout",
       "text": [
        "detest  vs\n",
        "ow, prefetched 0 frequency for"
       ]
      },
      {
       "output_type": "stream",
       "stream": "stdout",
       "text": [
        " local_central\n",
        "ow, prefetched 0 frequency for ace_intel\n",
        "ow, prefetched 0 frequency for employer_employee\n",
        "ow, prefetched 0 frequency for power_knowledge\n",
        "argue     \t8.558310333096998e-12\n",
        "ow, prefetched 0 frequency for"
       ]
      },
      {
       "output_type": "stream",
       "stream": "stdout",
       "text": [
        " blues_eddie\n",
        "hate      \t2.9152914636573877e-10\n",
        "reveal    \t4.41387468248991e-13"
       ]
      },
      {
       "output_type": "stream",
       "stream": "stdout",
       "text": [
        "\n",
        "ow, prefetched 0 frequency for"
       ]
      },
      {
       "output_type": "stream",
       "stream": "stdout",
       "text": [
        " remedial_\n",
        "discover  \t1.4403014620850319e-12\n"
       ]
      },
      {
       "metadata": {},
       "output_type": "pyout",
       "prompt_number": 10,
       "text": [
        "'hate'"
       ]
      }
     ],
     "prompt_number": 10
    },
    {
     "cell_type": "code",
     "collapsed": false,
     "input": [
      "similarity.cmp_first_tail([\"pensive\",\"oppressed\",\"caged\",\"happy\",\"thoughtful\"])"
     ],
     "language": "python",
     "metadata": {},
     "outputs": [
      {
       "output_type": "stream",
       "stream": "stdout",
       "text": [
        "ow, prefetched 0 frequency for voyages_sailing\n",
        "ow, prefetched 0 frequency for lover_lovers\n",
        "ow, prefetched 0 frequency for short_medium\n",
        "ow, prefetched 0 frequency for affair_caused\n"
       ]
      },
      {
       "metadata": {},
       "output_type": "pyout",
       "prompt_number": 11,
       "text": [
        "'thoughtful'"
       ]
      }
     ],
     "prompt_number": 11
    },
    {
     "cell_type": "code",
     "collapsed": false,
     "input": [
      "def do_synonyms_test(name_file):\n",
      "    cnt_all=0;\n",
      "    cnt_correct=0;\n",
      "    for line in open(name_file).readlines():\n",
      "        tokens = [token.lower() for token in line.split()]\n",
      "        if len(tokens)<2: continue\n",
      "        #print (\"tokens = \", tokens)\n",
      "        guess=similarity.cmp_first_tail(tokens[:-1],verbose=True)\n",
      "        if guess==tokens[-1]: cnt_correct+=1\n",
      "        cnt_all+=1\n",
      "        print (tokens[0],guess,guess==tokens[-1],\"\\n\")\n",
      "    success_rate=cnt_correct/cnt_all\n",
      "    return success_rate"
     ],
     "language": "python",
     "metadata": {},
     "outputs": [],
     "prompt_number": 12
    },
    {
     "cell_type": "code",
     "collapsed": false,
     "input": [
      "#similarity.collocation_measure=similarity.CollocationMeasures.raw_frequency\n",
      "similarity.collocation_measure=similarity.CollocationMeasures.pmi\n",
      "#similarity.metric = similarity.cmp_vectors_euc\n",
      "similarity.metric = similarity.cmp_vectors_cosine\n",
      "do_synonyms_test(\"../tests/syn_easy.txt\")"
     ],
     "language": "python",
     "metadata": {},
     "outputs": [
      {
       "output_type": "stream",
       "stream": "stdout",
       "text": [
        "kind  vs\n",
        "ow, prefetched 0 frequency for"
       ]
      },
      {
       "output_type": "stream",
       "stream": "stdout",
       "text": [
        " spl_db_wattage\n",
        "ow, prefetched 0 frequency for go_no.go\n",
        "ow, prefetched 0 frequency for"
       ]
      },
      {
       "output_type": "stream",
       "stream": "stdout",
       "text": [
        " planer_thicknesser\n",
        "ow, prefetched 0 frequency for motherly_sisterly\n",
        "ow, prefetched 0 frequency for"
       ]
      },
      {
       "output_type": "stream",
       "stream": "stdout",
       "text": [
        " alternative_college\n",
        "ow, prefetched 0 frequency for sports_entertainment\n",
        "ow, prefetched 0 frequency for"
       ]
      },
      {
       "output_type": "stream",
       "stream": "stdout",
       "text": [
        " touches_skill\n",
        "nice      \t1.595374835817937e-11\n",
        "ow, prefetched 0 frequency for"
       ]
      },
      {
       "output_type": "stream",
       "stream": "stdout",
       "text": [
        " rpo_leibowitz\n",
        "ow, prefetched 0 frequency for muirhouse_animal\n",
        "ow, prefetched 0 frequency for colinton_animal\n",
        "ow, prefetched 0 frequency for ac_dc\n",
        "ow, prefetched 0 frequency for p57_\n",
        "ow, prefetched 0 frequency for currie_animal\n",
        "wild      \t9.794564898494993e-12\n",
        "ow, prefetched 0 frequency for"
       ]
      },
      {
       "output_type": "stream",
       "stream": "stdout",
       "text": [
        " customers_patients_pupils_incidents\n",
        "ow, prefetched 0 frequency for singer_songwriter\n",
        "funny     \t3.5105623417134453e-12\n",
        "ow, prefetched 0 frequency for"
       ]
      },
      {
       "output_type": "stream",
       "stream": "stdout",
       "text": [
        " him_her\n",
        "ow, prefetched 0 frequency for daughter's_son's_friend's's\n",
        "ow, prefetched 0 frequency for talk_interview\n",
        "ow, prefetched 0 frequency for"
       ]
      },
      {
       "output_type": "stream",
       "stream": "stdout",
       "text": [
        " strength_weight\n",
        "ow, prefetched 0 frequency for win_loss\n",
        "ow, prefetched 0 frequency for man_\n",
        "ow, prefetched 0 frequency for piecewise_uniform\n",
        "ow, prefetched 0 frequency for j_44\n",
        "ow, prefetched 0 frequency for"
       ]
      },
      {
       "output_type": "stream",
       "stream": "stdout",
       "text": [
        " fruit_fruit\n",
        "ow, prefetched 0 frequency for adventure_rpg\n",
        "ow, prefetched 0 frequency for romantic_cosmic_evolutionary\n",
        "ow, prefetched 0 frequency for price_performance\n",
        "ow, prefetched 0 frequency for space_speed\n",
        "ow, prefetched 0 frequency for"
       ]
      },
      {
       "output_type": "stream",
       "stream": "stdout",
       "text": [
        " cabinet_worktop\n",
        "ow, prefetched 0 frequency for pupil_patient\n",
        "ow, prefetched 0 frequency for dollar_pound-per-mips\n",
        "ow, prefetched 0 frequency for was_is\n",
        "best      \t1.3026619443912136e-11\n",
        "kind nice True \n",
        "\n",
        "fast  vs\n",
        "quick     \t5.719060650750045e-09"
       ]
      },
      {
       "output_type": "stream",
       "stream": "stdout",
       "text": [
        "\n",
        "kind      \t7.180451095883341e-12\n",
        "ow, prefetched 0 frequency for"
       ]
      },
      {
       "output_type": "stream",
       "stream": "stdout",
       "text": [
        " load_project\n",
        "ow, prefetched 0 frequency for rock_\n",
        "ow, prefetched 0 frequency for page_of\n",
        "ow, prefetched 0 frequency for domestic_general\n",
        "ow, prefetched 0 frequency for cents_bbl\n",
        "ow, prefetched 0 frequency for b_b\n",
        "ow, prefetched 0 frequency for bus_train\n",
        "heavy     \t2.5747307400095023e-12\n",
        "ow, prefetched 0 frequency for"
       ]
      },
      {
       "output_type": "stream",
       "stream": "stdout",
       "text": [
        " mugs_6\n",
        "ow, prefetched 0 frequency for and_or\n",
        "ow, prefetched 0 frequency for r_t\n",
        "ow, prefetched 0 frequency for"
       ]
      },
      {
       "output_type": "stream",
       "stream": "stdout",
       "text": [
        " visible_uv\n",
        "ow, prefetched 0 frequency for hotels_pensions\n",
        "ow, prefetched 0 frequency for office_utility\n",
        "ow, prefetched 0 frequency for"
       ]
      },
      {
       "output_type": "stream",
       "stream": "stdout",
       "text": [
        " dressing_undressing\n",
        "ow, prefetched 0 frequency for group_rest\n",
        "ow, prefetched 0 frequency for forwards_back\n",
        "ow, prefetched 0 frequency for boxes_parcels\n",
        "small     \t4.17445478984389e-12"
       ]
      },
      {
       "output_type": "stream",
       "stream": "stdout",
       "text": [
        "\n",
        "fast quick True \n",
        "\n",
        "skinny  vs\n",
        "small     \t3.218042733763368e-11"
       ]
      },
      {
       "output_type": "stream",
       "stream": "stdout",
       "text": [
        "\n",
        "ow, prefetched 0 frequency for"
       ]
      },
      {
       "output_type": "stream",
       "stream": "stdout",
       "text": [
        " news_\n",
        "ow, prefetched 0 frequency for recruitment_\n",
        "ow, prefetched 0 frequency for have_am\n",
        "ow, prefetched 0 frequency for"
       ]
      },
      {
       "output_type": "stream",
       "stream": "stdout",
       "text": [
        " cat_\n",
        "ow, prefetched 0 frequency for mg_1.\n",
        "ow, prefetched 0 frequency for sub_dom\n",
        "ow, prefetched 0 frequency for r_c\n",
        "ow, prefetched 0 frequency for litres_hectare\n",
        "ow, prefetched 0 frequency for s$5_sq\n",
        "ow, prefetched 0 frequency for"
       ]
      },
      {
       "output_type": "stream",
       "stream": "stdout",
       "text": [
        " mg_l.\n",
        "ow, prefetched 0 frequency for sh.200_\n",
        "ow, prefetched 0 frequency for s_he\n",
        "ow, prefetched 0 frequency for cheering_in\n",
        "ow, prefetched 0 frequency for brown_warner\n",
        "little    \t8.455699765403191e-10"
       ]
      },
      {
       "output_type": "stream",
       "stream": "stdout",
       "text": [
        "\n",
        "shin      \t3.537569138523373e-10"
       ]
      },
      {
       "output_type": "stream",
       "stream": "stdout",
       "text": [
        "\n",
        "ow, prefetched 0 frequency for"
       ]
      },
      {
       "output_type": "stream",
       "stream": "stdout",
       "text": [
        " fact_value\n",
        "ow, prefetched 0 frequency for enthalpy_entropy\n",
        "ow, prefetched 0 frequency for funky_african\n",
        "ow, prefetched 0 frequency for gale_smart\n",
        "ow, prefetched 0 frequency for hox_lacz\n",
        "ow, prefetched 0 frequency for rural_urban\n",
        "ow, prefetched 0 frequency for masculine_feminine\n",
        "ow, prefetched 0 frequency for yeast_celery\n",
        "ow, prefetched 0 frequency for god_hero\n",
        "ow, prefetched 0 frequency for"
       ]
      },
      {
       "output_type": "stream",
       "stream": "stdout",
       "text": [
        " accountancy_customer\n",
        "strong    \t1.0449841649391134e-11\n",
        "skinny little False \n",
        "\n",
        "remote  vs\n",
        "automatic \t9.881879120514044e-11"
       ]
      },
      {
       "output_type": "stream",
       "stream": "stdout",
       "text": [
        "\n",
        "ow, prefetched 0 frequency for"
       ]
      },
      {
       "output_type": "stream",
       "stream": "stdout",
       "text": [
        " nmol_h_\u00b5g\n",
        "ow, prefetched 0 frequency for iu\u00d710_h\n",
        "ow, prefetched 0 frequency for episodes_day\n",
        "ow, prefetched 0 frequency for day_night\n",
        "ow, prefetched 0 frequency for nmol_\u00b5g\n",
        "ow, prefetched 0 frequency for mg_dl\n",
        "ow, prefetched 0 frequency for j_day\n",
        "ow, prefetched 0 frequency for mmol_l\n",
        "ow, prefetched 0 frequency for density_unit\n",
        "ow, prefetched 0 frequency for shit_your\n",
        "ow, prefetched 0 frequency for mmol_h\n",
        "ow, prefetched 0 frequency for mu_l\n",
        "ow, prefetched 0 frequency for p_es\n",
        "ow, prefetched 0 frequency for ml_day\n",
        "ow, prefetched 0 frequency for"
       ]
      },
      {
       "output_type": "stream",
       "stream": "stdout",
       "text": [
        " don_r\n",
        "ow, prefetched 0 frequency for mg_kg_day\n",
        "ow, prefetched 0 frequency for redshift_distance\n",
        "ow, prefetched 0 frequency for iu_l\n",
        "ow, prefetched 0 frequency for g_day\n",
        "ow, prefetched 0 frequency for private_public\n",
        "ow, prefetched 0 frequency for short_mid\n",
        "ow, prefetched 0 frequency for cells_specimen\n",
        "mean      \t3.599069662068573e-11"
       ]
      },
      {
       "output_type": "stream",
       "stream": "stdout",
       "text": [
        "\n",
        "savage    \t1.1908262684781615e-10"
       ]
      },
      {
       "output_type": "stream",
       "stream": "stdout",
       "text": [
        "\n",
        "ow, prefetched 0 frequency for"
       ]
      },
      {
       "output_type": "stream",
       "stream": "stdout",
       "text": [
        " ophir_rowing\n",
        "ow, prefetched 0 frequency for us_european\n",
        "distant   \t5.27828393302794e-10\n",
        "remote distant True \n",
        "\n",
        "detest  vs\n",
        "argue     \t8.558310333096998e-12\n",
        "reveal    \t4.41387468248991e-13\n",
        "hate      \t2.9152914636573877e-10\n",
        "discover  \t1.4403014620850319e-12\n",
        "detest hate True \n",
        "\n",
        "gracious  vs\n",
        "ow, prefetched 0 frequency for"
       ]
      },
      {
       "output_type": "stream",
       "stream": "stdout",
       "text": [
        " king_whose\n",
        "ow, prefetched 0 frequency for"
       ]
      },
      {
       "output_type": "stream",
       "stream": "stdout",
       "text": [
        " he_she\n",
        "clever    \t2.9171229352561216e-12\n",
        "ow, prefetched 0 frequency for"
       ]
      },
      {
       "output_type": "stream",
       "stream": "stdout",
       "text": [
        " pink_a\n",
        "ow, prefetched 0 frequency for girl_handsome\n",
        "pretty    \t7.197434448574975e-12\n",
        "ow, prefetched 0 frequency for"
       ]
      },
      {
       "output_type": "stream",
       "stream": "stdout",
       "text": [
        " increase_decrease\n",
        "ow, prefetched 0 frequency for tax_benefit\n",
        "ow, prefetched 0 frequency for facts_information\n",
        "ow, prefetched 0 frequency for political_\n",
        "ow, prefetched 0 frequency for his_her\n",
        "ow, prefetched 0 frequency for"
       ]
      },
      {
       "output_type": "stream",
       "stream": "stdout",
       "text": [
        " jazz_big\n",
        "ow, prefetched 0 frequency for secretary_manager\n",
        "ow, prefetched 0 frequency for rye_midrips\n",
        "ow, prefetched 0 frequency for himself_herself\n",
        "ow, prefetched 0 frequency for in_b_\n",
        "ow, prefetched 0 frequency for drtf1_e2f\n",
        "ow, prefetched 0 frequency for cypress_ross\n",
        "ow, prefetched 0 frequency for gathering_reunion\n",
        "present   \t2.35456894738927e-10\n",
        "ow, prefetched 0 frequency for"
       ]
      },
      {
       "output_type": "stream",
       "stream": "stdout",
       "text": [
        " breakfast_dining\n",
        "pleasant  \t2.2301583621956682e-11\n",
        "gracious present False \n",
        "\n",
        "predict  vs\n",
        "foretell  \t2.6343262885001292e-11"
       ]
      },
      {
       "output_type": "stream",
       "stream": "stdout",
       "text": [
        "\n",
        "ow, prefetched 0 frequency for"
       ]
      },
      {
       "output_type": "stream",
       "stream": "stdout",
       "text": [
        " headings_subheadings\n",
        "ow, prefetched 0 frequency for career_job\n",
        "ow, prefetched 0 frequency for social_human\n",
        "ow, prefetched 0 frequency for actions_measures\n",
        "ow, prefetched 0 frequency for him_herself\n",
        "ow, prefetched 0 frequency for vax_node\n",
        "decide    \t1.7687049641703738e-11\n",
        "discover  \t1.529412283609875e-11\n",
        "ow, prefetched 0 frequency for"
       ]
      },
      {
       "output_type": "stream",
       "stream": "stdout",
       "text": [
        " scheme_\n",
        "prevent   \t8.087970941359549e-11\n",
        "predict prevent False \n",
        "\n",
        "kin  vs\n",
        "exult     \t8.28114743014578e-15"
       ]
      },
      {
       "output_type": "stream",
       "stream": "stdout",
       "text": [
        "\n",
        "ow, prefetched 0 frequency for"
       ]
      },
      {
       "output_type": "stream",
       "stream": "stdout",
       "text": [
        " chef_patron\n",
        "friend    \t1.5081303816893834e-11"
       ]
      },
      {
       "output_type": "stream",
       "stream": "stdout",
       "text": [
        "\n",
        "ow, prefetched 0 frequency for"
       ]
      },
      {
       "output_type": "stream",
       "stream": "stdout",
       "text": [
        " military_diplomatic\n",
        "ow, prefetched 0 frequency for p_e\n",
        "relative  \t4.258122808532099e-12\n",
        "twist     \t6.066900272502207e-12"
       ]
      },
      {
       "output_type": "stream",
       "stream": "stdout",
       "text": [
        "\n",
        "kin friend False \n",
        "\n",
        "pensive  vs\n",
        "caged     \t0.0\n",
        "thoughtful\t3.8777706305064754e-11\n",
        "oppressed \t5.603969731675342e-15\n",
        "happy     \t4.55321271351968e-12\n",
        "pensive thoughtful True \n",
        "\n",
        "banish  vs\n",
        "hate      \t1.470067250458388e-11"
       ]
      },
      {
       "output_type": "stream",
       "stream": "stdout",
       "text": [
        "\n",
        "exile     \t3.812544126070504e-12"
       ]
      },
      {
       "output_type": "stream",
       "stream": "stdout",
       "text": [
        "\n",
        "fade      \t1.964900366404113e-12"
       ]
      },
      {
       "output_type": "stream",
       "stream": "stdout",
       "text": [
        "\n",
        "ow, prefetched 0 frequency for"
       ]
      },
      {
       "output_type": "stream",
       "stream": "stdout",
       "text": [
        " read_write\n",
        "ow, prefetched 0 frequency for bath_wc\n",
        "clean     \t1.4056392449189458e-12\n",
        "banish hate False \n",
        "\n",
        "saccharine  vs\n",
        "ow, prefetched 0 frequency for"
       ]
      },
      {
       "output_type": "stream",
       "stream": "stdout",
       "text": [
        " children_young\n",
        "ow, prefetched 0 frequency for l_r\n",
        "ow, prefetched 0 frequency for books_journals\n",
        "ow, prefetched 0 frequency for side_\n",
        "ow, prefetched 0 frequency for x_open\n",
        "leave     \t1.43164609260914e-12\n",
        "ow, prefetched 0 frequency for"
       ]
      },
      {
       "output_type": "stream",
       "stream": "stdout",
       "text": [
        " converse_with\n",
        "sweet     \t2.405016474462071e-10\n",
        "quit      \t1.9484723538739649e-13"
       ]
      },
      {
       "output_type": "stream",
       "stream": "stdout",
       "text": [
        "\n",
        "arid      \t1.412236979301373e-11"
       ]
      },
      {
       "output_type": "stream",
       "stream": "stdout",
       "text": [
        "\n",
        "saccharine sweet False \n",
        "\n",
        "drag  vs\n",
        "ow, prefetched 0 frequency for"
       ]
      },
      {
       "output_type": "stream",
       "stream": "stdout",
       "text": [
        " people_satin\n",
        "sleepy    \t1.765712651678019e-10\n",
        "proud     \t5.403022181849908e-12"
       ]
      },
      {
       "output_type": "stream",
       "stream": "stdout",
       "text": [
        "\n",
        "ow, prefetched 0 frequency for"
       ]
      },
      {
       "output_type": "stream",
       "stream": "stdout",
       "text": [
        " increments_30\n",
        "pull      \t4.8057071406685055e-09\n",
        "crush     \t3.265357049530924e-12"
       ]
      },
      {
       "output_type": "stream",
       "stream": "stdout",
       "text": [
        "\n",
        "drag pull True \n",
        "\n"
       ]
      },
      {
       "metadata": {},
       "output_type": "pyout",
       "prompt_number": 13,
       "text": [
        "0.5"
       ]
      }
     ],
     "prompt_number": 13
    },
    {
     "cell_type": "code",
     "collapsed": false,
     "input": [
      "similarity.cmp_first_tail([\"kind\",\"nice\",\"best\"],verbose=True)"
     ],
     "language": "python",
     "metadata": {},
     "outputs": [
      {
       "output_type": "stream",
       "stream": "stdout",
       "text": [
        "kind  vs\n",
        "nice      \t7.085976359212349e-12\n",
        "best      \t4.002918954295382e-12\n"
       ]
      },
      {
       "metadata": {},
       "output_type": "pyout",
       "prompt_number": 63,
       "text": [
        "'nice'"
       ]
      }
     ],
     "prompt_number": 63
    },
    {
     "cell_type": "code",
     "collapsed": false,
     "input": [
      "similarity.show_common_context(\"kind\",\"nice\")"
     ],
     "language": "python",
     "metadata": {},
     "outputs": [
      {
       "output_type": "stream",
       "stream": "stdout",
       "text": [
        "thing        \t 705 \t 65\n",
        "little       \t 11 \t 374\n",
        "man          \t 159 \t 133\n",
        "people       \t 130 \t 138\n",
        "see          \t 21 \t 236\n",
        "person       \t 146 \t 78\n",
        "things       \t 134 \t 88\n",
        "one          \t 37 \t 183\n",
        "work         \t 150 \t 46\n",
        "know         \t 43 \t 139\n",
        "day          \t 13 \t 163\n",
        "said         \t 60 \t 93\n",
        "way          \t 97 \t 54\n",
        "enough       \t 104 \t 41\n",
        "girl         \t 38 \t 93\n",
        "another      \t 110 \t 5\n",
        "nice         \t 5 \t 105\n",
        "information  \t 82 \t 0\n"
       ]
      }
     ],
     "prompt_number": 57
    },
    {
     "cell_type": "code",
     "collapsed": false,
     "input": [
      "similarity.show_common_context(\"kind\",\"best\")"
     ],
     "language": "python",
     "metadata": {},
     "outputs": []
    },
    {
     "cell_type": "code",
     "collapsed": false,
     "input": [],
     "language": "python",
     "metadata": {},
     "outputs": [],
     "prompt_number": 13
    },
    {
     "cell_type": "code",
     "collapsed": false,
     "input": [
      "cfd = nltk.ConditionalFreqDist()\n",
      "cfd[\"apple\"][\"orange\"]=2.3\n",
      "cfd[\"apple\"][\"orange\"]"
     ],
     "language": "python",
     "metadata": {},
     "outputs": [
      {
       "metadata": {},
       "output_type": "pyout",
       "prompt_number": 14,
       "text": [
        "2.3"
       ]
      }
     ],
     "prompt_number": 14
    },
    {
     "cell_type": "code",
     "collapsed": false,
     "input": [],
     "language": "python",
     "metadata": {},
     "outputs": [],
     "prompt_number": 14
    },
    {
     "cell_type": "code",
     "collapsed": false,
     "input": [],
     "language": "python",
     "metadata": {},
     "outputs": []
    }
   ],
   "metadata": {}
  }
 ]
}