{
 "metadata": {
  "name": ""
 },
 "nbformat": 3,
 "nbformat_minor": 0,
 "worksheets": [
  {
   "cells": [
    {
     "cell_type": "code",
     "collapsed": false,
     "input": [
      "import nltk\n",
      "import similarity\n",
      "import os\n",
      "import socket\n",
      "from imp import reload\n",
      "import timeit\n",
      "import time\n",
      "import numpy\n",
      "from IPython.display import HTML"
     ],
     "language": "python",
     "metadata": {},
     "outputs": [],
     "prompt_number": 92
    },
    {
     "cell_type": "code",
     "collapsed": false,
     "input": [
      "reload(similarity)\n",
      "#if socket.gethostname()==\"cypress\": similarity.path_corpus = \"/storage/corpora/BNC/all.txt\"\n",
      "if socket.gethostname()==\"ashtree\":\n",
      "    similarity.path_corpus = \"/mnt/storage/Corpora/BNC/all.txt\"\n",
      "    similarity.dir_cache = \"/mnt/work/nlp_scratch\"\n",
      "#similarity.purge()\n",
      "similarity.init()\n",
      "socket.gethostname()"
     ],
     "language": "python",
     "metadata": {},
     "outputs": [
      {
       "metadata": {},
       "output_type": "pyout",
       "prompt_number": 93,
       "text": [
        "'ashtree'"
       ]
      }
     ],
     "prompt_number": 93
    },
    {
     "cell_type": "code",
     "collapsed": false,
     "input": [
      "#similarity.cmp_words(\"quick\",\"fast\")\n",
      "#similarity.cmp_words(\"pensive\",\"fast\")\n",
      "#similarity.CollocationMeasures.raw_frequency(\"fast\").most_common(12)\n",
      "similarity.CollocationMeasures.pmi(\"fast\").most_common(15)\n",
      "#timeit.timeit('similarity.get_cfd(\"fast\").most_common(12)',setup=\"import similarity\")\n",
      "#start=time.time()\n",
      "#similarity.get_cfd(\"fast\").most_common(12)\n",
      "#time.time()-start\n",
      "\n",
      "#import pstats\n",
      "#p = pstats.Stats('profile.log')\n",
      "#p.strip_dirs().sort_stats(-1).print_stats()\n",
      "#p.sort_stats('cumulative').print_stats(20)"
     ],
     "language": "python",
     "metadata": {},
     "outputs": [
      {
       "metadata": {},
       "output_type": "pyout",
       "prompt_number": 94,
       "text": [
        "[('street-cleaners', 12.699448562104918),\n",
        " ('large-memory', 12.699448562104918),\n",
        " ('growe', 12.699448562104918),\n",
        " ('unmelodic', 12.699448562104918),\n",
        " ('ground-oriented', 12.699448562104918),\n",
        " ('grappling-iron', 12.699448562104918),\n",
        " ('log-flume', 12.699448562104918),\n",
        " ('akun', 12.699448562104918),\n",
        " ('atom-bombardment', 12.699448562104918),\n",
        " ('co-constituent', 12.699448562104918),\n",
        " ('in-cache', 12.699448562104918),\n",
        " ('distance-consuming', 12.699448562104918),\n",
        " ('disk-intensive', 12.699448562104918),\n",
        " ('iron-handed', 12.699448562104918),\n",
        " ('reaction-times', 12.699448562104918)]"
       ]
      }
     ],
     "prompt_number": 94
    },
    {
     "cell_type": "code",
     "collapsed": false,
     "input": [
      "#similarity.cmp_words(\"quick\",\"fast\")\n",
      "#similarity.show_common_context(\"fast\",\"quick\")\n",
      "similarity.CollocationMeasures.pmi(\"fast\")"
     ],
     "language": "python",
     "metadata": {},
     "outputs": [
      {
       "metadata": {},
       "output_type": "pyout",
       "prompt_number": 95,
       "text": [
        "<FreqDist with 2470 samples and 7093 outcomes>"
       ]
      }
     ],
     "prompt_number": 95
    },
    {
     "cell_type": "code",
     "collapsed": false,
     "input": [
      "#similarity.cmp_first_tail(cfdist,[\"remote\",\"distant\",\"savage\",\"automatic\",\"mean\"])\n",
      "#cmp_first_tail(cfdist,[\"fast\",\"distant\",\"quick\",\"automatic\",\"mean\"])\n",
      "#similarity.show_common_context(\"fast\",\"mean\")"
     ],
     "language": "python",
     "metadata": {},
     "outputs": [],
     "prompt_number": 96
    },
    {
     "cell_type": "code",
     "collapsed": false,
     "input": [
      "#similarity.show_common_context(\"remote\",\"distant\",15)"
     ],
     "language": "python",
     "metadata": {},
     "outputs": [],
     "prompt_number": 97
    },
    {
     "cell_type": "code",
     "collapsed": false,
     "input": [
      "similarity.collocation_measure=similarity.CollocationMeasures.pmi\n",
      "#similarity.coolocation_measure=None\n",
      "similarity.cmp_first_tail([\"detest\",\"argue\",\"hate\",\"reveal\",\"discover\"],verbose=True)"
     ],
     "language": "python",
     "metadata": {},
     "outputs": [
      {
       "output_type": "stream",
       "stream": "stdout",
       "text": [
        "detest  vs\n",
        "argue     \t0.09387275469541888"
       ]
      },
      {
       "output_type": "stream",
       "stream": "stdout",
       "text": [
        "\n",
        "hate      \t0.1733672984858873"
       ]
      },
      {
       "output_type": "stream",
       "stream": "stdout",
       "text": [
        "\n",
        "reveal    \t0.02656360764415329"
       ]
      },
      {
       "output_type": "stream",
       "stream": "stdout",
       "text": [
        "\n",
        "discover  \t0.061837143002552726"
       ]
      },
      {
       "output_type": "stream",
       "stream": "stdout",
       "text": [
        "\n"
       ]
      },
      {
       "metadata": {},
       "output_type": "pyout",
       "prompt_number": 98,
       "text": [
        "('hate', 0.07949454379046843)"
       ]
      }
     ],
     "prompt_number": 98
    },
    {
     "cell_type": "code",
     "collapsed": false,
     "input": [
      "similarity.cmp_first_tail([\"pensive\",\"oppressed\",\"caged\",\"happy\",\"thoughtful\"],verbose=True)"
     ],
     "language": "python",
     "metadata": {},
     "outputs": [
      {
       "output_type": "stream",
       "stream": "stdout",
       "text": [
        "pensive  vs\n",
        "oppressed \t0.002449579788859621\n",
        "caged     \t0.0\n",
        "happy     \t0.07944945201866384"
       ]
      },
      {
       "output_type": "stream",
       "stream": "stdout",
       "text": [
        "\n",
        "thoughtful\t0.27695224760899506\n"
       ]
      },
      {
       "metadata": {},
       "output_type": "pyout",
       "prompt_number": 99,
       "text": [
        "('thoughtful', 0.19750279559033124)"
       ]
      }
     ],
     "prompt_number": 99
    },
    {
     "cell_type": "code",
     "collapsed": false,
     "input": [
      "def get_unique_word_from_file(name_file):\n",
      "    pass\n",
      "\n",
      "letter_codes={\"a\":1,\"b\":2,\"c\":3,\"d\":4}\n",
      "\n",
      "def get_test_from_file(name_file):\n",
      "    result=[]\n",
      "    for line in open(name_file).readlines():\n",
      "        tokens = [token.lower() for token in line.split()]\n",
      "        if len(tokens)<2: continue\n",
      "        result.append(tokens)\n",
      "    return (result)\n",
      "\n",
      "def get_test_from_toefl(name_file):\n",
      "    result=[]\n",
      "    words=[]\n",
      "    for line in open(name_file+\".qst\").readlines():\n",
      "        tokens = [token.lower() for token in line.split()]\n",
      "        if len(tokens)<2: \n",
      "            result.append(words)\n",
      "            words=[]\n",
      "        else:\n",
      "            words.append(tokens[1])\n",
      "    i=0;\n",
      "    for line in open(name_file+\".ans\").readlines():\n",
      "        tokens = [token.lower() for token in line.split()]\n",
      "        if len(tokens)<2: continue\n",
      "        key=tokens[-1]\n",
      "        #print (i,result[i],key)\n",
      "        result[i].append(result[i][letter_codes[key]])\n",
      "        i+=1;\n",
      "    return result\n",
      "    \n",
      "def do_synonyms_test(lines):\n",
      "    output=\"\"\n",
      "    cnt_all=0;\n",
      "    cnt_correct=0;\n",
      "    lst_conf=[]\n",
      "    for tokens in lines:\n",
      "        guess,confidence=similarity.cmp_first_tail(tokens[:-1],verbose=False)\n",
      "        if guess==tokens[-1]:\n",
      "            cnt_correct+=1\n",
      "            lst_conf.append(confidence)\n",
      "        cnt_all+=1\n",
      "        #print (tokens[0],guess,guess==tokens[-1],\"\\n\")\n",
      "        output+=\"Q: \"+tokens[0]+\", A: \"+guess+\" - \"\n",
      "        if (guess==tokens[-1]):\n",
      "            output+=\"<span style=\\\"color:green\\\">correct!</span>\"\n",
      "        else:\n",
      "            output+=\"<span style=\\\"color:red\\\">wrong</span>, should be \"+tokens[-1]\n",
      "        output+=\"</br>\\n\"\n",
      "    success_rate=cnt_correct/cnt_all\n",
      "    output+=\"</br>success rate = \" + str( success_rate)+\"</br>\\n\"\n",
      "    output+=\"avg confidence = \"+ str( numpy.mean(lst_conf))+\"</br>\\n\"\n",
      "    return HTML(output)"
     ],
     "language": "python",
     "metadata": {},
     "outputs": [],
     "prompt_number": 139
    },
    {
     "cell_type": "code",
     "collapsed": false,
     "input": [
      "#similarity.collocation_measure=similarity.CollocationMeasures.raw_frequency\n",
      "similarity.collocation_measure=similarity.CollocationMeasures.pmi\n",
      "#similarity.metric = similarity.cmp_vectors_euc\n",
      "similarity.metric = similarity.cmp_vectors_cosine\n",
      "#do_synonyms_test(get_test_from_file(\"../tests/syn_easy.txt\"))\n",
      "do_synonyms_test(get_test_from_toefl(\"../tests/toefl/toefl\"))"
     ],
     "language": "python",
     "metadata": {},
     "outputs": [
      {
       "html": [
        "Q: enormously, A: tremendously - <span style=\"color:green\">correct!</span></br>\n",
        "Q: provisions, A: jurisdictions - <span style=\"color:red\">wrong</span>, should be stipulations</br>\n",
        "Q: haphazardly, A: randomly - <span style=\"color:green\">correct!</span></br>\n",
        "Q: prominent, A: conspicuous - <span style=\"color:green\">correct!</span></br>\n",
        "Q: zenith, A: pinnacle - <span style=\"color:green\">correct!</span></br>\n",
        "Q: flawed, A: crude - <span style=\"color:red\">wrong</span>, should be imperfect</br>\n",
        "Q: urgently, A: desperately - <span style=\"color:green\">correct!</span></br>\n",
        "Q: consumed, A: eaten - <span style=\"color:green\">correct!</span></br>\n",
        "Q: advent, A: coming - <span style=\"color:green\">correct!</span></br>\n",
        "Q: concisely, A: succinctly - <span style=\"color:green\">correct!</span></br>\n",
        "Q: salutes, A: greetings - <span style=\"color:green\">correct!</span></br>\n",
        "Q: solitary, A: alert - <span style=\"color:red\">wrong</span>, should be alone</br>\n",
        "Q: hasten, A: accelerate - <span style=\"color:green\">correct!</span></br>\n",
        "Q: perseverance, A: skill - <span style=\"color:red\">wrong</span>, should be endurance</br>\n",
        "Q: fanciful, A: imaginative - <span style=\"color:green\">correct!</span></br>\n",
        "Q: showed, A: demonstrated - <span style=\"color:green\">correct!</span></br>\n",
        "Q: constantly, A: continually - <span style=\"color:green\">correct!</span></br>\n",
        "Q: issues, A: subjects - <span style=\"color:green\">correct!</span></br>\n",
        "Q: furnish, A: supply - <span style=\"color:green\">correct!</span></br>\n",
        "Q: costly, A: expensive - <span style=\"color:green\">correct!</span></br>\n",
        "Q: recognized, A: acknowledged - <span style=\"color:green\">correct!</span></br>\n",
        "Q: spot, A: sea - <span style=\"color:red\">wrong</span>, should be location</br>\n",
        "Q: make, A: earn - <span style=\"color:green\">correct!</span></br>\n",
        "Q: often, A: frequently - <span style=\"color:green\">correct!</span></br>\n",
        "Q: easygoing, A: relaxed - <span style=\"color:green\">correct!</span></br>\n",
        "Q: debate, A: argument - <span style=\"color:green\">correct!</span></br>\n",
        "Q: narrow, A: thin - <span style=\"color:green\">correct!</span></br>\n",
        "Q: arranged, A: planned - <span style=\"color:green\">correct!</span></br>\n",
        "Q: infinite, A: limitless - <span style=\"color:green\">correct!</span></br>\n",
        "Q: showy, A: prickly - <span style=\"color:red\">wrong</span>, should be striking</br>\n",
        "Q: levied, A: imposed - <span style=\"color:green\">correct!</span></br>\n",
        "Q: deftly, A: humorously - <span style=\"color:red\">wrong</span>, should be skillfully</br>\n",
        "Q: distribute, A: circulate - <span style=\"color:green\">correct!</span></br>\n",
        "Q: discrepancies, A: differences - <span style=\"color:green\">correct!</span></br>\n",
        "Q: prolific, A: productive - <span style=\"color:green\">correct!</span></br>\n",
        "Q: unmatched, A: emulated - <span style=\"color:red\">wrong</span>, should be unequaled</br>\n",
        "Q: peculiarly, A: uniquely - <span style=\"color:green\">correct!</span></br>\n",
        "Q: hue, A: color - <span style=\"color:green\">correct!</span></br>\n",
        "Q: hind, A: rear - <span style=\"color:green\">correct!</span></br>\n",
        "Q: highlight, A: alter - <span style=\"color:red\">wrong</span>, should be accentuate</br>\n",
        "Q: hastily, A: hurriedly - <span style=\"color:green\">correct!</span></br>\n",
        "Q: temperate, A: cold - <span style=\"color:red\">wrong</span>, should be mild</br>\n",
        "Q: grin, A: smile - <span style=\"color:green\">correct!</span></br>\n",
        "Q: verbally, A: orally - <span style=\"color:green\">correct!</span></br>\n",
        "Q: physician, A: doctor - <span style=\"color:green\">correct!</span></br>\n",
        "Q: essentially, A: basically - <span style=\"color:green\">correct!</span></br>\n",
        "Q: keen, A: famous - <span style=\"color:red\">wrong</span>, should be sharp</br>\n",
        "Q: situated, A: positioned - <span style=\"color:green\">correct!</span></br>\n",
        "Q: principal, A: major - <span style=\"color:green\">correct!</span></br>\n",
        "Q: slowly, A: gradually - <span style=\"color:green\">correct!</span></br>\n",
        "Q: built, A: constructed - <span style=\"color:green\">correct!</span></br>\n",
        "Q: tasks, A: materials - <span style=\"color:red\">wrong</span>, should be jobs</br>\n",
        "Q: unlikely, A: improbable - <span style=\"color:green\">correct!</span></br>\n",
        "Q: halfheartedly, A: customarily - <span style=\"color:red\">wrong</span>, should be apathetically</br>\n",
        "Q: annals, A: chronicles - <span style=\"color:green\">correct!</span></br>\n",
        "Q: wildly, A: furiously - <span style=\"color:green\">correct!</span></br>\n",
        "Q: hailed, A: acclaimed - <span style=\"color:green\">correct!</span></br>\n",
        "Q: command, A: mastery - <span style=\"color:green\">correct!</span></br>\n",
        "Q: concocted, A: devised - <span style=\"color:green\">correct!</span></br>\n",
        "Q: prospective, A: potential - <span style=\"color:green\">correct!</span></br>\n",
        "Q: generally, A: broadly - <span style=\"color:green\">correct!</span></br>\n",
        "Q: sustained, A: prolonged - <span style=\"color:green\">correct!</span></br>\n",
        "Q: perilous, A: dangerous - <span style=\"color:green\">correct!</span></br>\n",
        "Q: tranquillity, A: happiness - <span style=\"color:red\">wrong</span>, should be peacefulness</br>\n",
        "Q: dissipate, A: disperse - <span style=\"color:green\">correct!</span></br>\n",
        "Q: primarily, A: chiefly - <span style=\"color:green\">correct!</span></br>\n",
        "Q: colloquial, A: conversational - <span style=\"color:green\">correct!</span></br>\n",
        "Q: resolved, A: settled - <span style=\"color:green\">correct!</span></br>\n",
        "Q: feasible, A: equitable - <span style=\"color:red\">wrong</span>, should be possible</br>\n",
        "Q: expeditiously, A: rapidly - <span style=\"color:green\">correct!</span></br>\n",
        "Q: percentage, A: proportion - <span style=\"color:green\">correct!</span></br>\n",
        "Q: terminated, A: postponed - <span style=\"color:red\">wrong</span>, should be ended</br>\n",
        "Q: uniform, A: alike - <span style=\"color:green\">correct!</span></br>\n",
        "Q: figure, A: list - <span style=\"color:red\">wrong</span>, should be solve</br>\n",
        "Q: sufficient, A: enough - <span style=\"color:green\">correct!</span></br>\n",
        "Q: fashion, A: manner - <span style=\"color:green\">correct!</span></br>\n",
        "Q: marketed, A: sold - <span style=\"color:green\">correct!</span></br>\n",
        "Q: bigger, A: larger - <span style=\"color:green\">correct!</span></br>\n",
        "Q: roots, A: origins - <span style=\"color:green\">correct!</span></br>\n",
        "Q: normally, A: ordinarily - <span style=\"color:green\">correct!</span></br>\n",
        "</br>success rate = 0.7875</br>\n",
        "avg confidence = 0.233743319369</br>\n"
       ],
       "metadata": {},
       "output_type": "pyout",
       "prompt_number": 140,
       "text": [
        "<IPython.core.display.HTML at 0x7f6110620c88>"
       ]
      }
     ],
     "prompt_number": 140
    },
    {
     "cell_type": "code",
     "collapsed": false,
     "input": [
      "#similarity.cmp_first_tail([\"kind\",\"nice\",\"best\"],verbose=True)\n",
      "similarity.CollocationMeasures.pmi(\"kin\").most_common(20)\n"
     ],
     "language": "python",
     "metadata": {},
     "outputs": [
      {
       "metadata": {},
       "output_type": "pyout",
       "prompt_number": 12,
       "text": [
        "[('co-resided', 15.89571494194915),\n",
        " ('stivens', 15.89571494194915),\n",
        " ('co-villagers', 15.89571494194915),\n",
        " ('theer', 14.89571494194915),\n",
        " ('out-living', 14.89571494194915),\n",
        " ('wilberforces', 14.89571494194915),\n",
        " ('cousinage', 14.310752441227994),\n",
        " ('electrocandle', 14.310752441227994),\n",
        " ('non-kin', 14.158749347782944),\n",
        " ('compadres', 13.573786847061788),\n",
        " ('medick', 13.310752441227994),\n",
        " ('cretney', 13.088360019891546),\n",
        " ('proneness', 12.436283323311851),\n",
        " ('overend', 12.310752441227994),\n",
        " ('nock', 11.98882434634063),\n",
        " ('marriageable', 11.372152985892136),\n",
        " ('meat-eating', 11.310752441227994),\n",
        " ('nagarythe', 11.251858752174424),\n",
        " ('avalon', 10.89571494194915),\n",
        " ('territoriality', 10.725789940506838)]"
       ]
      }
     ],
     "prompt_number": 12
    },
    {
     "cell_type": "code",
     "collapsed": false,
     "input": [
      "similarity.show_common_context(\"kin\",\"relative\")"
     ],
     "language": "python",
     "metadata": {},
     "outputs": [
      {
       "output_type": "stream",
       "stream": "stdout",
       "text": [
        "importance   \t 1 \t 188\n",
        "risk         \t 0 \t 100\n",
        "merits       \t 0 \t 86\n",
        "autonomy     \t 0 \t 79\n",
        "prices       \t 0 \t 73\n",
        "decline      \t 0 \t 59\n",
        "lack         \t 0 \t 59\n",
        "price        \t 0 \t 55\n",
        "friend       \t 0 \t 52\n",
        "terms        \t 10 \t 37\n",
        "molecular    \t 0 \t 45\n",
        "group        \t 26 \t 2\n",
        "selection    \t 25 \t 0\n",
        "support      \t 18 \t 4\n",
        "groups       \t 19 \t 0\n",
        "relationships \t 17 \t 0\n",
        "relations    \t 15 \t 0\n",
        "friends      \t 14 \t 1\n",
        "see          \t 11 \t 0\n",
        "neighbours   \t 9 \t 1\n"
       ]
      }
     ],
     "prompt_number": 13
    },
    {
     "cell_type": "code",
     "collapsed": false,
     "input": [
      "similarity.show_common_context(\"kind\",\"best\")"
     ],
     "language": "python",
     "metadata": {},
     "outputs": [
      {
       "output_type": "stream",
       "stream": "stdout",
       "text": [
        "thing        \t 705 \t 590\n",
        "way          \t 97 \t 1186\n",
        "known        \t 17 \t 737\n",
        "interests    \t 1 \t 488\n",
        "possible     \t 10 \t 423\n",
        "friend       \t 15 \t 406\n",
        "man          \t 159 \t 206\n",
        "use          \t 14 \t 251\n",
        "work         \t 150 \t 109\n",
        "time         \t 26 \t 226\n",
        "people       \t 130 \t 111\n",
        "part         \t 9 \t 212\n",
        "things       \t 134 \t 62\n",
        "person       \t 146 \t 47\n",
        "another      \t 110 \t 6\n",
        "enough       \t 104 \t 2\n",
        "information  \t 82 \t 18\n"
       ]
      }
     ],
     "prompt_number": 14
    },
    {
     "cell_type": "code",
     "collapsed": false,
     "input": [
      "scores = [3,6,2,1,3]\n",
      "sorted(scores)[-1]-sorted(scores)[-2]\n",
      "#sorted(scores)\n"
     ],
     "language": "python",
     "metadata": {},
     "outputs": [
      {
       "metadata": {},
       "output_type": "pyout",
       "prompt_number": 15,
       "text": [
        "3"
       ]
      }
     ],
     "prompt_number": 15
    },
    {
     "cell_type": "code",
     "collapsed": false,
     "input": [
      "cfd = nltk.ConditionalFreqDist()\n",
      "cfd[\"apple\"][\"orange\"]=2.3\n",
      "cfd[\"apple\"][\"orange\"]"
     ],
     "language": "python",
     "metadata": {},
     "outputs": [
      {
       "metadata": {},
       "output_type": "pyout",
       "prompt_number": 16,
       "text": [
        "2.3"
       ]
      }
     ],
     "prompt_number": 16
    },
    {
     "cell_type": "code",
     "collapsed": false,
     "input": [
      "class bcolors:\n",
      "    HEADER = '\\033[95m'\n",
      "    OKBLUE = '\\033[94m'\n",
      "    OKGREEN = '\\033[92m'\n",
      "    WARNING = '\\033[93m'\n",
      "    FAIL = '\\033[91m'\n",
      "    ENDC = '\\033[0m'\n"
     ],
     "language": "python",
     "metadata": {},
     "outputs": [],
     "prompt_number": 103
    },
    {
     "cell_type": "code",
     "collapsed": false,
     "input": [
      "print ('\\033[1;38mCrimson like Chianti\\033[1;m')\n"
     ],
     "language": "python",
     "metadata": {},
     "outputs": [],
     "prompt_number": 107
    },
    {
     "cell_type": "code",
     "collapsed": false,
     "input": [],
     "language": "python",
     "metadata": {},
     "outputs": [
      {
       "metadata": {},
       "output_type": "pyout",
       "prompt_number": 117,
       "text": [
        "'<hr />'"
       ]
      }
     ],
     "prompt_number": 117
    },
    {
     "cell_type": "code",
     "collapsed": false,
     "input": [],
     "language": "python",
     "metadata": {},
     "outputs": []
    }
   ],
   "metadata": {}
  }
 ]
}