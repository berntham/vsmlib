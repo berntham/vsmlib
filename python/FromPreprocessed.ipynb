{
 "metadata": {
  "name": ""
 },
 "nbformat": 3,
 "nbformat_minor": 0,
 "worksheets": [
  {
   "cells": [
    {
     "cell_type": "code",
     "collapsed": false,
     "input": [
      "import nltk\n",
      "import similarity\n",
      "import os\n",
      "import socket\n",
      "from imp import reload\n",
      "import timeit\n",
      "import time\n",
      "import numpy"
     ],
     "language": "python",
     "metadata": {},
     "outputs": [],
     "prompt_number": 116
    },
    {
     "cell_type": "code",
     "collapsed": false,
     "input": [
      "reload(similarity)\n",
      "#if socket.gethostname()==\"cypress\": similarity.path_corpus = \"/storage/corpora/BNC/all.txt\"\n",
      "if socket.gethostname()==\"ashtree\":\n",
      "    similarity.path_corpus = \"/mnt/storage/Corpora/BNC/all.txt\"\n",
      "    similarity.dir_cache = \"/mnt/work/nlp_scratch\"\n",
      "#similarity.purge()\n",
      "similarity.init()\n",
      "socket.gethostname()"
     ],
     "language": "python",
     "metadata": {},
     "outputs": [
      {
       "metadata": {},
       "output_type": "pyout",
       "prompt_number": 117,
       "text": [
        "'ashtree'"
       ]
      }
     ],
     "prompt_number": 117
    },
    {
     "cell_type": "code",
     "collapsed": false,
     "input": [
      "#similarity.cmp_words(\"quick\",\"fast\")\n",
      "#similarity.cmp_words(\"pensive\",\"fast\")\n",
      "#similarity.CollocationMeasures.raw_frequency(\"fast\").most_common(12)\n",
      "similarity.CollocationMeasures.pmi(\"fast\").most_common(15)\n",
      "#timeit.timeit('similarity.get_cfd(\"fast\").most_common(12)',setup=\"import similarity\")\n",
      "#start=time.time()\n",
      "#similarity.get_cfd(\"fast\").most_common(12)\n",
      "#time.time()-start\n",
      "\n",
      "#import pstats\n",
      "#p = pstats.Stats('profile.log')\n",
      "#p.strip_dirs().sort_stats(-1).print_stats()\n",
      "#p.sort_stats('cumulative').print_stats(20)"
     ],
     "language": "python",
     "metadata": {},
     "outputs": [
      {
       "metadata": {},
       "output_type": "pyout",
       "prompt_number": 108,
       "text": [
        "[('water-only', 12.699448562104918),\n",
        " ('softshelled', 12.699448562104918),\n",
        " ('ofgloucestershire', 12.699448562104918),\n",
        " ('toll-motorway', 12.699448562104918),\n",
        " ('dq-timecoder', 12.699448562104918),\n",
        " ('slow/static', 12.699448562104918),\n",
        " ('windows-optimized', 12.699448562104918),\n",
        " ('grappling-iron', 12.699448562104918),\n",
        " ('outed', 12.699448562104918),\n",
        " ('fouriers', 12.699448562104918),\n",
        " ('half-globes', 12.699448562104918),\n",
        " ('off-cutters', 12.699448562104918),\n",
        " ('unmelodic', 12.699448562104918),\n",
        " ('hockey-match', 12.699448562104918),\n",
        " ('re-aimed', 12.699448562104918)]"
       ]
      }
     ],
     "prompt_number": 108
    },
    {
     "cell_type": "code",
     "collapsed": false,
     "input": [
      "#similarity.cmp_words(\"quick\",\"fast\")\n",
      "#similarity.show_common_context(\"fast\",\"quick\")\n",
      "similarity.CollocationMeasures.pmi(\"fast\")"
     ],
     "language": "python",
     "metadata": {},
     "outputs": [
      {
       "metadata": {},
       "output_type": "pyout",
       "prompt_number": 109,
       "text": [
        "<FreqDist with 4355 samples and 14152 outcomes>"
       ]
      }
     ],
     "prompt_number": 109
    },
    {
     "cell_type": "code",
     "collapsed": false,
     "input": [
      "#similarity.cmp_first_tail(cfdist,[\"remote\",\"distant\",\"savage\",\"automatic\",\"mean\"])\n",
      "#cmp_first_tail(cfdist,[\"fast\",\"distant\",\"quick\",\"automatic\",\"mean\"])\n",
      "#similarity.show_common_context(\"fast\",\"mean\")"
     ],
     "language": "python",
     "metadata": {},
     "outputs": [],
     "prompt_number": 110
    },
    {
     "cell_type": "code",
     "collapsed": false,
     "input": [
      "#similarity.show_common_context(\"remote\",\"distant\",15)"
     ],
     "language": "python",
     "metadata": {},
     "outputs": [],
     "prompt_number": 111
    },
    {
     "cell_type": "code",
     "collapsed": false,
     "input": [
      "similarity.collocation_measure=similarity.CollocationMeasures.pmi\n",
      "#similarity.coolocation_measure=None\n",
      "similarity.cmp_first_tail([\"detest\",\"argue\",\"hate\",\"reveal\",\"discover\"],verbose=True)"
     ],
     "language": "python",
     "metadata": {},
     "outputs": [
      {
       "output_type": "stream",
       "stream": "stdout",
       "text": [
        "detest  vs\n",
        "argue     \t0.13048186374266474"
       ]
      },
      {
       "output_type": "stream",
       "stream": "stdout",
       "text": [
        "\n",
        "hate      \t0.3098559748546877"
       ]
      },
      {
       "output_type": "stream",
       "stream": "stdout",
       "text": [
        "\n",
        "reveal    \t0.07324812209709065"
       ]
      },
      {
       "output_type": "stream",
       "stream": "stdout",
       "text": [
        "\n",
        "discover  \t0.1472521268799819"
       ]
      },
      {
       "output_type": "stream",
       "stream": "stdout",
       "text": [
        "\n"
       ]
      },
      {
       "metadata": {},
       "output_type": "pyout",
       "prompt_number": 112,
       "text": [
        "('hate', 0.16260384797470578)"
       ]
      }
     ],
     "prompt_number": 112
    },
    {
     "cell_type": "code",
     "collapsed": false,
     "input": [
      "similarity.cmp_first_tail([\"pensive\",\"oppressed\",\"caged\",\"happy\",\"thoughtful\"],verbose=True)"
     ],
     "language": "python",
     "metadata": {},
     "outputs": [
      {
       "output_type": "stream",
       "stream": "stdout",
       "text": [
        "pensive  vs\n",
        "oppressed \t0.10214035083085304"
       ]
      },
      {
       "output_type": "stream",
       "stream": "stdout",
       "text": [
        "\n",
        "caged     \t0.10522026113159247"
       ]
      },
      {
       "output_type": "stream",
       "stream": "stdout",
       "text": [
        "\n",
        "happy     \t0.10612621979017098"
       ]
      },
      {
       "output_type": "stream",
       "stream": "stdout",
       "text": [
        "\n",
        "thoughtful\t0.46287578556347886"
       ]
      },
      {
       "output_type": "stream",
       "stream": "stdout",
       "text": [
        "\n"
       ]
      },
      {
       "metadata": {},
       "output_type": "pyout",
       "prompt_number": 113,
       "text": [
        "('thoughtful', 0.35674956577330785)"
       ]
      }
     ],
     "prompt_number": 113
    },
    {
     "cell_type": "code",
     "collapsed": false,
     "input": [
      "def get_unique_word_from_file(name_file):\n",
      "    \n",
      "def do_synonyms_test(name_file):\n",
      "    cnt_all=0;\n",
      "    cnt_correct=0;\n",
      "    lst_conf=[]\n",
      "    for line in open(name_file).readlines():\n",
      "        tokens = [token.lower() for token in line.split()]\n",
      "        if len(tokens)<2: continue\n",
      "        #print (\"tokens = \", tokens)\n",
      "        guess,confidence=similarity.cmp_first_tail(tokens[:-1],verbose=True)\n",
      "        if guess==tokens[-1]:\n",
      "            cnt_correct+=1\n",
      "            lst_conf.append(confidence)\n",
      "        cnt_all+=1\n",
      "        print (tokens[0],guess,guess==tokens[-1],\"\\n\")\n",
      "    success_rate=cnt_correct/cnt_all\n",
      "    print (\"success rate = \", success_rate)    \n",
      "    print (\"avg confidence = \", numpy.mean(lst_conf))"
     ],
     "language": "python",
     "metadata": {},
     "outputs": [],
     "prompt_number": 118
    },
    {
     "cell_type": "code",
     "collapsed": false,
     "input": [
      "#similarity.collocation_measure=similarity.CollocationMeasures.raw_frequency\n",
      "similarity.collocation_measure=similarity.CollocationMeasures.pmi\n",
      "#similarity.metric = similarity.cmp_vectors_euc\n",
      "similarity.metric = similarity.cmp_vectors_cosine\n",
      "do_synonyms_test(\"../tests/syn_easy.txt\")"
     ],
     "language": "python",
     "metadata": {},
     "outputs": [
      {
       "output_type": "stream",
       "stream": "stdout",
       "text": [
        "kind  vs\n",
        "nice      \t0.28285273920457094"
       ]
      },
      {
       "output_type": "stream",
       "stream": "stdout",
       "text": [
        "\n",
        "wild      \t0.21925367771581358"
       ]
      },
      {
       "output_type": "stream",
       "stream": "stdout",
       "text": [
        "\n",
        "funny     \t0.18773189312773259"
       ]
      },
      {
       "output_type": "stream",
       "stream": "stdout",
       "text": [
        "\n",
        "best      \t0.30664011724236817"
       ]
      },
      {
       "output_type": "stream",
       "stream": "stdout",
       "text": [
        "\n",
        "kind best False \n",
        "\n",
        "fast  vs\n",
        "quick     \t0.3933895512715466"
       ]
      },
      {
       "output_type": "stream",
       "stream": "stdout",
       "text": [
        "\n",
        "kind      \t0.1632543805721602\n",
        "heavy     \t0.2923071616474051"
       ]
      },
      {
       "output_type": "stream",
       "stream": "stdout",
       "text": [
        "\n",
        "small     \t0.1730364332796271"
       ]
      },
      {
       "output_type": "stream",
       "stream": "stdout",
       "text": [
        "\n",
        "fast quick True \n",
        "\n",
        "skinny  vs\n",
        "small     \t0.027650763905044933"
       ]
      },
      {
       "output_type": "stream",
       "stream": "stdout",
       "text": [
        "\n",
        "little    \t0.1373824494070417"
       ]
      },
      {
       "output_type": "stream",
       "stream": "stdout",
       "text": [
        "\n",
        "thin      \t0.3894816893679198"
       ]
      },
      {
       "output_type": "stream",
       "stream": "stdout",
       "text": [
        "\n",
        "strong    \t0.07565185790279486"
       ]
      },
      {
       "output_type": "stream",
       "stream": "stdout",
       "text": [
        "\n",
        "skinny thin True \n",
        "\n",
        "remote  vs\n",
        "automatic \t0.2378499112774781"
       ]
      },
      {
       "output_type": "stream",
       "stream": "stdout",
       "text": [
        "\n",
        "mean      \t-0.09806217565631545"
       ]
      },
      {
       "output_type": "stream",
       "stream": "stdout",
       "text": [
        "\n",
        "savage    \t0.18449162758500695"
       ]
      },
      {
       "output_type": "stream",
       "stream": "stdout",
       "text": [
        "\n",
        "distant   \t0.5375712837771137"
       ]
      },
      {
       "output_type": "stream",
       "stream": "stdout",
       "text": [
        "\n",
        "remote distant True \n",
        "\n",
        "detest  vs\n",
        "argue     \t0.08002061513819098"
       ]
      },
      {
       "output_type": "stream",
       "stream": "stdout",
       "text": [
        "\n",
        "reveal    \t0.034019893461997346"
       ]
      },
      {
       "output_type": "stream",
       "stream": "stdout",
       "text": [
        "\n",
        "hate      \t0.16200953596981524"
       ]
      },
      {
       "output_type": "stream",
       "stream": "stdout",
       "text": [
        "\n",
        "discover  \t0.04949075324163266"
       ]
      },
      {
       "output_type": "stream",
       "stream": "stdout",
       "text": [
        "\n",
        "detest hate True \n",
        "\n",
        "gracious  vs\n",
        "clever    \t0.16254730734086428"
       ]
      },
      {
       "output_type": "stream",
       "stream": "stdout",
       "text": [
        "\n",
        "pretty    \t0.11936796186198437"
       ]
      },
      {
       "output_type": "stream",
       "stream": "stdout",
       "text": [
        "\n",
        "present   \t0.045128589781974315"
       ]
      },
      {
       "output_type": "stream",
       "stream": "stdout",
       "text": [
        "\n",
        "pleasant  \t0.2682687568244218"
       ]
      },
      {
       "output_type": "stream",
       "stream": "stdout",
       "text": [
        "\n",
        "gracious pleasant True \n",
        "\n",
        "predict  vs\n",
        "foretell  \t0.2325998802364429"
       ]
      },
      {
       "output_type": "stream",
       "stream": "stdout",
       "text": [
        "\n",
        "decide    \t0.31718982262239714"
       ]
      },
      {
       "output_type": "stream",
       "stream": "stdout",
       "text": [
        "\n",
        "discover  \t0.3421052837580412\n",
        "prevent   \t0.27677982996808326"
       ]
      },
      {
       "output_type": "stream",
       "stream": "stdout",
       "text": [
        "\n",
        "predict discover False \n",
        "\n",
        "kin  vs\n",
        "exult     \t0.011778751363048555"
       ]
      },
      {
       "output_type": "stream",
       "stream": "stdout",
       "text": [
        "\n",
        "friend    \t0.021201228162477194"
       ]
      },
      {
       "output_type": "stream",
       "stream": "stdout",
       "text": [
        "\n",
        "relative  \t0.1668054063004436"
       ]
      },
      {
       "output_type": "stream",
       "stream": "stdout",
       "text": [
        "\n",
        "twist     \t0.09056132183463723"
       ]
      },
      {
       "output_type": "stream",
       "stream": "stdout",
       "text": [
        "\n",
        "kin relative True \n",
        "\n",
        "pensive  vs\n",
        "caged     \t0.10353787504657662"
       ]
      },
      {
       "output_type": "stream",
       "stream": "stdout",
       "text": [
        "\n",
        "thoughtful\t0.33076755283704334"
       ]
      },
      {
       "output_type": "stream",
       "stream": "stdout",
       "text": [
        "\n",
        "oppressed \t0.03182373283092603"
       ]
      },
      {
       "output_type": "stream",
       "stream": "stdout",
       "text": [
        "\n",
        "happy     \t0.056828602980884296"
       ]
      },
      {
       "output_type": "stream",
       "stream": "stdout",
       "text": [
        "\n",
        "pensive thoughtful True \n",
        "\n",
        "banish  vs\n",
        "hate      \t0.1396276705482165"
       ]
      },
      {
       "output_type": "stream",
       "stream": "stdout",
       "text": [
        "\n",
        "exile     \t0.05757533710499124"
       ]
      },
      {
       "output_type": "stream",
       "stream": "stdout",
       "text": [
        "\n",
        "fade      \t0.1819068852736345"
       ]
      },
      {
       "output_type": "stream",
       "stream": "stdout",
       "text": [
        "\n",
        "clean     \t0.0627278056197689"
       ]
      },
      {
       "output_type": "stream",
       "stream": "stdout",
       "text": [
        "\n",
        "banish fade False \n",
        "\n",
        "saccharine  vs\n",
        "leave     \t-0.0037481133575537474"
       ]
      },
      {
       "output_type": "stream",
       "stream": "stdout",
       "text": [
        "\n",
        "sweet     \t0.09782433144046351"
       ]
      },
      {
       "output_type": "stream",
       "stream": "stdout",
       "text": [
        "\n",
        "quit      \t0.009152251906484587"
       ]
      },
      {
       "output_type": "stream",
       "stream": "stdout",
       "text": [
        "\n",
        "arid      \t0.045544497022630616"
       ]
      },
      {
       "output_type": "stream",
       "stream": "stdout",
       "text": [
        "\n",
        "saccharine sweet True \n",
        "\n",
        "drag  vs\n",
        "sleepy    \t0.18400581182830142"
       ]
      },
      {
       "output_type": "stream",
       "stream": "stdout",
       "text": [
        "\n",
        "proud     \t0.1174518909206606"
       ]
      },
      {
       "output_type": "stream",
       "stream": "stdout",
       "text": [
        "\n",
        "pull      \t0.39377650128800895"
       ]
      },
      {
       "output_type": "stream",
       "stream": "stdout",
       "text": [
        "\n",
        "crush     \t0.19505400482908053"
       ]
      },
      {
       "output_type": "stream",
       "stream": "stdout",
       "text": [
        "\n",
        "drag pull True \n",
        "\n",
        "success rate =  0.75\n",
        "avg confidence =  0.155009940615\n"
       ]
      }
     ],
     "prompt_number": 119
    },
    {
     "cell_type": "code",
     "collapsed": false,
     "input": [
      "similarity.cmp_first_tail([\"kind\",\"nice\",\"best\"],verbose=True)"
     ],
     "language": "python",
     "metadata": {},
     "outputs": [
      {
       "output_type": "stream",
       "stream": "stdout",
       "text": [
        "kind  vs\n",
        "nice      \t0.28285273920457094\n",
        "best      \t0.30664011724236817\n"
       ]
      },
      {
       "metadata": {},
       "output_type": "pyout",
       "prompt_number": 120,
       "text": [
        "('best', 0.023787378037797235)"
       ]
      }
     ],
     "prompt_number": 120
    },
    {
     "cell_type": "code",
     "collapsed": false,
     "input": [
      "similarity.show_common_context(\"predict\",\"foretell\")"
     ],
     "language": "python",
     "metadata": {},
     "outputs": [
      {
       "output_type": "stream",
       "stream": "stdout",
       "text": [
        "-difficult   \t 78 \t 0\n",
        "-able        \t 70 \t 2\n",
        "-one         \t 48 \t 3\n",
        "future       \t 42 \t 9\n",
        "-used        \t 44 \t 0\n",
        "-impossible  \t 39 \t 0\n",
        "-possible    \t 39 \t 0\n",
        "-easy        \t 22 \t 0\n",
        "-hard        \t 18 \t 0\n",
        "-ability     \t 17 \t 0\n",
        "-dreams      \t 0 \t 4\n",
        "storm        \t 0 \t 1\n",
        "-fortune-teller \t 0 \t 1\n",
        "proposals    \t 0 \t 1\n",
        "vital        \t 0 \t 1\n",
        "-service     \t 0 \t 1\n",
        "-stars       \t 0 \t 1\n"
       ]
      }
     ],
     "prompt_number": 123
    },
    {
     "cell_type": "code",
     "collapsed": false,
     "input": [
      "similarity.show_common_context(\"kind\",\"best\")"
     ],
     "language": "python",
     "metadata": {},
     "outputs": [
      {
       "output_type": "stream",
       "stream": "stdout",
       "text": [
        "thing        \t 705 \t 590\n",
        "way          \t 97 \t 1186\n",
        "known        \t 17 \t 737\n",
        "interests    \t 1 \t 488\n",
        "possible     \t 10 \t 423\n",
        "friend       \t 15 \t 406\n",
        "man          \t 159 \t 205\n",
        "use          \t 14 \t 251\n",
        "work         \t 150 \t 109\n",
        "time         \t 26 \t 226\n",
        "people       \t 130 \t 111\n",
        "part         \t 9 \t 212\n",
        "things       \t 134 \t 62\n",
        "person       \t 146 \t 47\n",
        "another      \t 110 \t 6\n",
        "enough       \t 104 \t 2\n",
        "information  \t 82 \t 18\n"
       ]
      }
     ],
     "prompt_number": 13
    },
    {
     "cell_type": "code",
     "collapsed": false,
     "input": [
      "scores = [3,6,2,1,3]\n",
      "sorted(scores)[-1]-sorted(scores)[-2]\n",
      "#sorted(scores)\n"
     ],
     "language": "python",
     "metadata": {},
     "outputs": [
      {
       "metadata": {},
       "output_type": "pyout",
       "prompt_number": 69,
       "text": [
        "3"
       ]
      }
     ],
     "prompt_number": 69
    },
    {
     "cell_type": "code",
     "collapsed": false,
     "input": [
      "cfd = nltk.ConditionalFreqDist()\n",
      "cfd[\"apple\"][\"orange\"]=2.3\n",
      "cfd[\"apple\"][\"orange\"]"
     ],
     "language": "python",
     "metadata": {},
     "outputs": [
      {
       "metadata": {},
       "output_type": "pyout",
       "prompt_number": 14,
       "text": [
        "2.3"
       ]
      }
     ],
     "prompt_number": 14
    },
    {
     "cell_type": "code",
     "collapsed": false,
     "input": [],
     "language": "python",
     "metadata": {},
     "outputs": [],
     "prompt_number": 14
    },
    {
     "cell_type": "code",
     "collapsed": false,
     "input": [],
     "language": "python",
     "metadata": {},
     "outputs": []
    }
   ],
   "metadata": {}
  }
 ]
}