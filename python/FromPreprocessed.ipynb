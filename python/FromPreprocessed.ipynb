{
 "metadata": {
  "name": ""
 },
 "nbformat": 3,
 "nbformat_minor": 0,
 "worksheets": [
  {
   "cells": [
    {
     "cell_type": "code",
     "collapsed": false,
     "input": [
      "import nltk\n",
      "import similarity\n",
      "import os\n",
      "import socket\n",
      "from imp import reload\n",
      "import timeit\n",
      "import time\n",
      "import numpy"
     ],
     "language": "python",
     "metadata": {},
     "outputs": [],
     "prompt_number": 90
    },
    {
     "cell_type": "code",
     "collapsed": false,
     "input": [
      "reload(similarity)\n",
      "#if socket.gethostname()==\"cypress\": similarity.path_corpus = \"/storage/corpora/BNC/all.txt\"\n",
      "if socket.gethostname()==\"ashtree\":\n",
      "    similarity.path_corpus = \"/mnt/storage/Corpora/BNC/all.txt\"\n",
      "    similarity.dir_cache = \"/mnt/work/nlp_scratch\"\n",
      "#similarity.purge()\n",
      "similarity.init()\n",
      "socket.gethostname()"
     ],
     "language": "python",
     "metadata": {},
     "outputs": [
      {
       "metadata": {},
       "output_type": "pyout",
       "prompt_number": 91,
       "text": [
        "'ashtree'"
       ]
      }
     ],
     "prompt_number": 91
    },
    {
     "cell_type": "code",
     "collapsed": false,
     "input": [
      "#similarity.cmp_words(\"quick\",\"fast\")\n",
      "#similarity.cmp_words(\"pensive\",\"fast\")\n",
      "#similarity.CollocationMeasures.raw_frequency(\"fast\").most_common(12)\n",
      "similarity.CollocationMeasures.pmi(\"fast\").most_common(15)\n",
      "#timeit.timeit('similarity.get_cfd(\"fast\").most_common(12)',setup=\"import similarity\")\n",
      "#start=time.time()\n",
      "#similarity.get_cfd(\"fast\").most_common(12)\n",
      "#time.time()-start\n",
      "\n",
      "#import pstats\n",
      "#p = pstats.Stats('profile.log')\n",
      "#p.strip_dirs().sort_stats(-1).print_stats()\n",
      "#p.sort_stats('cumulative').print_stats(20)"
     ],
     "language": "python",
     "metadata": {},
     "outputs": [
      {
       "metadata": {},
       "output_type": "pyout",
       "prompt_number": 92,
       "text": [
        "[('in-cache', 12.699448562104918),\n",
        " ('softshelled', 12.699448562104918),\n",
        " ('minuetto', 12.699448562104918),\n",
        " ('bajan-speak', 12.699448562104918),\n",
        " ('slow/static', 12.699448562104918),\n",
        " ('windows-optimized', 12.699448562104918),\n",
        " ('grappling-iron', 12.699448562104918),\n",
        " ('fouriers', 12.699448562104918),\n",
        " ('straight-back-over-the-shoulder', 12.699448562104918),\n",
        " ('iron-handed', 12.699448562104918),\n",
        " ('c-ura', 12.699448562104918),\n",
        " ('rap/slow', 12.699448562104918),\n",
        " ('ground-oriented', 12.699448562104918),\n",
        " ('off-cutters', 12.699448562104918),\n",
        " ('co-constituent', 12.699448562104918)]"
       ]
      }
     ],
     "prompt_number": 92
    },
    {
     "cell_type": "code",
     "collapsed": false,
     "input": [
      "#similarity.cmp_words(\"quick\",\"fast\")\n",
      "#similarity.show_common_context(\"fast\",\"quick\")\n",
      "similarity.CollocationMeasures.pmi(\"fast\")"
     ],
     "language": "python",
     "metadata": {},
     "outputs": [
      {
       "metadata": {},
       "output_type": "pyout",
       "prompt_number": 93,
       "text": [
        "<FreqDist with 2475 samples and 6742 outcomes>"
       ]
      }
     ],
     "prompt_number": 93
    },
    {
     "cell_type": "code",
     "collapsed": false,
     "input": [
      "#similarity.cmp_first_tail(cfdist,[\"remote\",\"distant\",\"savage\",\"automatic\",\"mean\"])\n",
      "#cmp_first_tail(cfdist,[\"fast\",\"distant\",\"quick\",\"automatic\",\"mean\"])\n",
      "#similarity.show_common_context(\"fast\",\"mean\")"
     ],
     "language": "python",
     "metadata": {},
     "outputs": [],
     "prompt_number": 94
    },
    {
     "cell_type": "code",
     "collapsed": false,
     "input": [
      "#similarity.show_common_context(\"remote\",\"distant\",15)"
     ],
     "language": "python",
     "metadata": {},
     "outputs": [],
     "prompt_number": 95
    },
    {
     "cell_type": "code",
     "collapsed": false,
     "input": [
      "similarity.collocation_measure=similarity.CollocationMeasures.pmi\n",
      "#similarity.coolocation_measure=None\n",
      "similarity.cmp_first_tail([\"detest\",\"argue\",\"hate\",\"reveal\",\"discover\"],verbose=True)"
     ],
     "language": "python",
     "metadata": {},
     "outputs": [
      {
       "output_type": "stream",
       "stream": "stdout",
       "text": [
        "detest  vs\n",
        "argue     \t0.08727869904142661"
       ]
      },
      {
       "output_type": "stream",
       "stream": "stdout",
       "text": [
        "\n",
        "hate      \t0.16670925593065897"
       ]
      },
      {
       "output_type": "stream",
       "stream": "stdout",
       "text": [
        "\n",
        "reveal    \t0.010908900424885326"
       ]
      },
      {
       "output_type": "stream",
       "stream": "stdout",
       "text": [
        "\n",
        "discover  \t0.05291977356760437"
       ]
      },
      {
       "output_type": "stream",
       "stream": "stdout",
       "text": [
        "\n"
       ]
      },
      {
       "metadata": {},
       "output_type": "pyout",
       "prompt_number": 96,
       "text": [
        "('hate', 0.07943055688923235)"
       ]
      }
     ],
     "prompt_number": 96
    },
    {
     "cell_type": "code",
     "collapsed": false,
     "input": [
      "similarity.cmp_first_tail([\"pensive\",\"oppressed\",\"caged\",\"happy\",\"thoughtful\"],verbose=True)"
     ],
     "language": "python",
     "metadata": {},
     "outputs": [
      {
       "output_type": "stream",
       "stream": "stdout",
       "text": [
        "pensive  vs\n",
        "oppressed \t0.0024429311443141576\n",
        "caged     \t0.0\n",
        "happy     \t0.04987689951038578"
       ]
      },
      {
       "output_type": "stream",
       "stream": "stdout",
       "text": [
        "\n",
        "thoughtful\t0.2743310489459429\n"
       ]
      },
      {
       "metadata": {},
       "output_type": "pyout",
       "prompt_number": 97,
       "text": [
        "('thoughtful', 0.22445414943555714)"
       ]
      }
     ],
     "prompt_number": 97
    },
    {
     "cell_type": "code",
     "collapsed": false,
     "input": [
      "def do_synonyms_test(name_file):\n",
      "    cnt_all=0;\n",
      "    cnt_correct=0;\n",
      "    lst_conf=[]\n",
      "    for line in open(name_file).readlines():\n",
      "        tokens = [token.lower() for token in line.split()]\n",
      "        if len(tokens)<2: continue\n",
      "        #print (\"tokens = \", tokens)\n",
      "        guess,confidence=similarity.cmp_first_tail(tokens[:-1],verbose=True)\n",
      "        if guess==tokens[-1]:\n",
      "            cnt_correct+=1\n",
      "            lst_conf.append(confidence)\n",
      "        cnt_all+=1\n",
      "        print (tokens[0],guess,guess==tokens[-1],\"\\n\")\n",
      "    success_rate=cnt_correct/cnt_all\n",
      "    print (\"success rate = \", success_rate)    \n",
      "    print (\"avg confidence = \", numpy.mean(lst_conf))"
     ],
     "language": "python",
     "metadata": {},
     "outputs": [],
     "prompt_number": 101
    },
    {
     "cell_type": "code",
     "collapsed": false,
     "input": [
      "#similarity.collocation_measure=similarity.CollocationMeasures.raw_frequency\n",
      "similarity.collocation_measure=similarity.CollocationMeasures.pmi\n",
      "#similarity.metric = similarity.cmp_vectors_euc\n",
      "similarity.metric = similarity.cmp_vectors_cosine\n",
      "do_synonyms_test(\"../tests/syn_easy.txt\")"
     ],
     "language": "python",
     "metadata": {},
     "outputs": [
      {
       "output_type": "stream",
       "stream": "stdout",
       "text": [
        "kind  vs\n",
        "nice      \t0.3265836543387078\n",
        "wild      \t0.25638788819632446\n",
        "funny     \t0.2164930243209058\n",
        "best      \t0.28808095228519515\n",
        "kind nice True \n",
        "\n",
        "fast  vs\n",
        "quick     \t0.5074222039548956\n",
        "kind      \t0.17998520207746688\n",
        "heavy     \t0.24817436263355466\n",
        "small     \t0.1888829041362341\n",
        "fast quick True \n",
        "\n",
        "skinny  vs\n",
        "small     \t0.05584178029457096\n",
        "little    \t0.17141904120131105\n",
        "thin      \t0.4750706212288929\n",
        "strong    \t0.0757168607623068\n",
        "skinny thin True \n",
        "\n",
        "remote  vs\n",
        "automatic \t0.21247366423602407\n",
        "mean      \t-0.03870877989324837\n",
        "savage    \t0.21195740545699177\n",
        "distant   \t0.6563057283925147\n",
        "remote distant True \n",
        "\n",
        "detest  vs\n",
        "argue     \t0.08727869904142661\n",
        "reveal    \t0.010908900424885326\n",
        "hate      \t0.16670925593065897\n",
        "discover  \t0.05291977356760437\n",
        "detest hate True \n",
        "\n",
        "gracious  vs\n",
        "clever    \t0.11477609548318216\n",
        "pretty    \t0.15260859147014\n",
        "present   \t0.06513340702681103\n",
        "pleasant  \t0.34456456709296235\n",
        "gracious pleasant True \n",
        "\n",
        "predict  vs\n",
        "foretell  \t0.3620288953856441\n",
        "decide    \t0.25261889485717404\n",
        "discover  \t0.3146183000497638\n",
        "prevent   \t0.2700078545918217\n",
        "predict foretell True \n",
        "\n",
        "kin  vs\n",
        "exult     \t-0.005677643796835202\n",
        "friend    \t0.023155238044043302\n",
        "relative  \t0.09221723710504254\n",
        "twist     \t0.12128814102666664\n",
        "kin twist False \n",
        "\n",
        "pensive  vs\n",
        "caged     \t0.0\n",
        "thoughtful\t0.2743310489459429\n",
        "oppressed \t0.0024429311443141576\n",
        "happy     \t0.04987689951038578\n",
        "pensive thoughtful True \n",
        "\n",
        "banish  vs\n",
        "hate      \t0.1807206044505716\n",
        "exile     \t0.062427025817709335\n",
        "fade      \t0.09317810361799339\n",
        "clean     \t0.021897307452846477\n",
        "banish hate False \n",
        "\n",
        "saccharine  vs\n",
        "leave     \t-0.011861611479004238\n",
        "sweet     \t0.10710990541576386\n",
        "quit      \t0.01802234891240605\n",
        "arid      \t0.08917669602088357\n",
        "saccharine sweet True \n",
        "\n",
        "drag  vs\n",
        "sleepy    \t0.18763342414140113\n",
        "proud     \t0.1240531283309667\n",
        "pull      \t0.37933886299847164\n",
        "crush     \t0.11978082701616115\n",
        "drag pull True \n",
        "\n",
        "success rate =  0.8333333333333334\n",
        "avg confidence =  0.179812411309\n"
       ]
      }
     ],
     "prompt_number": 102
    },
    {
     "cell_type": "code",
     "collapsed": false,
     "input": [
      "similarity.cmp_first_tail([\"kind\",\"nice\",\"best\"],verbose=True)"
     ],
     "language": "python",
     "metadata": {},
     "outputs": [
      {
       "output_type": "stream",
       "stream": "stdout",
       "text": [
        "kind  vs\n",
        "nice      \t0.3265836543387078\n",
        "best      \t0.28808095228519515\n"
       ]
      },
      {
       "metadata": {},
       "output_type": "pyout",
       "prompt_number": 100,
       "text": [
        "('nice', 0.03850270205351264)"
       ]
      }
     ],
     "prompt_number": 100
    },
    {
     "cell_type": "code",
     "collapsed": false,
     "input": [
      "similarity.show_common_context(\"kind\",\"nice\")"
     ],
     "language": "python",
     "metadata": {},
     "outputs": [
      {
       "output_type": "stream",
       "stream": "stdout",
       "text": [
        "thing        \t 705 \t 65\n",
        "little       \t 11 \t 374\n",
        "man          \t 159 \t 133\n",
        "people       \t 130 \t 138\n",
        "see          \t 21 \t 236\n",
        "person       \t 146 \t 78\n",
        "things       \t 134 \t 88\n",
        "one          \t 37 \t 183\n",
        "work         \t 150 \t 46\n",
        "know         \t 43 \t 139\n",
        "day          \t 13 \t 163\n",
        "said         \t 60 \t 93\n",
        "way          \t 97 \t 54\n",
        "enough       \t 104 \t 41\n",
        "girl         \t 38 \t 93\n",
        "another      \t 110 \t 5\n",
        "nice         \t 5 \t 105\n",
        "information  \t 82 \t 0\n"
       ]
      }
     ],
     "prompt_number": 12
    },
    {
     "cell_type": "code",
     "collapsed": false,
     "input": [
      "similarity.show_common_context(\"kind\",\"best\")"
     ],
     "language": "python",
     "metadata": {},
     "outputs": [
      {
       "output_type": "stream",
       "stream": "stdout",
       "text": [
        "thing        \t 705 \t 590\n",
        "way          \t 97 \t 1186\n",
        "known        \t 17 \t 737\n",
        "interests    \t 1 \t 488\n",
        "possible     \t 10 \t 423\n",
        "friend       \t 15 \t 406\n",
        "man          \t 159 \t 205\n",
        "use          \t 14 \t 251\n",
        "work         \t 150 \t 109\n",
        "time         \t 26 \t 226\n",
        "people       \t 130 \t 111\n",
        "part         \t 9 \t 212\n",
        "things       \t 134 \t 62\n",
        "person       \t 146 \t 47\n",
        "another      \t 110 \t 6\n",
        "enough       \t 104 \t 2\n",
        "information  \t 82 \t 18\n"
       ]
      }
     ],
     "prompt_number": 13
    },
    {
     "cell_type": "code",
     "collapsed": false,
     "input": [
      "scores = [3,6,2,1,3]\n",
      "sorted(scores)[-1]-sorted(scores)[-2]\n",
      "#sorted(scores)\n"
     ],
     "language": "python",
     "metadata": {},
     "outputs": [
      {
       "metadata": {},
       "output_type": "pyout",
       "prompt_number": 69,
       "text": [
        "3"
       ]
      }
     ],
     "prompt_number": 69
    },
    {
     "cell_type": "code",
     "collapsed": false,
     "input": [
      "cfd = nltk.ConditionalFreqDist()\n",
      "cfd[\"apple\"][\"orange\"]=2.3\n",
      "cfd[\"apple\"][\"orange\"]"
     ],
     "language": "python",
     "metadata": {},
     "outputs": [
      {
       "metadata": {},
       "output_type": "pyout",
       "prompt_number": 14,
       "text": [
        "2.3"
       ]
      }
     ],
     "prompt_number": 14
    },
    {
     "cell_type": "code",
     "collapsed": false,
     "input": [],
     "language": "python",
     "metadata": {},
     "outputs": [],
     "prompt_number": 14
    },
    {
     "cell_type": "code",
     "collapsed": false,
     "input": [],
     "language": "python",
     "metadata": {},
     "outputs": []
    }
   ],
   "metadata": {}
  }
 ]
}