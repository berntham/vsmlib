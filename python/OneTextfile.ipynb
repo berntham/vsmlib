{
 "metadata": {
  "name": ""
 },
 "nbformat": 3,
 "nbformat_minor": 0,
 "worksheets": [
  {
   "cells": [
    {
     "cell_type": "code",
     "collapsed": false,
     "input": [
      "import nltk\n",
      "import sys\n",
      "from nltk.collocations import *\n",
      "import math\n",
      "import similarity"
     ],
     "language": "python",
     "metadata": {},
     "outputs": [],
     "prompt_number": 1
    },
    {
     "cell_type": "code",
     "collapsed": false,
     "input": [
      "from nltk.corpus import stopwords\n",
      "ignore_words=stopwords.words('english')\n",
      "ignore_words.append(\"thou\")\n",
      "ignore_words.append(\"shall\")\n",
      "#nltk.download()"
     ],
     "language": "python",
     "metadata": {},
     "outputs": [],
     "prompt_number": 2
    },
    {
     "cell_type": "code",
     "collapsed": false,
     "input": [
      "raw = open('/storage/corpora/BNC/only_a0.txt').read()\n",
      "tokens = nltk.word_tokenize(raw)"
     ],
     "language": "python",
     "metadata": {},
     "outputs": [],
     "prompt_number": 3
    },
    {
     "cell_type": "code",
     "collapsed": false,
     "input": [
      "#raw = open('corpus/clarissa1.txt').read().lower()\n",
      "#words = nltk.word_tokenize(raw)\n",
      "#words=nltk.corpus.brown.words()\n",
      "#tokens = [w.lower() for w in words if len(w)>2 and not w.lower() in ignore_words]"
     ],
     "language": "python",
     "metadata": {},
     "outputs": [],
     "prompt_number": 4
    },
    {
     "cell_type": "code",
     "collapsed": false,
     "input": [
      "bigrams = nltk.bigrams(tokens)\n",
      "#[i for i in bigrams]\n",
      "#cfd = nltk.ConditionalFreqDist(bigrams)\n",
      "#cfd[\"fast\"].most_common(10)"
     ],
     "language": "python",
     "metadata": {},
     "outputs": [],
     "prompt_number": 5
    },
    {
     "cell_type": "code",
     "collapsed": false,
     "input": [
      "cache_freq={}"
     ],
     "language": "python",
     "metadata": {},
     "outputs": [],
     "prompt_number": 6
    },
    {
     "cell_type": "code",
     "collapsed": false,
     "input": [
      "def get_bigrams_by_word(text,w,window_size=2):\n",
      "    finder = BigramCollocationFinder.from_words(text,window_size)\n",
      "    #finder = BigramCollocationFinder.from_words(self.tokens, window_size)\n",
      "    finder.apply_freq_filter(2)\n",
      "    ignored_words = stopwords.words('english')\n",
      "    finder.apply_word_filter(lambda w: len(w) < 3 or w.lower() in ignored_words)\n",
      "    myfilter = lambda *w1: w not in w1\n",
      "    finder.apply_ngram_filter(myfilter)\n",
      "    #collocations = finder.nbest(bigram_measures.likelihood_ratio, num)\\n',\n",
      "    bigram_measures = nltk.collocations.BigramAssocMeasures()\n",
      "    #scored = finder.score_ngrams(bigram_measures.raw_freq)\n",
      "    scored = finder.score_ngrams(bigram_measures.pmi)\n",
      "    #scored = finder.score_ngrams(bigram_measures.likelihood_ratio)\n",
      "    return scored\n"
     ],
     "language": "python",
     "metadata": {},
     "outputs": [],
     "prompt_number": 10
    },
    {
     "cell_type": "code",
     "collapsed": false,
     "input": [
      "bi_fast = get_bigrams_by_word(tokens,\"fast\",window_size=2)\n",
      "bi_quick = get_bigrams_by_word(tokens,\"quick\",window_size=2)\n",
      "#bi_stupid = get_bigrams_by_word(tokens,\"stupid\",window_size=2)\n",
      "#bi_dumb = get_bigrams_by_word(tokens,\"dumb\",window_size=2)"
     ],
     "language": "python",
     "metadata": {},
     "outputs": [],
     "prompt_number": 15
    },
    {
     "cell_type": "code",
     "collapsed": false,
     "input": [
      "#len(bi_stupid)\n",
      "bi_fast[:25]\n",
      "#similarity.show_word_context(fast)"
     ],
     "language": "python",
     "metadata": {},
     "outputs": [
      {
       "metadata": {},
       "output_type": "pyout",
       "prompt_number": 16,
       "text": [
        "[(('fast', 'twitch'), 11.22677409982523),\n",
        " (('boom', 'fast'), 9.904846004937864),\n",
        " (('fast', 'explosive'), 9.904846004937864),\n",
        " (('fast', 'furious'), 9.563809087102799),\n",
        " (('fast', 'signal'), 9.526334381684133),\n",
        " (('fast', 'food'), 8.505674911118044),\n",
        " (('fast', 'asleep'), 8.272577789438351),\n",
        " (('fast', 'snap'), 7.834456677046466),\n",
        " (('changing', 'fast'), 7.612064255710019),\n",
        " (('fast', 'changing'), 7.612064255710019),\n",
        " (('launch', 'fast'), 7.238089413053061),\n",
        " (('europe', 'fast'), 6.817383163687525),\n",
        " (('fast', 'launch'), 6.238089413053061),\n",
        " (('short', 'fast'), 5.664531675604154),\n",
        " (('away', 'fast'), 4.328928643819715),\n",
        " (('fast', 'even'), 3.291609050221531)]"
       ]
      }
     ],
     "prompt_number": 16
    },
    {
     "cell_type": "code",
     "collapsed": false,
     "input": [
      "get_bigrams_by_word(tokens,\"kind\",window_size=2)\n"
     ],
     "language": "python",
     "metadata": {},
     "outputs": [
      {
       "metadata": {},
       "output_type": "pyout",
       "prompt_number": 17,
       "text": [
        "[(('kind', 'methodological'), 8.69128027536837),\n",
        " (('kind', 'desired'), 7.603817434118032),\n",
        " (('kind', 'dualism'), 7.603817434118032),\n",
        " (('experiments', 'kind'), 6.990840557227278),\n",
        " (('kind', 'accident'), 6.990840557227276),\n",
        " (('largest', 'kind'), 6.883925353310767),\n",
        " (('kind', 'demands'), 6.167718319311357),\n",
        " (('latter', 'kind'), 5.963359820805172),\n",
        " (('kind', 'solution'), 5.561997258423403),\n",
        " (('thank', 'kind'), 5.351430272483745),\n",
        " (('kind', 'nice'), 5.24833677951964),\n",
        " (('kind', 'thing'), 5.244197049158718),\n",
        " (('kind', 'fear'), 5.1677183193113585),\n",
        " (('kind', 'mental'), 4.923095950591442),\n",
        " (('kind', 'described'), 4.737083964981494),\n",
        " (('prevent', 'kind'), 4.691280275368371),\n",
        " (('thinking', 'kind'), 4.639618155545879),\n",
        " (('right', 'kind'), 4.5163545928676925),\n",
        " (('style', 'kind'), 4.405878056506122),\n",
        " (('certain', 'kind'), 4.399725829524527),\n",
        " (('natural', 'kind'), 4.298962852589609),\n",
        " (('kind', 'problem'), 4.004779748185154),\n",
        " (('different', 'kind'), 3.9599612443433045),\n",
        " (('kind', 'community'), 3.827094130714091),\n",
        " (('kind', 'training'), 3.621606747561561),\n",
        " (('kind', 'sense'), 3.419817247463996),\n",
        " (('kind', 'information'), 3.303262990023235),\n",
        " (('thing', 'kind'), 3.2441970491587178),\n",
        " (('system', 'kind'), 3.1405334899851276),\n",
        " (('kind', 'book'), 3.087653930382178),\n",
        " (('kind', 'life'), 2.9931544230655263),\n",
        " (('kind', 'things'), 2.9804738416690206),\n",
        " (('kind', 'help'), 2.625191084910597),\n",
        " (('kind', 'look'), 2.5985231344485165),\n",
        " (('kind', 'man'), 2.4916079305320054),\n",
        " (('life', 'kind'), 2.4081919223443684),\n",
        " (('need', 'kind'), 2.40356789581892),\n",
        " (('think', 'kind'), 2.2755385070782808),\n",
        " (('new', 'kind'), 1.9313920921465346),\n",
        " (('like', 'kind'), 1.7487657700291308),\n",
        " (('one', 'kind'), 1.3167841296768543),\n",
        " (('kind', 'may'), 1.2797692873562987),\n",
        " (('kind', 'like'), 1.163803269307973)]"
       ]
      }
     ],
     "prompt_number": 17
    },
    {
     "cell_type": "code",
     "collapsed": false,
     "input": [
      "#cmp_words(\"remote\",\"control\")\n",
      "show_common_context(\"remote\",\"mean\",15)"
     ],
     "language": "python",
     "metadata": {},
     "outputs": [
      {
       "ename": "NameError",
       "evalue": "name 'show_common_context' is not defined",
       "output_type": "pyerr",
       "traceback": [
        "\u001b[0;31m---------------------------------------------------------------------------\u001b[0m\n\u001b[0;31mNameError\u001b[0m                                 Traceback (most recent call last)",
        "\u001b[0;32m<ipython-input-15-c13c58bf3283>\u001b[0m in \u001b[0;36m<module>\u001b[0;34m()\u001b[0m\n\u001b[1;32m      1\u001b[0m \u001b[0;31m#cmp_words(\"remote\",\"control\")\u001b[0m\u001b[0;34m\u001b[0m\u001b[0;34m\u001b[0m\u001b[0m\n\u001b[0;32m----> 2\u001b[0;31m \u001b[0mshow_common_context\u001b[0m\u001b[0;34m(\u001b[0m\u001b[0;34m\"remote\"\u001b[0m\u001b[0;34m,\u001b[0m\u001b[0;34m\"mean\"\u001b[0m\u001b[0;34m,\u001b[0m\u001b[0;36m15\u001b[0m\u001b[0;34m)\u001b[0m\u001b[0;34m\u001b[0m\u001b[0m\n\u001b[0m",
        "\u001b[0;31mNameError\u001b[0m: name 'show_common_context' is not defined"
       ]
      }
     ],
     "prompt_number": 15
    },
    {
     "cell_type": "code",
     "collapsed": false,
     "input": [
      "#cmp_first_tail([\"fast\",\"quick\",\"tree\",\"cold\",\"apple\",\"door\"])\n",
      "#print(cfd[\"door\"])\n",
      "#for i in cfd[\"door\"]:\n",
      "#    print (i)\n",
      "#cfd[\"door\"].values()\n",
      "#import inspect\n",
      "#inspect.getmembers(cfd[\"door\"])\n",
      "#cmp_words(\"remote\",\"automatic\")\n",
      "#cmp_words(\"quick\",\"fast\")\n",
      "show_common_context(\"remote\",\"distant\",15)"
     ],
     "language": "python",
     "metadata": {},
     "outputs": [
      {
       "output_type": "stream",
       "stream": "stdout",
       "text": [
        "control      \t 202 \t 1\n",
        "areas        \t 105 \t 9\n",
        "sensing      \t 107 \t 0\n",
        "past         \t 19 \t 85\n",
        "future       \t 7 \t 77\n",
        "parts        \t 39 \t 26\n",
        "procedure    \t 53 \t 0\n",
        "rural        \t 47 \t 1\n",
        "places       \t 32 \t 15\n",
        "mountains    \t 4 \t 33\n",
        "part         \t 30 \t 7\n",
        "area         \t 30 \t 3\n",
        "relative     \t 0 \t 32\n",
        "cousin       \t 3 \t 29\n",
        "relatives    \t 0 \t 32\n",
        "possibility  \t 29 \t 2\n",
        "galaxies     \t 1 \t 22\n",
        "hills        \t 0 \t 23\n",
        "voices       \t 1 \t 20\n"
       ]
      }
     ],
     "prompt_number": 88
    },
    {
     "cell_type": "code",
     "collapsed": false,
     "input": [
      "#cmp_first_tail([\"remote\",\"distant\",\"savage\",\"automatic\",\"mean\"])\n",
      "#cmp_first_tail([\"apple\",\"orange\",\"star\",\"fast\",\"human\"])\n",
      "cmp_first_tail([\"skinny\",\"slim\",\"star\",\"fast\",\"human\"])"
     ],
     "language": "python",
     "metadata": {},
     "outputs": [
      {
       "output_type": "stream",
       "stream": "stdout",
       "text": [
        "slim      \t1.2544448286439378\n",
        "star      \t0.7643001747660837\n",
        "fast      \t1.037871017027894\n",
        "human     \t1.1027828410365321\n"
       ]
      }
     ],
     "prompt_number": 89
    },
    {
     "cell_type": "code",
     "collapsed": false,
     "input": [
      "cmp_first_tail([\"detest\",\"argue\",\"hate\",\"reveal\",\"discover\"])"
     ],
     "language": "python",
     "metadata": {},
     "outputs": [
      {
       "output_type": "stream",
       "stream": "stdout",
       "text": [
        "argue     \t0.5059042769150356\n",
        "hate      \t0.8070467244135733\n",
        "reveal    \t0.40551250295041874\n",
        "discover  \t0.4372730378594429\n"
       ]
      }
     ],
     "prompt_number": 90
    },
    {
     "cell_type": "code",
     "collapsed": false,
     "input": [
      "cmp_first_tail([\"gracious\",\"clever\",\"pleasant\",\"present\",\"pretty\"])"
     ],
     "language": "python",
     "metadata": {},
     "outputs": [
      {
       "output_type": "stream",
       "stream": "stdout",
       "text": [
        "clever    \t1.3101697055078607\n",
        "pleasant  \t1.0525277931073798\n",
        "present   \t1.263201704476968\n",
        "pretty    \t2.1844998283558574\n"
       ]
      }
     ],
     "prompt_number": 91
    },
    {
     "cell_type": "code",
     "collapsed": false,
     "input": [
      "cmp_first_tail([\"predict\",\"foretell\",\"prevent\",\"discover\",\"decide\"])\n",
      "show_common_context(\"predict\",\"decide\")"
     ],
     "language": "python",
     "metadata": {},
     "outputs": [
      {
       "output_type": "stream",
       "stream": "stdout",
       "text": [
        "foretell  \t2.035632372875343\n",
        "prevent   \t1.3092286031359013\n",
        "discover  \t1.4384638911949401\n",
        "decide    \t2.5828125427660984\n",
        "want         \t 1 \t 118\n",
        "future       \t 42 \t 35\n",
        "going        \t 8 \t 68\n",
        "best         \t 3 \t 70\n",
        "take         \t 2 \t 67\n",
        "upon         \t 0 \t 67\n",
        "much         \t 8 \t 50\n",
        "one          \t 7 \t 46\n",
        "use          \t 1 \t 51\n",
        "make         \t 1 \t 46\n",
        "the          \t 5 \t 40\n",
        "outcome      \t 17 \t 6\n",
        "happen       \t 15 \t 7\n",
        "behaviour    \t 17 \t 5\n",
        "likely       \t 16 \t 5\n",
        "people       \t 12 \t 7\n",
        "universe     \t 14 \t 1\n",
        "effects      \t 11 \t 3\n",
        "certainty    \t 9 \t 1\n"
       ]
      }
     ],
     "prompt_number": 92
    },
    {
     "cell_type": "code",
     "collapsed": false,
     "input": [
      "cmp_first_tail([\"pensive\",\"oppressed\",\"caged\",\"happy\",\"thoughtful\"])"
     ],
     "language": "python",
     "metadata": {},
     "outputs": [
      {
       "output_type": "stream",
       "stream": "stdout",
       "text": [
        "oppressed \t0.05450191875651809\n",
        "caged     \t0.03255402537488043\n",
        "happy     \t0.8621544083816084\n",
        "thoughtful\t0.27577680753734796\n"
       ]
      }
     ],
     "prompt_number": 93
    },
    {
     "cell_type": "code",
     "collapsed": false,
     "input": [
      "show_common_context(\"pensive\",\"thoughtful\",20)"
     ],
     "language": "python",
     "metadata": {},
     "outputs": [
      {
       "output_type": "stream",
       "stream": "stdout",
       "text": [
        "look         \t 0 \t 16\n",
        "silence      \t 0 \t 12\n",
        "way          \t 0 \t 9\n",
        "approach     \t 0 \t 9\n",
        "expression   \t 2 \t 5\n",
        "moment       \t 0 \t 7\n",
        "she          \t 2 \t 4\n",
        "man          \t 0 \t 6\n",
        "said         \t 0 \t 6\n",
        "people       \t 0 \t 6\n",
        "mood         \t 2 \t 3\n",
        "person       \t 0 \t 5\n",
        "even         \t 1 \t 3\n",
        "told         \t 2 \t 1\n",
        "drink        \t 1 \t 1\n",
        "slightly     \t 2 \t 0\n",
        "mawkishness  \t 1 \t 0\n",
        "roll-up      \t 1 \t 0\n",
        "hope         \t 1 \t 0\n"
       ]
      }
     ],
     "prompt_number": 94
    },
    {
     "cell_type": "code",
     "collapsed": false,
     "input": [],
     "language": "python",
     "metadata": {},
     "outputs": [],
     "prompt_number": 74
    },
    {
     "cell_type": "code",
     "collapsed": false,
     "input": [],
     "language": "python",
     "metadata": {},
     "outputs": [],
     "prompt_number": 74
    },
    {
     "cell_type": "code",
     "collapsed": false,
     "input": [],
     "language": "python",
     "metadata": {},
     "outputs": [],
     "prompt_number": 74
    },
    {
     "cell_type": "code",
     "collapsed": false,
     "input": [],
     "language": "python",
     "metadata": {},
     "outputs": []
    }
   ],
   "metadata": {}
  }
 ]
}