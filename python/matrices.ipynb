{
 "metadata": {
  "name": "",
  "signature": "sha256:f2a1798f8ab984ae05e6f15366cba80708f5beb0afc074f8e49fe6d9799ec3db"
 },
 "nbformat": 3,
 "nbformat_minor": 0,
 "worksheets": [
  {
   "cells": [
    {
     "cell_type": "code",
     "collapsed": false,
     "input": [
      "import os\n",
      "import socket\n",
      "import time\n",
      "import numpy as np\n",
      "import scipy\n",
      "from scipy import sparse\n",
      "import sklearn\n",
      "from sklearn.metrics import pairwise_distances\n",
      "from scipy.spatial.distance import cosine\n",
      "from IPython.display import HTML\n",
      "import matplotlib as mpl\n",
      "from matplotlib import pyplot as plt\n",
      "import math\n",
      "import glob\n",
      "import imp\n",
      "import vsmlib\n",
      "from vsmlib import testhelper,matrix,vocabulary,similarity\n",
      "from vsmlib.vocabulary import get_id,get_word_by_id\n",
      "from myutils.formathelper import sizeof_fmt,countof_fmt\n",
      "from vsmlib.similarity import cmp_words\n",
      "%matplotlib inline"
     ],
     "language": "python",
     "metadata": {},
     "outputs": [],
     "prompt_number": 21
    },
    {
     "cell_type": "code",
     "collapsed": false,
     "input": [
      "#imp.reload(vsmlib.matrix)\n",
      "imp.reload(vsmlib.similarity)\n",
      "\n",
      "if socket.gethostname()==\"cypress\":  dir_root=\"/storage/scratch/BNC\"\n",
      "if socket.gethostname()==\"ashtree\":  dir_root=\"/mnt/work/nlp_scratch/BNC\"\n",
      "if socket.gethostname()==\"rc017.m.gsic.titech.ac.jp\":  dir_root=\"/home/blackbird/data/scratch/brown\""
     ],
     "language": "python",
     "metadata": {},
     "outputs": [],
     "prompt_number": 22
    },
    {
     "cell_type": "code",
     "collapsed": false,
     "input": [
      "vocabulary.load(dir_root,verbose=True)"
     ],
     "language": "python",
     "metadata": {},
     "outputs": [
      {
       "output_type": "stream",
       "stream": "stdout",
       "text": [
        "Vocabulary loaded in 0.59 seconds\n",
        "190296 words (190.3K) in vocabulary\n"
       ]
      }
     ],
     "prompt_number": 14
    },
    {
     "cell_type": "code",
     "collapsed": false,
     "input": [
      "vocabulary.report_rare()"
     ],
     "language": "python",
     "metadata": {},
     "outputs": [
      {
       "output_type": "stream",
       "stream": "stdout",
       "text": [
        "words of frequency 0: 0.0 of total 64.3K - 0.00%\n",
        "words of frequency 1: 0.0 of total 64.3K - 0.00%"
       ]
      },
      {
       "output_type": "stream",
       "stream": "stdout",
       "text": [
        "\n",
        "words of frequency 2: 0.0 of total 64.3K - 0.00%"
       ]
      },
      {
       "output_type": "stream",
       "stream": "stdout",
       "text": [
        "\n",
        "words of frequency 3: 0.0 of total 64.3K - 0.00%"
       ]
      },
      {
       "output_type": "stream",
       "stream": "stdout",
       "text": [
        "\n",
        "words of frequency 4: 0.0 of total 64.3K - 0.00%"
       ]
      },
      {
       "output_type": "stream",
       "stream": "stdout",
       "text": [
        "\n",
        "words of frequency 5: 0.0 of total 64.3K - 0.00%"
       ]
      },
      {
       "output_type": "stream",
       "stream": "stdout",
       "text": [
        "\n"
       ]
      }
     ],
     "prompt_number": 15
    },
    {
     "cell_type": "code",
     "collapsed": false,
     "input": [
      "cooccurrence=matrix.load_matrix_csr(dir_root,zero_negatives=False,verbose=True)\n",
      "#path=dir_root\n",
      "#data = np.loadtxt(open(os.path.join(path,\"bigrams.data\")),dtype=np.float32)\n",
      "#col_ind = np.loadtxt(open(os.path.join(path,\"bigrams.col_ind\")),dtype=int)\n",
      "#row_ptr = np.loadtxt(open(os.path.join(path,\"bigrams.row_ptr\")),dtype=int)\n",
      "#cooccurrence=scipy.sparse.csr_matrix((data,col_ind,row_ptr),shape=(len(dic_words_ids),len(dic_words_ids)),dtype=np.float32)\n",
      "#fz=np.int32(0)\n",
      "#cooccurrence<fz"
     ],
     "language": "python",
     "metadata": {},
     "outputs": [
      {
       "output_type": "stream",
       "stream": "stdout",
       "text": [
        "shape of data = (18510342,)\n",
        "shape of col_ind = (18510342,)\n",
        "shape of row_ptr = (499557,)\n",
        "Matrix loaded in 0.92 sec"
       ]
      },
      {
       "output_type": "stream",
       "stream": "stdout",
       "text": [
        "\n",
        "Matrix dimentions : (499556, 499556) (499.6K unique words in the corpus )\n",
        "Would take 14.5TiB if stored in dense format\n",
        "Cnt nonzero elements = 18510342 (should take about 1.1GiB of memory space\n",
        "Sparsity = 0.0074%\n"
       ]
      }
     ],
     "prompt_number": 44
    },
    {
     "cell_type": "code",
     "collapsed": false,
     "input": [
      "#sreate sub_matrix\n",
      "words_of_interest_initial=[\"day\",\"running\",\"quick\",\"fast\",\"kind\",\"good\",\"point\",\"fun\"]\n",
      "words_of_interest=[w for w in words_of_interest_initial if vocabulary.get_id(w)>=0]\n",
      "print (\"remaining words of interest: \",words_of_interest)\n",
      "ids_of_interest=[get_id(w) for w in words_of_interest]\n",
      "#ids_of_interest\n",
      "max_width=20\n",
      "def get_most_informative_columns(m):\n",
      "    xdim=m.shape[1]\n",
      "    scores=np.zeros(xdim)\n",
      "    for i in range(m.shape[0]):\n",
      "        row = m[i]\n",
      "        #print (row)\n",
      "        for j in range(len(row)):\n",
      "            scores[j]+=row[j]\n",
      "    #return scores\n",
      "    tops = np.argsort(scores)\n",
      "    return list(reversed(tops[-max_width:]))\n",
      "    #for i in tops:\n",
      "     #   ids+=\n",
      "\n",
      "def filter_rows(m):\n",
      "    #return (cooccurrence[1].todense()[:width])\n",
      "    xdim=m.shape[1]\n",
      "    dense=np.empty([0,xdim])\n",
      "    #dense=np.empty([0,width])\n",
      "    for i in ids_of_interest:\n",
      "        if i<0: continue\n",
      "        if scipy.sparse.issparse(m):\n",
      "            row=m[i].todense()\n",
      "        else:\n",
      "            row=m[i]\n",
      "        row = np.asarray(row)\n",
      "        row = np.reshape(row,(xdim))\n",
      "        #dense=np.vstack([dense,row[:width]])\n",
      "        dense=np.vstack([dense,row])\n",
      "    return (dense)\n",
      "\n",
      "def filter_columns(rows):\n",
      "    #print (rows.shape)\n",
      "    xdim=rows.shape[1]\n",
      "    width=min(xdim,max_width)\n",
      "    #vert = np.empty((rows.shape[0],0))\n",
      "    vert = None\n",
      "    cols = get_most_informative_columns(rows)\n",
      "    #print (cols)\n",
      "    for i in get_most_informative_columns(rows):\n",
      "        if vert is None:\n",
      "            vert = (rows[:,i])\n",
      "        else:\n",
      "            vert=np.vstack([vert,rows[:,i]])\n",
      "    labels=[get_word_by_id(i) for i in cols]\n",
      "    \n",
      "    return vert.T,labels\n",
      "#words_of_interest\n",
      "#get_most_informative_columns(cooccurrence)\n",
      "rows = filter_rows(cooccurrence)\n",
      "#print (rows.shape)\n",
      "reduced,labels = filter_columns(rows)\n",
      "#reduced\n",
      "#labels"
     ],
     "language": "python",
     "metadata": {},
     "outputs": [
      {
       "output_type": "stream",
       "stream": "stdout",
       "text": [
        "remaining words of interest:  ['day', 'running', 'quick', 'fast', 'kind', 'good', 'point', 'fun']\n"
       ]
      }
     ],
     "prompt_number": 45
    },
    {
     "cell_type": "code",
     "collapsed": false,
     "input": [
      "#a=scipy.sparse.linalg.svds(cooccurrence)\n",
      "#w2=cooccurrence[get_id(\"caged\"),:].todense()\n",
      "#a=cooccurrence[1,:].todense()\n",
      "#b=cooccurrence[2,:].todense()\n",
      "#cosine(w1,w2)\n",
      "#get_id(\"caged\")"
     ],
     "language": "python",
     "metadata": {},
     "outputs": [],
     "prompt_number": 46
    },
    {
     "cell_type": "code",
     "collapsed": false,
     "input": [
      "print(get_id(\"fast\"))\n",
      "print(get_id(\"good\"))\n",
      "print(cmp_words(\"quick\",\"fast\",cooccurrence))\n",
      "print(cmp_words(\"point\",\"something\",cooccurrence))"
     ],
     "language": "python",
     "metadata": {},
     "outputs": [
      {
       "output_type": "stream",
       "stream": "stdout",
       "text": [
        "931\n",
        "149\n",
        "0.0818113526363\n",
        "0.0585917572578\n"
       ]
      }
     ],
     "prompt_number": 47
    },
    {
     "cell_type": "code",
     "collapsed": false,
     "input": [
      "import pylab\n",
      "pylab.rcParams['figure.figsize'] = (12.0, 8.0)\n",
      "from matplotlib.colors import Normalize\n",
      "\n",
      "class MidpointNormalize(Normalize):\n",
      "    def __init__(self, vmin=None, vmax=None, midpoint=None, clip=False):\n",
      "        self.midpoint = midpoint\n",
      "        Normalize.__init__(self, vmin, vmax, clip)\n",
      "\n",
      "    def __call__(self, value, clip=None):\n",
      "        # I'm ignoring masked values and all kinds of edge cases to make a\n",
      "        # simple example...\n",
      "        x, y = [self.vmin, self.midpoint, self.vmax], [0, 0.5, 1]\n",
      "        return np.ma.masked_array(np.interp(value, x, y))\n",
      "\n",
      "def plot_heat(ax,m,xlabels,numbered=False,symmetric_labels=True):\n",
      "    norm = MidpointNormalize(midpoint=0)\n",
      "    ax.set_aspect('equal')\n",
      "    ax.set_xticks(np.arange(m.shape[1])+0.5, minor=False)\n",
      "    if not numbered:\n",
      "        if symmetric_labels:\n",
      "            ax.set_xticklabels(xlabels, minor=False)\n",
      "        else: \n",
      "            ax.set_xticklabels(words_of_interest, minor=False)\n",
      "        plt.xticks(rotation=90)    \n",
      "    else:\n",
      "        ax.set_xticklabels(range(m.shape[1]), minor=False)\n",
      "    ax.set_yticks(np.arange(m.shape[0])+0.5, minor=False)\n",
      "#    ax.set_yticklabels(lst_words, minor=False)\n",
      "    ax.set_yticklabels(words_of_interest, minor=False)\n",
      "    #ax.set_frame_on(False)\n",
      "    heatmap = plt.pcolor(np.array(m), norm=norm, cmap=mpl.cm.RdBu, edgecolors=\"black\")    \n",
      "    #im = ax.imshow(np.array(m), norm=norm, cmap=plt.cm.seismic, interpolation='none')\n",
      "#fig.colorbar(im)\n",
      "    plt.colorbar(heatmap,orientation='horizontal')\n",
      "    \n",
      "def draw_features_and_similarity(mm,numbered=False):\n",
      "    rows=filter_rows(mm)\n",
      "    cols,ylabels=filter_columns(rows)\n",
      "    ax=plt.subplot(1,2,1)\n",
      "    plot_heat(ax,cols,ylabels,numbered)\n",
      "    #plot_heat(ax,abs(m),numbered)\n",
      "    ax=plt.subplot(1,2,2)\n",
      "    t = 1-pairwise_distances(rows, metric=\"cosine\")\n",
      "    np.fill_diagonal(t,0)\n",
      "    plot_heat(ax,t,words_of_interest,False,False)\n",
      "    #plt.savefig(\"m1.pdf\")\n",
      "    #plt.show()\n",
      "\n",
      "#draw_features_and_similarity(cooccurrence.todense())\n",
      "draw_features_and_similarity(cooccurrence)\n",
      "#draw_features_and_similarity(dense)"
     ],
     "language": "python",
     "metadata": {},
     "outputs": [
      {
       "metadata": {},
       "output_type": "display_data",
       "png": "[encoded data removed]",
       "text": [
        "<matplotlib.figure.Figure at 0x7fb2042b9358>"
       ]
      }
     ],
     "prompt_number": 48
    },
    {
     "cell_type": "code",
     "collapsed": false,
     "input": [
      "if cooccurrence.shape[1]>8000:\n",
      "    print (\"No way, this matrix is too huge\")\n",
      "else:\n",
      "    c=cooccurrence.todense()\n",
      "    ut, s_ev, vt = np.linalg.svd(c.T,full_matrices=False)\n",
      "    #projected=np.dot(vt.T,np.diag(s_ev))#[:,[0,1,2,3]]\n",
      "    projected_densesvd=np.dot(c,ut)\n",
      "    plt.plot(s_ev)\n",
      "    plt.show()\n",
      "    filename=dir_root.split('/')[-1]+\"_dense\"\n",
      "    filename=os.path.join(\"sigmas\",filename)\n",
      "    print (filename)\n",
      "    with open(filename, 'wb') as f:\n",
      "        #pickle.dump(s_ev, f)\n",
      "        #s_ev.tofile(f)\n",
      "        np.savetxt(f,s_ev)\n",
      "    draw_features_and_similarity(projected_densesvd,True) \n",
      "    plt.show()\n",
      "   \n",
      "#print(s_ev)\n",
      "#type(s_ev)\n",
      "#projected=vt\n",
      "#draw_features_and_similarity(projected,True) \n",
      "#plt.plot(s_ev)"
     ],
     "language": "python",
     "metadata": {},
     "outputs": [
      {
       "output_type": "stream",
       "stream": "stdout",
       "text": [
        "No way, this matrix is too huge\n"
       ]
      }
     ],
     "prompt_number": 49
    },
    {
     "cell_type": "markdown",
     "metadata": {},
     "source": [
      "#Trying scipy.soarse.linalg.svd"
     ]
    },
    {
     "cell_type": "code",
     "collapsed": false,
     "input": [
      "cnt_singular_vectors=50\n",
      "from scipy import sparse\n",
      "from scipy.sparse import linalg\n",
      "#from sparsesvd import sparsesvd\n",
      "time_start=time.time()\n",
      "ut, s_ev, vt = sparse.linalg.svds(cooccurrence,k=cnt_singular_vectors,which='LM') # LM SM LA SA BE\n",
      "time_end = time.time()\n",
      "print (\"took {0:0.2f} seconds\".format(time_end-time_start))"
     ],
     "language": "python",
     "metadata": {},
     "outputs": [
      {
       "output_type": "stream",
       "stream": "stdout",
       "text": [
        "took 46.62 seconds\n"
       ]
      }
     ],
     "prompt_number": 50
    },
    {
     "cell_type": "code",
     "collapsed": false,
     "input": [
      "plt.plot(s_ev)\n",
      "plt.show()\n",
      "#vt=np.nan_to_num(vt.T)\n",
      "projected_scipy=np.dot(ut,np.diag(s_ev))\n",
      "draw_features_and_similarity(projected_scipy,True) \n",
      "plt.show\n",
      "None"
     ],
     "language": "python",
     "metadata": {},
     "outputs": [
      {
       "metadata": {},
       "output_type": "display_data",
       "png": "[encoded data removed]",
       "text": [
        "<matplotlib.figure.Figure at 0x7fb1d70d4f98>"
       ]
      },
      {
       "metadata": {},
       "output_type": "display_data",
       "png": "[encoded data removed]",
       "text": [
        "<matplotlib.figure.Figure at 0x7fb1db466080>"
       ]
      }
     ],
     "prompt_number": 51
    },
    {
     "cell_type": "code",
     "collapsed": false,
     "input": [],
     "language": "python",
     "metadata": {},
     "outputs": [],
     "prompt_number": 69
    },
    {
     "cell_type": "markdown",
     "metadata": {},
     "source": [
      "#Trying sparsescd"
     ]
    },
    {
     "cell_type": "code",
     "collapsed": false,
     "input": [
      "from sparsesvd import sparsesvd\n",
      "c=cooccurrence.T.tocsc()\n",
      "time_start = time.time()\n",
      "ut, s_ev, vt = sparsesvd(c,cnt_singular_vectors)\n",
      "projected_svdpack=np.dot(vt.T,np.diag(s_ev))\n",
      "time_end = time.time()\n",
      "print (\"took {0:0.2f} seconds\".format(time_end-time_start))\n",
      "draw_features_and_similarity(projected_svdpack,True) "
     ],
     "language": "python",
     "metadata": {},
     "outputs": [
      {
       "ename": "NameError",
       "evalue": "name 'cooccurrence' is not defined",
       "output_type": "pyerr",
       "traceback": [
        "\u001b[1;31m---------------------------------------------------------------------------\u001b[0m\n\u001b[1;31mNameError\u001b[0m                                 Traceback (most recent call last)",
        "\u001b[1;32m<ipython-input-27-87b05fc44b9a>\u001b[0m in \u001b[0;36m<module>\u001b[1;34m()\u001b[0m\n\u001b[0;32m      1\u001b[0m \u001b[1;32mfrom\u001b[0m \u001b[0msparsesvd\u001b[0m \u001b[1;32mimport\u001b[0m \u001b[0msparsesvd\u001b[0m\u001b[1;33m\u001b[0m\u001b[0m\n\u001b[1;32m----> 2\u001b[1;33m \u001b[0mc\u001b[0m\u001b[1;33m=\u001b[0m\u001b[0mcooccurrence\u001b[0m\u001b[1;33m.\u001b[0m\u001b[0mT\u001b[0m\u001b[1;33m.\u001b[0m\u001b[0mtocsc\u001b[0m\u001b[1;33m(\u001b[0m\u001b[1;33m)\u001b[0m\u001b[1;33m\u001b[0m\u001b[0m\n\u001b[0m\u001b[0;32m      3\u001b[0m \u001b[0mtime_start\u001b[0m \u001b[1;33m=\u001b[0m \u001b[0mtime\u001b[0m\u001b[1;33m.\u001b[0m\u001b[0mtime\u001b[0m\u001b[1;33m(\u001b[0m\u001b[1;33m)\u001b[0m\u001b[1;33m\u001b[0m\u001b[0m\n\u001b[0;32m      4\u001b[0m \u001b[0mut\u001b[0m\u001b[1;33m,\u001b[0m \u001b[0ms_ev\u001b[0m\u001b[1;33m,\u001b[0m \u001b[0mvt\u001b[0m \u001b[1;33m=\u001b[0m \u001b[0msparsesvd\u001b[0m\u001b[1;33m(\u001b[0m\u001b[0mc\u001b[0m\u001b[1;33m,\u001b[0m\u001b[0mcnt_singular_vectors\u001b[0m\u001b[1;33m)\u001b[0m\u001b[1;33m\u001b[0m\u001b[0m\n\u001b[0;32m      5\u001b[0m \u001b[0mprojected_svdpack\u001b[0m\u001b[1;33m=\u001b[0m\u001b[0mnp\u001b[0m\u001b[1;33m.\u001b[0m\u001b[0mdot\u001b[0m\u001b[1;33m(\u001b[0m\u001b[0mvt\u001b[0m\u001b[1;33m.\u001b[0m\u001b[0mT\u001b[0m\u001b[1;33m,\u001b[0m\u001b[0mnp\u001b[0m\u001b[1;33m.\u001b[0m\u001b[0mdiag\u001b[0m\u001b[1;33m(\u001b[0m\u001b[0ms_ev\u001b[0m\u001b[1;33m)\u001b[0m\u001b[1;33m)\u001b[0m\u001b[1;33m\u001b[0m\u001b[0m\n",
        "\u001b[1;31mNameError\u001b[0m: name 'cooccurrence' is not defined"
       ]
      }
     ],
     "prompt_number": 27
    },
    {
     "cell_type": "code",
     "collapsed": false,
     "input": [
      "plt.plot(s_ev)"
     ],
     "language": "python",
     "metadata": {},
     "outputs": [
      {
       "metadata": {},
       "output_type": "pyout",
       "prompt_number": 71,
       "text": [
        "[<matplotlib.lines.Line2D at 0x7f4d8e192dd8>]"
       ]
      },
      {
       "metadata": {},
       "output_type": "display_data",
       "png": "[encoded data removed]",
       "text": [
        "<matplotlib.figure.Figure at 0x7f4d954ca2e8>"
       ]
      }
     ],
     "prompt_number": 71
    },
    {
     "cell_type": "code",
     "collapsed": false,
     "input": [
      "################## MPLD3    ############################\n",
      "#import mpld3\n",
      "#mpld3.enable_notebook()\n",
      "#fig, ax = plt.subplots()\n",
      "#np.random.seed(0)\n",
      "#ax.plot(np.random.normal(size=100),\n",
      "#        np.random.normal(size=100),\n",
      "#        'or', ms=10, alpha=0.3)\n",
      "#ax.plot(np.random.normal(size=100),\n",
      "#        np.random.normal(size=100),\n",
      "#        'ob', ms=20, alpha=0.1)\n",
      "\n",
      "#ax.set_xlabel('this is x')\n",
      "#ax.set_ylabel('this is y')\n",
      "#ax.set_title('Matplotlib Plot Rendered in D3!', size=14)\n",
      "#ax.grid(color='lightgray', alpha=0.7)\n",
      "\n",
      "#mpld3.display(fig)\n",
      "\n"
     ],
     "language": "python",
     "metadata": {},
     "outputs": [],
     "prompt_number": 115
    },
    {
     "cell_type": "code",
     "collapsed": false,
     "input": [
      "################## TRY BOKEH ###############\n",
      "#import bokeh\n",
      "#import bokeh.plotting\n",
      "#bokeh.plotting.output_notebook()"
     ],
     "language": "python",
     "metadata": {},
     "outputs": [],
     "prompt_number": 116
    },
    {
     "cell_type": "code",
     "collapsed": false,
     "input": [
      "#bokeh.plotting.rect(list(range(8)),list(range(8)), 0.95, 0.95, # source=c,\n",
      "     #x_axis_location=\"above\",\n",
      "     #x_range=years, y_range=list(reversed(months)),\n",
      "     #color='color', \n",
      "#     line_color=None,\n",
      "#     tools=\"resize,hover\", \n",
      "#     title=\"Co-occurrence matrix\",\n",
      "#     plot_width=400, plot_height=400)\n",
      "#bokeh.plotting.grid().grid_line_color = None\n",
      "#bokeh.plotting.axis().axis_line_color = None\n",
      "#bokeh.plotting.axis().major_tick_line_color = None\n",
      "#bokeh.plotting.axis().major_label_text_font_size = \"6pt\"\n",
      "#bokeh.plotting.axis().major_label_standoff = 0\n",
      "#bokeh.plotting.xaxis().major_label_orientation = np.pi/3\n",
      "#bokeh.plotting.show()"
     ],
     "language": "python",
     "metadata": {},
     "outputs": [],
     "prompt_number": 117
    },
    {
     "cell_type": "code",
     "collapsed": false,
     "input": [
      "#for i in s1.nonzero()[1]:\n",
      "    #print (i)\n",
      "#get_pmi(\"fast\")\n",
      "#get_id(\"caged\")\n",
      "#s=cooccurrence[46351,:]\n",
      "def cmp_first_tail(l,verbose=False):\n",
      "    max_score=-1;\n",
      "    max_element=None\n",
      "    scores=[]\n",
      "    if verbose: \n",
      "        print (l[0],\" vs\")\n",
      "    for i in l[1:]:\n",
      "        score=cmp_words(l[0],i)\n",
      "        scores.append(score)\n",
      "        if verbose: print (i.ljust(10)+\"\\t\"+str(score))\n",
      "    confidence = sorted(scores)[-1]-sorted(scores)[-2]\n",
      "    return scores,  l[scores.index(max(scores))+1]\n",
      "    #return l[scores.index(max(scores))+1], confidence"
     ],
     "language": "python",
     "metadata": {},
     "outputs": [],
     "prompt_number": 19
    },
    {
     "cell_type": "code",
     "collapsed": false,
     "input": [
      "def get_most_related_rows(id,m):\n",
      "    scores=[]\n",
      "    if id<0: return []\n",
      "    for i in range(m.shape[0]):\n",
      "        if i==id: continue\n",
      "        scores.append([similarity.cmp_rows(id,i,m),i])\n",
      "    scores.sort()\n",
      "    result=[]\n",
      "    for q in reversed(scores[-10:]):\n",
      "        if q[0]>0:\n",
      "            result.append([q[1],q[0]])\n",
      "    return result\n",
      "\n",
      "def get_most_similar_vectors(u,m):\n",
      "    scores=[]\n",
      "    for i in range(m.shape[0]):\n",
      "        scores.append([similarity.cmp_vectors(u,m[i]),i])\n",
      "    scores.sort()\n",
      "    result=[]\n",
      "    for q in reversed(scores[-10:]):\n",
      "        if q[0]>0:\n",
      "            result.append([q[1],q[0]])\n",
      "    return result\n",
      "\n",
      "def get_most_related_words(word,m,dic_words,lst_words):\n",
      "    id = dic_words[word]\n",
      "    rows = get_most_related_rows(id,m)\n",
      "    results=[]\n",
      "    for i in rows:\n",
      "        results.append([lst_words[i[0]],i[1]])\n",
      "    return results\n",
      "\n",
      "def get_most_similar_words(vec,m,lst_words):\n",
      "    rows = get_most_similar_vectors(vec,m)\n",
      "    results=[]\n",
      "    for i in rows:\n",
      "        results.append([lst_words[i[0]],i[1]])\n",
      "    return results\n",
      "#cmp_first_tail([\"run\",\"walk\",\"fast\",\"day\",\"foo1\"])\n",
      "\n",
      "#%timeit -n 1 get_most_related_words(\"fast\")\n",
      "#get_most_related_words(\"fuck\",matr)\n",
      "get_most_related_words(\"fuck\",matr,dic_words,lst_words_w2v)\n",
      "#vec=matr[dic_words[\"king\"]]-matr[dic_words[\"man\"]]+matr[dic_words[\"woman\"]]\n",
      "#vec=matr[dic_words[\"paris\"]]-matr[dic_words[\"france\"]]+matr[dic_words[\"russia\"]]\n",
      "#vec=matr[dic_words[\"zero\"]]\n",
      "#get_most_similar_words(vec,matr,lst_words_w2v)\n",
      "#get_word_by_id(1)\n",
      "#get_id(\"gutenberg-tm\")"
     ],
     "language": "python",
     "metadata": {},
     "outputs": [
      {
       "metadata": {},
       "output_type": "pyout",
       "prompt_number": 65,
       "text": [
        "[['fucking', 0.79287911695963009],\n",
        " ['shit', 0.76588550399368782],\n",
        " [\"fuckin'\", 0.70273600236988076],\n",
        " ['crap', 0.63752011284352017],\n",
        " ['fucked', 0.62802175450454678],\n",
        " ['\"fuck', 0.62538898729283732],\n",
        " ['piss', 0.62444306174939657],\n",
        " ['bullshit', 0.61483261673644884],\n",
        " ['bitch', 0.60862020305515541],\n",
        " ['f***', 0.60216531766446335]]"
       ]
      }
     ],
     "prompt_number": 65
    },
    {
     "cell_type": "code",
     "collapsed": false,
     "input": [
      "#get_most_related_words(\"point\",projected_densesvd)\n",
      "get_most_related_words(\"enormously\",projected_scipy)\n",
      "#get_most_related_words(\"zenith\",projected_svdpack)\n"
     ],
     "language": "python",
     "metadata": {},
     "outputs": [
      {
       "ename": "NameError",
       "evalue": "name 'projected_scipy' is not defined",
       "output_type": "pyerr",
       "traceback": [
        "\u001b[0;31m---------------------------------------------------------------------------\u001b[0m\n\u001b[0;31mNameError\u001b[0m                                 Traceback (most recent call last)",
        "\u001b[0;32m<ipython-input-23-dde352a7ae09>\u001b[0m in \u001b[0;36m<module>\u001b[0;34m()\u001b[0m\n\u001b[1;32m      1\u001b[0m \u001b[0;31m#get_most_related_words(\"point\",projected_densesvd)\u001b[0m\u001b[0;34m\u001b[0m\u001b[0;34m\u001b[0m\u001b[0m\n\u001b[0;32m----> 2\u001b[0;31m \u001b[0mget_most_related_words\u001b[0m\u001b[0;34m(\u001b[0m\u001b[0;34m\"enormously\"\u001b[0m\u001b[0;34m,\u001b[0m\u001b[0mprojected_scipy\u001b[0m\u001b[0;34m)\u001b[0m\u001b[0;34m\u001b[0m\u001b[0m\n\u001b[0m\u001b[1;32m      3\u001b[0m \u001b[0;31m#get_most_related_words(\"zenith\",projected_svdpack)\u001b[0m\u001b[0;34m\u001b[0m\u001b[0;34m\u001b[0m\u001b[0m\n",
        "\u001b[0;31mNameError\u001b[0m: name 'projected_scipy' is not defined"
       ]
      }
     ],
     "prompt_number": 23
    },
    {
     "cell_type": "code",
     "collapsed": false,
     "input": [
      "def do_synonyms_test(lines):\n",
      "    output=\"\"\n",
      "    cnt_all=0;\n",
      "    cnt_correct=0;\n",
      "    lst_conf=[]\n",
      "    for tokens in lines:\n",
      "        print (\"processing\",tokens[0])\n",
      "        #guess,confidence=cmp_first_tail(tokens[:-1],verbose=False)\n",
      "        scores,guess=cmp_first_tail(tokens[:-1],verbose=False)\n",
      "        #print (scores)\n",
      "        if guess==tokens[-1]:\n",
      "            cnt_correct+=1\n",
      "            #lst_conf.append(confidence)\n",
      "        cnt_all+=1\n",
      "        #print (tokens[0],guess,guess==tokens[-1],\"\\n\")\n",
      "        output+=\"<b>\"+tokens[0]+\"</b>[{}] : \".format(get_frequency(get_id(tokens[0])))\n",
      "\n",
      "        for i in range(len(tokens)-2):\n",
      "            t=tokens[i+1]\n",
      "            if t==guess:\n",
      "                if (t==tokens[-1]):\n",
      "                    output+=\" <span style=\\\"color:green;\\\">\"+t+\"</span>\"\n",
      "                else:\n",
      "                    output+=\" <span style=\\\"color:red;\\\">\"+t+\"</span>\"\n",
      "            else: \n",
      "                if (t==tokens[-1]):\n",
      "                    output+=\" <span style=\\\"text-decoration: underline; border-decoration-color: green; -moz-text-decoration-color: green;\\\">\"+t+\"</span>\"\n",
      "                else:\n",
      "                    output+=\" \"+t\n",
      "            output+=\"[{}]\".format(get_frequency(get_id(t)))\n",
      "            output+=\"({:.2f})\".format(scores[i])\n",
      "        output+=\"<br />\\n\"\n",
      "        #related=get_most_related_words(tokens[0])\n",
      "        #for r in related:\n",
      "#            output+=\"{}({:.2f}) \".format(r[0],r[1])\n",
      "        #if (guess==tokens[-1]):\n",
      "#            output+=\"<span style=\\\"color:green\\\">correct!</span>\"\n",
      "#        else:\n",
      "#            output+=\"<span style=\\\"color:red\\\">wrong</span>, should be \"+tokens[-1]\n",
      "        #output+=\"<br /><br />\\n\"\n",
      "    success_rate=cnt_correct/cnt_all\n",
      "    output+=\"<br />success rate = \" + str( success_rate)+\"</br>\\n\"\n",
      "    #output+=\"avg confidence = \"+ str( np.mean(lst_conf))+\"</br>\\n\"\n",
      "    with open(\"last_test.html\", 'w') as f:\n",
      "        print(output,file=f)\n",
      "    #s_ev.tofile(f)\n",
      "    return HTML(output)\n",
      "#do_synonyms_test(testhelper.get_test_from_toefl(\"../tests/toefl/toefl\"))"
     ],
     "language": "python",
     "metadata": {},
     "outputs": [],
     "prompt_number": 66
    },
    {
     "cell_type": "code",
     "collapsed": false,
     "input": [
      "#do_synonyms_test(get_test_from_file(\"../tests/syn_easy.txt\"))\n",
      "do_synonyms_test(testhelper.get_test_from_toefl(\"../tests/toefl/toefl\"))"
     ],
     "language": "python",
     "metadata": {},
     "outputs": [
      {
       "output_type": "stream",
       "stream": "stdout",
       "text": [
        "processing enormously\n",
        "processing provisions\n",
        "processing haphazardly\n",
        "processing prominent\n",
        "processing zenith\n",
        "processing flawed\n",
        "processing urgently\n",
        "processing consumed\n",
        "processing advent\n",
        "processing"
       ]
      },
      {
       "output_type": "stream",
       "stream": "stdout",
       "text": [
        " concisely\n",
        "processing salutes\n",
        "processing solitary\n",
        "processing hasten\n",
        "processing perseverance\n",
        "processing fanciful\n",
        "processing showed\n",
        "processing constantly\n",
        "processing issues\n",
        "processing"
       ]
      },
      {
       "output_type": "stream",
       "stream": "stdout",
       "text": [
        " furnish\n",
        "processing costly\n",
        "processing recognized\n",
        "processing spot\n",
        "processing make\n",
        "processing often\n",
        "processing easygoing\n",
        "processing debate\n",
        "processing narrow\n",
        "processing"
       ]
      },
      {
       "output_type": "stream",
       "stream": "stdout",
       "text": [
        " arranged\n",
        "processing infinite\n",
        "processing showy\n",
        "processing levied\n",
        "processing deftly\n",
        "processing distribute\n",
        "processing discrepancies\n",
        "processing prolific\n",
        "processing unmatched\n",
        "processing peculiarly\n",
        "processing"
       ]
      },
      {
       "output_type": "stream",
       "stream": "stdout",
       "text": [
        " hue\n",
        "processing hind\n",
        "processing highlight\n",
        "processing hastily\n",
        "processing temperate\n",
        "processing grin\n",
        "processing verbally\n",
        "processing physician\n",
        "processing essentially\n",
        "processing keen\n",
        "processing"
       ]
      },
      {
       "output_type": "stream",
       "stream": "stdout",
       "text": [
        " situated\n",
        "processing principal\n",
        "processing slowly\n",
        "processing built\n",
        "processing tasks\n",
        "processing unlikely\n",
        "processing halfheartedly\n",
        "processing annals\n",
        "processing wildly\n",
        "processing hailed\n",
        "processing"
       ]
      },
      {
       "output_type": "stream",
       "stream": "stdout",
       "text": [
        " command\n",
        "processing concocted\n",
        "processing prospective\n",
        "processing generally\n",
        "processing sustained\n",
        "processing perilous\n",
        "processing tranquillity\n",
        "processing dissipate\n",
        "processing primarily\n",
        "processing colloquial\n",
        "processing"
       ]
      },
      {
       "output_type": "stream",
       "stream": "stdout",
       "text": [
        " resolved\n",
        "processing feasible\n",
        "processing expeditiously\n",
        "processing percentage\n",
        "processing terminated\n",
        "processing uniform\n",
        "processing figure\n",
        "processing sufficient\n",
        "processing fashion\n",
        "processing marketed\n",
        "processing"
       ]
      },
      {
       "output_type": "stream",
       "stream": "stdout",
       "text": [
        " bigger\n",
        "processing roots\n",
        "processing normally\n"
       ]
      },
      {
       "html": [
        "<b>enormously</b>[813] :  appropriately[879](0.02) uniquely[527](0.05) <span style=\"color:green;\">tremendously</span>[299](0.17) decidedly[421](0.01)<br />\n",
        "<b>provisions</b>[4121] :  <span style=\"text-decoration: underline; border-decoration-color: green; -moz-text-decoration-color: green;\">stipulations</span>[40](0.04) interrelations[21](0.01) <span style=\"color:red;\">jurisdictions</span>[236](0.04) interpretations[1042](0.04)<br />\n",
        "<b>haphazardly</b>[85] :  dangerously[571](0.01) densely[250](0.03) <span style=\"color:green;\">randomly</span>[367](0.06) linearly[100](0.02)<br />\n",
        "<b>prominent</b>[2273] :  battered[887](0.02) ancient[4894](0.03) mysterious[1286](0.02) <span style=\"color:green;\">conspicuous</span>[744](0.06)<br />\n",
        "<b>zenith</b>[236] :  completion[2467](0.01) <span style=\"text-decoration: underline; border-decoration-color: green; -moz-text-decoration-color: green;\">pinnacle</span>[214](0.03) <span style=\"color:red;\">outset</span>[986](0.03) decline[4675](0.01)<br />\n",
        "<b>flawed</b>[375] :  tiny[5172](0.01) <span style=\"text-decoration: underline; border-decoration-color: green; -moz-text-decoration-color: green;\">imperfect</span>[348](0.02) lustrous[68](0.00) <span style=\"color:red;\">crude</span>[1342](0.04)<br />\n",
        "<b>urgently</b>[831] :  typically[2100](0.01) conceivably[266](0.02) tentatively[344](0.03) <span style=\"color:green;\">desperately</span>[1843](0.08)<br />\n",
        "<b>consumed</b>[813] :  bred[693](0.03) caught[8206](0.01) <span style=\"color:green;\">eaten</span>[1620](0.05) supplied[3334](0.03)<br />\n",
        "<b>advent</b>[796] :  <span style=\"text-decoration: underline; border-decoration-color: green; -moz-text-decoration-color: green;\">coming</span>[19511](0.02) arrest[2141](0.01) <span style=\"color:red;\">financing</span>[1150](0.02) stability[2121](0.02)<br />\n",
        "<b>concisely</b>[60] :  powerfully[431](0.03) positively[1302](0.02) freely[1563](0.02) <span style=\"color:green;\">succinctly</span>[190](0.06)<br />\n",
        "<b>salutes</b>[55] :  information[38316](0.00) ceremonies[412](0.00) <span style=\"color:green;\">greetings</span>[308](0.01) privileges[923](0.00)<br />\n",
        "<b>solitary</b>[822] :  <span style=\"color:red;\">alert</span>[1527](0.03) restless[613](0.02) <span style=\"text-decoration: underline; border-decoration-color: green; -moz-text-decoration-color: green;\">alone</span>[13479](0.01) fearless[154](0.01)<br />\n",
        "<b>hasten</b>[205] :  permit[1623](0.03) determine[3887](0.01) <span style=\"color:green;\">accelerate</span>[420](0.09) accompany[877](0.02)<br />\n",
        "<b>perseverance</b>[139] :  <span style=\"text-decoration: underline; border-decoration-color: green; -moz-text-decoration-color: green;\">endurance</span>[296](0.02) <span style=\"color:red;\">skill</span>[3454](0.04) generosity[599](0.02) disturbance[843](0.01)<br />\n",
        "<b>fanciful</b>[226] :  familiar[5573](0.02) <span style=\"color:green;\">imaginative</span>[1026](0.05) apparent[5215](0.01) logical[2278](0.03)<br />\n",
        "<b>showed</b>[10401] :  <span style=\"color:green;\">demonstrated</span>[2693](0.07) published[10649](0.02) repeated[3963](0.03) postponed[760](0.00)<br />\n",
        "<b>constantly</b>[2993] :  instantly[1521](0.05) <span style=\"color:green;\">continually</span>[1306](0.20) rapidly[4484](0.08) accidentally[534](0.05)<br />\n",
        "<b>issues</b>[12177] :  training[20401](0.05) salaries[926](0.03) <span style=\"color:green;\">subjects</span>[7649](0.06) benefits[7704](0.06)<br />\n",
        "<b>furnish</b>[217] :  <span style=\"color:green;\">supply</span>[9512](0.03) impress[614](0.02) protect[5025](0.01) advise[2020](0.02)<br />\n",
        "<b>costly</b>[1119] :  <span style=\"color:green;\">expensive</span>[5747](0.10) beautiful[8382](0.02) popular[10375](0.02) complicated[3006](0.06)<br />\n",
        "<b>recognized</b>[3073] :  successful[10694](0.03) depicted[661](0.02) <span style=\"color:green;\">acknowledged</span>[2066](0.08) welcomed[2279](0.04)<br />\n",
        "<b>spot</b>[4814] :  climate[2784](0.02) latitude[247](0.01) <span style=\"color:red;\">sea</span>[12600](0.03) <span style=\"text-decoration: underline; border-decoration-color: green; -moz-text-decoration-color: green;\">location</span>[3898](0.03)<br />\n",
        "<b>make</b>[77291] :  <span style=\"text-decoration: underline; border-decoration-color: green; -moz-text-decoration-color: green;\">earn</span>[1962](0.01) print[3112](0.00) <span style=\"color:red;\">trade</span>[19821](0.03) borrow[1425](-0.01)<br />\n",
        "<b>often</b>[37137] :  definitely[3059](0.04) <span style=\"color:green;\">frequently</span>[5710](0.15) chemically[225](0.02) hardly[8402](0.07)<br />\n",
        "<b>easygoing</b>[41] :  frontier[867](0.00) boring[1662](0.00) farming[2273](0.01) <span style=\"color:green;\">relaxed</span>[2444](0.06)<br />\n",
        "<b>debate</b>[7264] :  war[27236](0.05) <span style=\"color:green;\">argument</span>[8212](0.09) election[9664](0.06) competition[9388](0.05)<br />\n",
        "<b>narrow</b>[4824] :  clear[24946](0.03) freezing[967](0.03) <span style=\"color:green;\">thin</span>[4977](0.08) poisonous[437](0.00)<br />\n",
        "<b>arranged</b>[3949] :  <span style=\"color:green;\">planned</span>[5719](0.06) explained[6765](0.03) studied[3883](0.03) discarded[774](0.02)<br />\n",
        "<b>infinite</b>[921] :  <span style=\"color:green;\">limitless</span>[178](0.11) relative[5795](0.03) unusual[4018](0.04) structural[2714](0.03)<br />\n",
        "<b>showy</b>[62] :  <span style=\"text-decoration: underline; border-decoration-color: green; -moz-text-decoration-color: green;\">striking</span>[2567](0.01) <span style=\"color:red;\">prickly</span>[181](0.02) entertaining[979](0.01) incidental[364](-0.00)<br />\n",
        "<b>levied</b>[402] :  <span style=\"color:green;\">imposed</span>[3411](0.06) believed[7965](0.01) requested[1587](0.03) correlated[491](0.02)<br />\n",
        "<b>deftly</b>[153] :  <span style=\"text-decoration: underline; border-decoration-color: green; -moz-text-decoration-color: green;\">skillfully</span>[5](0.00) prudently[86](0.03) occasionally[3868](0.02) <span style=\"color:red;\">humorously</span>[45](0.03)<br />\n",
        "<b>distribute</b>[603] :  commercialize[2](0.00) <span style=\"color:green;\">circulate</span>[305](0.03) research[26703](0.00) acknowledge[1454](0.02)<br />\n",
        "<b>discrepancies</b>[267] :  weights[877](0.02) deposits[1943](0.01) wavelengths[225](0.03) <span style=\"color:green;\">differences</span>[7732](0.06)<br />\n",
        "<b>prolific</b>[395] :  <span style=\"color:green;\">productive</span>[1362](0.03) serious[12077](0.01) capable[4824](0.01) promising[1519](0.02)<br />\n",
        "<b>unmatched</b>[76] :  unrecognized[73](0.01) <span style=\"text-decoration: underline; border-decoration-color: green; -moz-text-decoration-color: green;\">unequaled</span>[0](0.00) alienated[358](0.01) <span style=\"color:red;\">emulated</span>[79](0.04)<br />\n",
        "<b>peculiarly</b>[298] :  partly[5575](0.02) <span style=\"color:green;\">uniquely</span>[527](0.08) patriotically[3](0.00) suspiciously[354](0.02)<br />\n",
        "<b>hue</b>[217] :  glare[533](0.01) contrast[6445](0.01) <span style=\"text-decoration: underline; border-decoration-color: green; -moz-text-decoration-color: green;\">color</span>[115](0.01) <span style=\"color:red;\">scent</span>[931](0.01)<br />\n",
        "<b>hind</b>[373] :  curved[1043](0.02) muscular[607](0.03) hairy[392](0.03) <span style=\"color:green;\">rear</span>[2632](0.04)<br />\n",
        "<b>highlight</b>[1188] :  <span style=\"color:red;\">alter</span>[1928](0.05) imitate[249](0.02) <span style=\"text-decoration: underline; border-decoration-color: green; -moz-text-decoration-color: green;\">accentuate</span>[93](0.03) restore[1652](0.03)<br />\n",
        "<b>hastily</b>[808] :  <span style=\"color:green;\">hurriedly</span>[434](0.13) shrewdly[118](0.03) habitually[212](0.02) chronologically[85](0.02)<br />\n",
        "<b>temperate</b>[404] :  <span style=\"color:red;\">cold</span>[11639](0.04) <span style=\"text-decoration: underline; border-decoration-color: green; -moz-text-decoration-color: green;\">mild</span>[1561](0.01) short[19647](0.00) windy[432](0.01)<br />\n",
        "<b>grin</b>[1108] :  exercise[8589](0.01) rest[15604](0.01) joke[2123](0.03) <span style=\"color:green;\">smile</span>[6847](0.14)<br />\n",
        "<b>verbally</b>[210] :  <span style=\"color:green;\">orally</span>[180](0.04) overtly[255](0.02) fittingly[64](0.01) verbosely[2](0.00)<br />\n",
        "<b>physician</b>[515] :  chemist[689](0.03) pharmacist[120](0.02) nurse[3255](0.04) <span style=\"color:green;\">doctor</span>[10158](0.06)<br />\n",
        "<b>essentially</b>[3592] :  possibly[7036](0.04) eagerly[676](0.00) <span style=\"color:green;\">basically</span>[3076](0.07) ordinarily[343](0.01)<br />\n",
        "<b>keen</b>[3703] :  <span style=\"color:red;\">useful</span>[9951](0.04) simple[13709](0.02) famous[6386](0.03) <span style=\"text-decoration: underline; border-decoration-color: green; -moz-text-decoration-color: green;\">sharp</span>[4738](0.03)<br />\n",
        "<b>situated</b>[1929] :  rotating[355](0.01) isolated[2760](0.03) emptying[386](0.02) <span style=\"color:green;\">positioned</span>[714](0.08)<br />\n",
        "<b>principal</b>[4856] :  most[0](0.00) numerous[3183](0.06) <span style=\"color:green;\">major</span>[28648](0.12) exceptional[1727](0.04)<br />\n",
        "<b>slowly</b>[7387] :  rarely[4115](0.03) <span style=\"color:green;\">gradually</span>[3584](0.17) effectively[5016](0.04) continuously[881](0.05)<br />\n",
        "<b>built</b>[12650] :  <span style=\"color:green;\">constructed</span>[2509](0.07) proposed[8340](0.03) financed[920](0.02) organized[2427](0.03)<br />\n",
        "<b>tasks</b>[3619] :  customers[6690](0.04) <span style=\"color:red;\">materials</span>[6752](0.06) shops[5174](0.02) <span style=\"text-decoration: underline; border-decoration-color: green; -moz-text-decoration-color: green;\">jobs</span>[9588](0.05)<br />\n",
        "<b>unlikely</b>[5543] :  <span style=\"color:green;\">improbable</span>[377](0.05) disagreeable[185](0.01) different[47553](0.00) unpopular[638](0.02)<br />\n",
        "<b>halfheartedly</b>[9] :  <span style=\"color:red;\">customarily</span>[87](0.00) bipartisanly[0](0.00) <span style=\"text-decoration: underline; border-decoration-color: green; -moz-text-decoration-color: green;\">apathetically</span>[8](0.00) unconventionally[3](0.00)<br />\n",
        "<b>annals</b>[154] :  homes[6016](0.00) trails[314](0.00) <span style=\"color:green;\">chronicles</span>[144](0.05) songs[2851](0.01)<br />\n",
        "<b>wildly</b>[764] :  distinctively[131](0.01) mysteriously[282](0.02) abruptly[1154](0.03) <span style=\"color:green;\">furiously</span>[577](0.04)<br />\n",
        "<b>hailed</b>[522] :  judged[1667](0.03) <span style=\"color:green;\">acclaimed</span>[299](0.04) remembered[5013](0.02) addressed[2766](0.02)<br />\n",
        "<b>command</b>[4063] :  observation[2785](0.03) love[22330](0.01) awareness[3538](0.03) <span style=\"color:green;\">mastery</span>[399](0.04)<br />\n",
        "<b>concocted</b>[87] :  <span style=\"color:green;\">devised</span>[1329](0.03) cleaned[1052](0.01) requested[1587](0.01) supervised[613](0.01)<br />\n",
        "<b>prospective</b>[1323] :  particular[28763](0.03) prudent[485](0.04) <span style=\"color:green;\">potential</span>[11117](0.10) prominent[2273](0.03)<br />\n",
        "<b>generally</b>[11453] :  descriptively[17](0.02) <span style=\"color:green;\">broadly</span>[1577](0.08) controversially[81](0.02) accurately[1404](0.04)<br />\n",
        "<b>sustained</b>[2018] :  <span style=\"color:green;\">prolonged</span>[1150](0.07) refined[773](0.03) lowered[1317](0.04) analyzed[140](0.01)<br />\n",
        "<b>perilous</b>[168] :  binding[2557](0.01) exciting[3264](0.03) offensive[1453](0.02) <span style=\"color:green;\">dangerous</span>[5630](0.06)<br />\n",
        "<b>tranquillity</b>[309] :  <span style=\"text-decoration: underline; border-decoration-color: green; -moz-text-decoration-color: green;\">peacefulness</span>[26](0.03) harshness[137](0.02) weariness[159](0.01) <span style=\"color:red;\">happiness</span>[1620](0.06)<br />\n",
        "<b>dissipate</b>[92] :  <span style=\"color:green;\">disperse</span>[243](0.03) isolate[411](0.03) disguise[728](0.02) photograph[2547](0.00)<br />\n",
        "<b>primarily</b>[3093] :  occasionally[3868](0.03) cautiously[665](0.01) consistently[1623](0.03) <span style=\"color:green;\">chiefly</span>[715](0.06)<br />\n",
        "<b>colloquial</b>[110] :  recorded[6308](0.01) misunderstood[363](0.01) incorrect[694](0.01) <span style=\"color:green;\">conversational</span>[404](0.06)<br />\n",
        "<b>resolved</b>[2091] :  publicized[145](0.03) forgotten[3876](0.02) <span style=\"color:green;\">settled</span>[3988](0.06) examined[3487](0.04)<br />\n",
        "<b>feasible</b>[824] :  permitted[2360](0.04) <span style=\"text-decoration: underline; border-decoration-color: green; -moz-text-decoration-color: green;\">possible</span>[33634](0.04) <span style=\"color:red;\">equitable</span>[588](0.05) evident[2562](0.02)<br />\n",
        "<b>expeditiously</b>[34] :  frequently[5710](0.00) actually[25429](-0.01) <span style=\"color:green;\">rapidly</span>[4484](0.01) repeatedly[1265](0.01)<br />\n",
        "<b>percentage</b>[2803] :  volume[5336](0.05) sample[4637](0.06) <span style=\"color:green;\">proportion</span>[6545](0.13) profit[5893](0.05)<br />\n",
        "<b>terminated</b>[521] :  <span style=\"text-decoration: underline; border-decoration-color: green; -moz-text-decoration-color: green;\">ended</span>[7099](0.03) posed[1292](0.01) <span style=\"color:red;\">postponed</span>[760](0.04) evaluated[734](0.01)<br />\n",
        "<b>uniform</b>[2475] :  hard[22222](0.01) complex[9386](0.03) <span style=\"color:green;\">alike</span>[1424](0.04) sharp[4738](0.03)<br />\n",
        "<b>figure</b>[17187] :  <span style=\"color:red;\">list</span>[12462](0.04) <span style=\"text-decoration: underline; border-decoration-color: green; -moz-text-decoration-color: green;\">solve</span>[1910](0.00) divide[1746](0.01) express[4894](0.01)<br />\n",
        "<b>sufficient</b>[5871] :  recent[15692](0.03) physiological[620](0.04) <span style=\"color:green;\">enough</span>[31152](0.10) valuable[3838](0.07)<br />\n",
        "<b>fashion</b>[4569] :  ration[277](0.00) fathom[144](0.00) craze[168](0.01) <span style=\"color:green;\">manner</span>[5854](0.04)<br />\n",
        "<b>marketed</b>[449] :  frozen[1911](0.01) <span style=\"color:green;\">sold</span>[8379](0.03) sweetened[70](0.01) diluted[399](0.01)<br />\n",
        "<b>bigger</b>[3488] :  steadier[24](0.00) closer[4468](0.03) <span style=\"color:green;\">larger</span>[7535](0.12) better[34727](0.02)<br />\n",
        "<b>roots</b>[2494] :  <span style=\"color:green;\">origins</span>[1818](0.04) rituals[513](0.02) cure[1487](0.03) function[8598](0.02)<br />\n",
        "<b>normally</b>[8129] :  haltingly[32](-0.00) <span style=\"color:green;\">ordinarily</span>[343](0.08) permanently[1208](0.05) periodically[396](0.04)<br />\n",
        "<br />success rate = 0.7375</br>\n"
       ],
       "metadata": {},
       "output_type": "pyout",
       "prompt_number": 67,
       "text": [
        "<IPython.core.display.HTML at 0x7f5ca8b94a90>"
       ]
      }
     ],
     "prompt_number": 67
    },
    {
     "cell_type": "code",
     "collapsed": false,
     "input": [
      "print (get_pmi(\"sufficient\"))\n",
      "print (get_pmi(\"fearing\"))\n",
      "cmp_words(\"sufficient\",\"fearing\")"
     ],
     "language": "python",
     "metadata": {},
     "outputs": [
      {
       "output_type": "stream",
       "stream": "stdout",
       "text": [
        "[]\n",
        "[]\n"
       ]
      },
      {
       "metadata": {},
       "output_type": "pyout",
       "prompt_number": 160,
       "text": [
        "0"
       ]
      }
     ],
     "prompt_number": 160
    },
    {
     "cell_type": "code",
     "collapsed": false,
     "input": [
      "lst_sigmas=[]\n",
      "legends=[]\n",
      "for filename in glob.glob(\"./sigmas/*\"):\n",
      "    f=open(filename,\"r\")\n",
      "    sigmas = np.loadtxt(f)\n",
      "    lst_sigmas.append(sigmas)\n",
      "    plt.plot(sigmas,label=\"test\")\n",
      "    legends.append(filename.split(\"/\")[-1])\n",
      "    f.close()\n",
      "plt.legend(legends)\n",
      "#print (lst_sigmas)\n",
      "#plt.plot(x=range(8),y=lst_sigmas)"
     ],
     "language": "python",
     "metadata": {},
     "outputs": [
      {
       "metadata": {},
       "output_type": "pyout",
       "prompt_number": 159,
       "text": [
        "<matplotlib.legend.Legend at 0x7f547f055550>"
       ]
      },
      {
       "metadata": {},
       "output_type": "display_data",
       "png": "[encoded data removed]",
       "text": [
        "<matplotlib.figure.Figure at 0x7f547f055fd0>"
       ]
      }
     ],
     "prompt_number": 159
    },
    {
     "cell_type": "code",
     "collapsed": false,
     "input": [
      "%lsmagic"
     ],
     "language": "python",
     "metadata": {},
     "outputs": [
      {
       "json": [
        "{\"line\": {\"sx\": \"OSMagics\", \"unalias\": \"OSMagics\", \"colors\": \"BasicMagics\", \"less\": \"KernelMagics\", \"man\": \"KernelMagics\", \"cd\": \"OSMagics\", \"unload_ext\": \"ExtensionMagics\", \"automagic\": \"AutoMagics\", \"loadpy\": \"CodeMagics\", \"logstart\": \"LoggingMagics\", \"history\": \"HistoryMagics\", \"gui\": \"BasicMagics\", \"pinfo2\": \"NamespaceMagics\", \"killbgscripts\": \"ScriptMagics\", \"recall\": \"HistoryMagics\", \"pastebin\": \"CodeMagics\", \"whos\": \"NamespaceMagics\", \"page\": \"BasicMagics\", \"qtconsole\": \"KernelMagics\", \"install_ext\": \"ExtensionMagics\", \"reset_selective\": \"NamespaceMagics\", \"reset\": \"NamespaceMagics\", \"install_profiles\": \"DeprecatedMagics\", \"autocall\": \"AutoMagics\", \"time\": \"ExecutionMagics\", \"pfile\": \"NamespaceMagics\", \"psource\": \"NamespaceMagics\", \"rerun\": \"HistoryMagics\", \"config\": \"ConfigMagics\", \"mkdir\": \"Other\", \"xmode\": \"BasicMagics\", \"sc\": \"OSMagics\", \"load_ext\": \"ExtensionMagics\", \"rep\": \"Other\", \"psearch\": \"NamespaceMagics\", \"dhist\": \"OSMagics\", \"cat\": \"Other\", \"who_ls\": \"NamespaceMagics\", \"lk\": \"Other\", \"pprint\": \"BasicMagics\", \"notebook\": \"BasicMagics\", \"ed\": \"Other\", \"ldir\": \"Other\", \"logstate\": \"LoggingMagics\", \"debug\": \"ExecutionMagics\", \"ll\": \"Other\", \"who\": \"NamespaceMagics\", \"macro\": \"ExecutionMagics\", \"autosave\": \"KernelMagics\", \"pycat\": \"OSMagics\", \"hist\": \"Other\", \"tb\": \"ExecutionMagics\", \"pushd\": \"OSMagics\", \"install_default_config\": \"DeprecatedMagics\", \"pdef\": \"NamespaceMagics\", \"rehashx\": \"OSMagics\", \"profile\": \"BasicMagics\", \"bookmark\": \"OSMagics\", \"dirs\": \"OSMagics\", \"run\": \"ExecutionMagics\", \"reload_ext\": \"ExtensionMagics\", \"logstop\": \"LoggingMagics\", \"clear\": \"KernelMagics\", \"store\": \"StoreMagics\", \"popd\": \"OSMagics\", \"timeit\": \"ExecutionMagics\", \"mv\": \"Other\", \"xdel\": \"NamespaceMagics\", \"pdoc\": \"NamespaceMagics\", \"lsmagic\": \"BasicMagics\", \"precision\": \"BasicMagics\", \"logon\": \"LoggingMagics\", \"alias\": \"OSMagics\", \"save\": \"CodeMagics\", \"rmdir\": \"Other\", \"matplotlib\": \"PylabMagics\", \"cp\": \"Other\", \"pdb\": \"ExecutionMagics\", \"ls\": \"Other\", \"lf\": \"Other\", \"magic\": \"BasicMagics\", \"env\": \"OSMagics\", \"pylab\": \"PylabMagics\", \"doctest_mode\": \"KernelMagics\", \"more\": \"KernelMagics\", \"quickref\": \"BasicMagics\", \"edit\": \"KernelMagics\", \"load\": \"CodeMagics\", \"lx\": \"Other\", \"logoff\": \"LoggingMagics\", \"rm\": \"Other\", \"system\": \"OSMagics\", \"pwd\": \"OSMagics\", \"pinfo\": \"NamespaceMagics\", \"connect_info\": \"KernelMagics\", \"alias_magic\": \"BasicMagics\", \"prun\": \"ExecutionMagics\"}, \"cell\": {\"sx\": \"OSMagics\", \"script\": \"ScriptMagics\", \"pypy\": \"Other\", \"html\": \"DisplayMagics\", \"prun\": \"ExecutionMagics\", \"bash\": \"Other\", \"sh\": \"Other\", \"ruby\": \"Other\", \"python\": \"Other\", \"writefile\": \"OSMagics\", \"python2\": \"Other\", \"HTML\": \"Other\", \"python3\": \"Other\", \"latex\": \"DisplayMagics\", \"file\": \"Other\", \"system\": \"OSMagics\", \"!\": \"OSMagics\", \"svg\": \"DisplayMagics\", \"perl\": \"Other\", \"capture\": \"ExecutionMagics\", \"javascript\": \"DisplayMagics\", \"timeit\": \"ExecutionMagics\", \"debug\": \"ExecutionMagics\", \"time\": \"ExecutionMagics\", \"SVG\": \"Other\"}}"
       ],
       "metadata": {},
       "output_type": "pyout",
       "prompt_number": 92,
       "text": [
        "Available line magics:\n",
        "%alias  %alias_magic  %autocall  %automagic  %autosave  %bookmark  %cat  %cd  %clear  %colors  %config  %connect_info  %cp  %debug  %dhist  %dirs  %doctest_mode  %ed  %edit  %env  %gui  %hist  %history  %install_default_config  %install_ext  %install_profiles  %killbgscripts  %ldir  %less  %lf  %lk  %ll  %load  %load_ext  %loadpy  %logoff  %logon  %logstart  %logstate  %logstop  %ls  %lsmagic  %lx  %macro  %magic  %man  %matplotlib  %mkdir  %more  %mv  %notebook  %page  %pastebin  %pdb  %pdef  %pdoc  %pfile  %pinfo  %pinfo2  %popd  %pprint  %precision  %profile  %prun  %psearch  %psource  %pushd  %pwd  %pycat  %pylab  %qtconsole  %quickref  %recall  %rehashx  %reload_ext  %rep  %rerun  %reset  %reset_selective  %rm  %rmdir  %run  %save  %sc  %store  %sx  %system  %tb  %time  %timeit  %unalias  %unload_ext  %who  %who_ls  %whos  %xdel  %xmode\n",
        "\n",
        "Available cell magics:\n",
        "%%!  %%HTML  %%SVG  %%bash  %%capture  %%debug  %%file  %%html  %%javascript  %%latex  %%perl  %%prun  %%pypy  %%python  %%python2  %%python3  %%ruby  %%script  %%sh  %%svg  %%sx  %%system  %%time  %%timeit  %%writefile\n",
        "\n",
        "Automagic is ON, % prefix IS NOT needed for line magics."
       ]
      }
     ],
     "prompt_number": 92
    },
    {
     "cell_type": "code",
     "collapsed": false,
     "input": [
      "l = [i[0] for i in testhelper.get_test_from_toefl(\"../tests/toefl/toefl\")]\n",
      "for i in l:\n",
      "    print (i)"
     ],
     "language": "python",
     "metadata": {},
     "outputs": [
      {
       "output_type": "stream",
       "stream": "stdout",
       "text": [
        "enormously\n",
        "provisions\n",
        "haphazardly\n",
        "prominent\n",
        "zenith\n",
        "flawed\n",
        "urgently\n",
        "consumed\n",
        "advent\n",
        "concisely\n",
        "salutes\n",
        "solitary\n",
        "hasten\n",
        "perseverance\n",
        "fanciful\n",
        "showed\n",
        "constantly\n",
        "issues\n",
        "furnish\n",
        "costly\n",
        "recognized\n",
        "spot\n",
        "make\n",
        "often\n",
        "easygoing\n",
        "debate\n",
        "narrow\n",
        "arranged\n",
        "infinite\n",
        "showy\n",
        "levied\n",
        "deftly\n",
        "distribute\n",
        "discrepancies\n",
        "prolific\n",
        "unmatched\n",
        "peculiarly\n",
        "hue\n",
        "hind\n",
        "highlight\n",
        "hastily\n",
        "temperate\n",
        "grin\n",
        "verbally\n",
        "physician\n",
        "essentially\n",
        "keen\n",
        "situated\n",
        "principal\n",
        "slowly\n",
        "built\n",
        "tasks\n",
        "unlikely\n",
        "halfheartedly\n",
        "annals\n",
        "wildly\n",
        "hailed\n",
        "command\n",
        "concocted\n",
        "prospective\n",
        "generally\n",
        "sustained\n",
        "perilous\n",
        "tranquillity\n",
        "dissipate\n",
        "primarily\n",
        "colloquial\n",
        "resolved\n",
        "feasible\n",
        "expeditiously\n",
        "percentage\n",
        "terminated\n",
        "uniform\n",
        "figure\n",
        "sufficient\n",
        "fashion\n",
        "marketed\n",
        "bigger\n",
        "roots\n",
        "normally\n"
       ]
      }
     ],
     "prompt_number": 6
    },
    {
     "cell_type": "code",
     "collapsed": false,
     "input": [
      "dic_words={}\n",
      "def load_word(f):\n",
      "    result=b''\n",
      "    w=b''\n",
      "    while w!=b' ':\n",
      "        w = f.read(1)\n",
      "        result=result+w\n",
      "    return result[:-1]\n",
      "#load from word2vec format\n",
      "f=  open(\"/mnt/work/nlp_scratch/_w2v/vectors_total.bin\",\"rb\")\n",
      "#f=  open(\"/storage/scratch/_w2v/vectors.bin\",\"rb\")\n",
      "\n",
      "header = f.readline().split()\n",
      "cnt_rows=int(header[0])\n",
      "size_row=int(header[1])\n",
      "matr = np.zeros((cnt_rows,size_row),dtype=np.float32)\n",
      "lst_words_w2v=[]\n",
      "print (\"cnt rows = {}, size row = {}\".format(cnt_rows,size_row))\n",
      "for i in range(cnt_rows):\n",
      "    word = load_word(f).decode('ascii',errors=\"replace\").strip()\n",
      "    #print (word)\n",
      "    dic_words[word]=i;\n",
      "    lst_words_w2v.append(word)\n",
      "    s_row = f.read(size_row*4)\n",
      "    row = np.fromstring(s_row, dtype=np.float32)\n",
      "    row = row / np.linalg.norm(row)\n",
      "    matr[i]=row\n",
      "f.close()\n",
      "cnt_rows,size_row\n",
      "dic_words[\"fuck\"]\n"
     ],
     "language": "python",
     "metadata": {},
     "outputs": [
      {
       "output_type": "stream",
       "stream": "stdout",
       "text": [
        "cnt rows = 2626263, size row = 300\n"
       ]
      },
      {
       "metadata": {},
       "output_type": "pyout",
       "prompt_number": 61,
       "text": [
        "22788"
       ]
      }
     ],
     "prompt_number": 61
    },
    {
     "cell_type": "code",
     "collapsed": false,
     "input": [
      "#bstr=b'fuck'\n",
      "#bstr.decode('ascii')"
     ],
     "language": "python",
     "metadata": {},
     "outputs": [
      {
       "metadata": {},
       "output_type": "pyout",
       "prompt_number": 60,
       "text": [
        "'fuck'"
       ]
      }
     ],
     "prompt_number": 60
    },
    {
     "cell_type": "code",
     "collapsed": false,
     "input": [],
     "language": "python",
     "metadata": {},
     "outputs": []
    }
   ],
   "metadata": {}
  }
 ]
}