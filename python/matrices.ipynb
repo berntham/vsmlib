{
 "metadata": {
  "name": "",
  "signature": "sha256:f2a1798f8ab984ae05e6f15366cba80708f5beb0afc074f8e49fe6d9799ec3db"
 },
 "nbformat": 3,
 "nbformat_minor": 0,
 "worksheets": [
  {
   "cells": [
    {
     "cell_type": "code",
     "collapsed": false,
     "input": [
      "import os\n",
      "import socket\n",
      "import time\n",
      "import numpy as np\n",
      "import scipy\n",
      "from scipy import sparse\n",
      "import sklearn\n",
      "from sklearn.metrics import pairwise_distances\n",
      "from scipy.spatial.distance import cosine\n",
      "from IPython.display import HTML\n",
      "import matplotlib as mpl\n",
      "from matplotlib import pyplot as plt\n",
      "import math\n",
      "import glob\n",
      "import imp\n",
      "import vsmlib\n",
      "from vsmlib import testhelper,matrix\n",
      "%matplotlib inline"
     ],
     "language": "python",
     "metadata": {},
     "outputs": [],
     "prompt_number": 2
    },
    {
     "cell_type": "code",
     "collapsed": false,
     "input": [
      "imp.reload(vsmlib.matrix)\n",
      "if socket.gethostname()==\"cypress\":  dir_root=\"/storage/scratch/small_bin\"\n",
      "if socket.gethostname()==\"ashtree\":  dir_root=\"/mnt/work/nlp_scratch/BNC\"\n",
      "if socket.gethostname()==\"rc017.m.gsic.titech.ac.jp\":  dir_root=\"/home/blackbird/data/scratch/brown\"\n",
      "matrix.hello()\n",
      "#dir_root=\"/home/blackbird/Cloud/Dropbox/Collaboration/Anna/Botva/DistributionalSimilarity/svd_study\""
     ],
     "language": "python",
     "metadata": {},
     "outputs": [
      {
       "output_type": "stream",
       "stream": "stdout",
       "text": [
        "Hello 2!\n"
       ]
      }
     ],
     "prompt_number": 3
    },
    {
     "cell_type": "code",
     "collapsed": false,
     "input": [
      "def sizeof_fmt(num, suffix='B'):\n",
      "    for unit in ['','Ki','Mi','Gi','Ti','Pi','Ei','Zi']:\n",
      "        if abs(num) < 1024.0:\n",
      "            return \"%3.1f%s%s\" % (num, unit, suffix)\n",
      "        num /= 1024.0\n",
      "    return \"%.1f%s%s\" % (num, 'Yi', suffix)\n",
      "\n",
      "def countof_fmt(num, suffix=''):\n",
      "    for unit in ['','K','M','G','T','P','E','Z']:\n",
      "        if abs(num) < 1000.0:\n",
      "            return \"%3.1f%s%s\" % (num, unit, suffix)\n",
      "        num /= 1024.0\n",
      "    return \"%.1f%s%s\" % (num, 'Y', suffix)"
     ],
     "language": "python",
     "metadata": {},
     "outputs": [],
     "prompt_number": 4
    },
    {
     "cell_type": "code",
     "collapsed": false,
     "input": [
      "dic_words_ids={}\n",
      "f=open(os.path.join(dir_root,\"ids\"), encoding='utf-8', errors='replace')\n",
      "lines=f.readlines()\n",
      "for line in lines:\n",
      "    tokens=line.split()\n",
      "    dic_words_ids[tokens[0]]=int(tokens[1])\n",
      "f.close()\n",
      "\n",
      "lst_words=[]\n",
      "lst_words=lst_words+([i[0] for i in sorted(dic_words_ids.items(), key=lambda x: x[1])])\n",
      "\n",
      "def get_id(w):\n",
      "    try:\n",
      "        return dic_words_ids[w]\n",
      "    except :\n",
      "        return -1\n",
      "    \n",
      "def get_word_by_id(i):\n",
      "    return(lst_words[i])"
     ],
     "language": "python",
     "metadata": {},
     "outputs": [],
     "prompt_number": 5
    },
    {
     "cell_type": "code",
     "collapsed": false,
     "input": [
      "cooccurrence=matrix.load_matrix_csr(dir_root,dic_words_ids,zero_negatives=False)\n",
      "matrix.print_stats(cooccurrence)\n",
      "#path=dir_root\n",
      "#data = np.loadtxt(open(os.path.join(path,\"bigrams.data\")),dtype=np.float32)\n",
      "#col_ind = np.loadtxt(open(os.path.join(path,\"bigrams.col_ind\")),dtype=int)\n",
      "#row_ptr = np.loadtxt(open(os.path.join(path,\"bigrams.row_ptr\")),dtype=int)\n",
      "#cooccurrence=scipy.sparse.csr_matrix((data,col_ind,row_ptr),shape=(len(dic_words_ids),len(dic_words_ids)),dtype=np.float32)\n",
      "#fz=np.int32(0)\n",
      "#cooccurrence<fz"
     ],
     "language": "python",
     "metadata": {},
     "outputs": [
      {
       "output_type": "stream",
       "stream": "stdout",
       "text": [
        "Matrix loaded\n",
        "Matrix dimentions : (484604, 484604) (473.2K unique words in the corpus )\n",
        "Would take 13.7TiB if stored in dense format\n",
        "Cnt nonzero elements = 18483972 (should take about 1.1GiB of memory space\n",
        "Sparsity = 0.0079%\n"
       ]
      }
     ],
     "prompt_number": 6
    },
    {
     "cell_type": "code",
     "collapsed": false,
     "input": [
      "np.linalg.norm(cooccurrence[cooccurrence.shape[0]-1].data)\n",
      "#cooccurrence[1].data\n",
      "#for i in range(100):\n",
      "#    print (cooccurrence[1].dot(cooccurrence[i].T).todense()[0])\n",
      "print (cooccurrence[1].dot(cooccurrence[4].T).todense()[0])\n",
      "#cmp_rows(1,4)"
     ],
     "language": "python",
     "metadata": {},
     "outputs": [
      {
       "output_type": "stream",
       "stream": "stdout",
       "text": [
        "[[ 868.5993042]]\n"
       ]
      }
     ],
     "prompt_number": 7
    },
    {
     "cell_type": "code",
     "collapsed": false,
     "input": [
      "#sreate sub_matrix\n",
      "words_of_interest_initial=[\"day\",\"running\",\"quick\",\"fast\",\"kind\",\"good\"]\n",
      "words_of_interest=[w for w in words_of_interest_initial if w in dic_words_ids]\n",
      "\n",
      "ids_of_interest=[get_id(w) for w in words_of_interest]\n",
      "#ids_of_interest\n",
      "max_width=20\n",
      "\n",
      "def filter_rows(m):\n",
      "    xdim=m.shape[1]\n",
      "    width=min(xdim,max_width)\n",
      "    #return (cooccurrence[1].todense()[:width])\n",
      "\n",
      "    dense=np.empty([0,width])\n",
      "    for i in ids_of_interest:\n",
      "        if i<0: continue\n",
      "        if scipy.sparse.issparse(m):\n",
      "            row=m[i].todense()\n",
      "        else:\n",
      "            row=m[i]\n",
      "        row = np.asarray(row)\n",
      "        row = np.reshape(row,(xdim))\n",
      "        dense=np.vstack([dense,row[:width]])\n",
      "    return (dense)\n",
      "words_of_interest"
     ],
     "language": "python",
     "metadata": {},
     "outputs": [
      {
       "metadata": {},
       "output_type": "pyout",
       "prompt_number": 9,
       "text": [
        "['day', 'running', 'quick', 'fast', 'kind', 'good']"
       ]
      }
     ],
     "prompt_number": 9
    },
    {
     "cell_type": "code",
     "collapsed": false,
     "input": [
      "#a=scipy.sparse.linalg.svds(cooccurrence)\n",
      "#w2=cooccurrence[get_id(\"caged\"),:].todense()\n",
      "#a=cooccurrence[1,:].todense()\n",
      "#b=cooccurrence[2,:].todense()\n",
      "#cosine(w1,w2)\n",
      "#get_id(\"caged\")"
     ],
     "language": "python",
     "metadata": {},
     "outputs": [],
     "prompt_number": 115
    },
    {
     "cell_type": "code",
     "collapsed": false,
     "input": [
      "get_id(\"fast\")\n",
      "#print (cooccurrence.shape)\n",
      "#filter_rows(cooccurrence)\n",
      "#print (projected.shape)\n",
      "#filter_rows(cooccurrence)\n",
      "#m=projected\n",
      "#width=min(projected.shape[1],max_width)\n",
      "#dense=np.empty([0, width])\n",
      "#m[1][:width]\n",
      "#dense=np.vstack([dense,m[1][:,:width]])"
     ],
     "language": "python",
     "metadata": {},
     "outputs": [
      {
       "metadata": {},
       "output_type": "pyout",
       "prompt_number": 10,
       "text": [
        "1181"
       ]
      }
     ],
     "prompt_number": 10
    },
    {
     "cell_type": "code",
     "collapsed": false,
     "input": [
      "import pylab\n",
      "pylab.rcParams['figure.figsize'] = (12.0, 8.0)\n",
      "from matplotlib.colors import Normalize\n",
      "\n",
      "class MidpointNormalize(Normalize):\n",
      "    def __init__(self, vmin=None, vmax=None, midpoint=None, clip=False):\n",
      "        self.midpoint = midpoint\n",
      "        Normalize.__init__(self, vmin, vmax, clip)\n",
      "\n",
      "    def __call__(self, value, clip=None):\n",
      "        # I'm ignoring masked values and all kinds of edge cases to make a\n",
      "        # simple example...\n",
      "        x, y = [self.vmin, self.midpoint, self.vmax], [0, 0.5, 1]\n",
      "        return np.ma.masked_array(np.interp(value, x, y))\n",
      "\n",
      "def plot_heat(ax,m,numbered=False,symmetric_labels=True):\n",
      "    norm = MidpointNormalize(midpoint=0)\n",
      "    ax.set_aspect('equal')\n",
      "    ax.set_xticks(np.arange(m.shape[1])+0.5, minor=False)\n",
      "    if not numbered:\n",
      "        if symmetric_labels:\n",
      "            ax.set_xticklabels(lst_words, minor=False)\n",
      "        else: \n",
      "            ax.set_xticklabels(words_of_interest, minor=False)\n",
      "        plt.xticks(rotation=90)    \n",
      "    else:\n",
      "        ax.set_xticklabels(range(m.shape[0]), minor=False)\n",
      "    ax.set_yticks(np.arange(m.shape[0])+0.5, minor=False)\n",
      "#    ax.set_yticklabels(lst_words, minor=False)\n",
      "    ax.set_yticklabels(words_of_interest, minor=False)\n",
      "    #ax.set_frame_on(False)\n",
      "    heatmap = plt.pcolor(np.array(m), norm=norm, cmap=mpl.cm.RdBu, edgecolors=\"black\")    \n",
      "    #im = ax.imshow(np.array(m), norm=norm, cmap=plt.cm.seismic, interpolation='none')\n",
      "#fig.colorbar(im)\n",
      "    plt.colorbar(heatmap,orientation='horizontal')\n",
      "    \n",
      "def draw_features_and_similarity(mm,numbered=False):\n",
      "    m=filter_rows(mm)\n",
      "    ax=plt.subplot(1,2,1)\n",
      "    plot_heat(ax,m,numbered)\n",
      "    #plot_heat(ax,abs(m),numbered)\n",
      "    ax=plt.subplot(1,2,2)\n",
      "    t = 1-pairwise_distances(m, metric=\"cosine\")\n",
      "    plot_heat(ax,t,False,False)\n",
      "    #plt.savefig(\"m1.pdf\")\n",
      "    #plt.show()\n",
      "\n",
      "#draw_features_and_similarity(cooccurrence.todense())\n",
      "draw_features_and_similarity(cooccurrence)\n",
      "#draw_features_and_similarity(dense)"
     ],
     "language": "python",
     "metadata": {},
     "outputs": [
      {
       "metadata": {},
       "output_type": "display_data",
       "png": "[encoded data removed]",
       "text": [
        "<matplotlib.figure.Figure at 0x7f5de38ffdd8>"
       ]
      }
     ],
     "prompt_number": 11
    },
    {
     "cell_type": "code",
     "collapsed": false,
     "input": [
      "if cooccurrence.shape[1]>7000:\n",
      "    print (\"No way, this matrix is too huge\")\n",
      "else:\n",
      "    c=cooccurrence.todense()\n",
      "    ut, s_ev, vt = np.linalg.svd(c.T,full_matrices=False)\n",
      "    #projected=np.dot(vt.T,np.diag(s_ev))#[:,[0,1,2,3]]\n",
      "    projected_densesvd=np.dot(c,ut)\n",
      "\n",
      "#projected=vt\n",
      "#draw_features_and_similarity(projected,True) \n",
      "#plt.plot(s_ev)"
     ],
     "language": "python",
     "metadata": {},
     "outputs": [],
     "prompt_number": 118
    },
    {
     "cell_type": "code",
     "collapsed": false,
     "input": [
      "draw_features_and_similarity(projected_densesvd,True) \n",
      "#cooccurrence[1][:20]\n",
      "#plt.plot(s_ev,marker='o')\n",
      "#plt.plot(s_ev)"
     ],
     "language": "python",
     "metadata": {},
     "outputs": [
      {
       "metadata": {},
       "output_type": "display_data",
       "png": "[encoded data removed]",
       "text": [
        "<matplotlib.figure.Figure at 0x7f0c450516d8>"
       ]
      }
     ],
     "prompt_number": 119
    },
    {
     "cell_type": "code",
     "collapsed": false,
     "input": [
      "plt.plot(s_ev)\n",
      "filename=dir_root.split('/')[-1]+\"_dense\"\n",
      "filename=os.path.join(\"sigmas\",filename)\n",
      "print (filename)\n",
      "with open(filename, 'wb') as f:\n",
      "    #pickle.dump(s_ev, f)\n",
      "    #s_ev.tofile(f)\n",
      "    np.savetxt(f,s_ev)\n",
      "#print(s_ev)\n",
      "type(s_ev)"
     ],
     "language": "python",
     "metadata": {},
     "outputs": [
      {
       "output_type": "stream",
       "stream": "stdout",
       "text": [
        "sigmas/clarissa_dense\n"
       ]
      },
      {
       "metadata": {},
       "output_type": "pyout",
       "prompt_number": 80,
       "text": [
        "numpy.ndarray"
       ]
      },
      {
       "metadata": {},
       "output_type": "display_data",
       "png": "[encoded data removed]",
       "text": [
        "<matplotlib.figure.Figure at 0x7f0c45055940>"
       ]
      }
     ],
     "prompt_number": 80
    },
    {
     "cell_type": "code",
     "collapsed": false,
     "input": [
      "from scipy import sparse\n",
      "from scipy.sparse import linalg\n",
      "#from sparsesvd import sparsesvd\n",
      "time_start=time.time()\n",
      "ut, s_ev, vt = sparse.linalg.svds(cooccurrence,k=12,which='LM') # LM SM LA SA BE\n",
      "vt=np.nan_to_num(vt.T)\n",
      "projected=np.dot(vt,np.diag(s_ev))\n",
      "#projected=vt\n",
      "time_spent=time.time()-time_start\n",
      "print(\"time:\",time_spent)\n",
      "projected.shape\n",
      "draw_features_and_similarity(projected,True) "
     ],
     "language": "python",
     "metadata": {},
     "outputs": [
      {
       "output_type": "stream",
       "stream": "stdout",
       "text": [
        "time: 188.3584315776825\n"
       ]
      },
      {
       "metadata": {},
       "output_type": "display_data",
       "png": "[encoded data removed]",
       "text": [
        "<matplotlib.figure.Figure at 0x7f0c4500e828>"
       ]
      }
     ],
     "prompt_number": 108
    },
    {
     "cell_type": "code",
     "collapsed": false,
     "input": [],
     "language": "python",
     "metadata": {},
     "outputs": []
    },
    {
     "cell_type": "code",
     "collapsed": false,
     "input": [
      "plt.plot(s_ev)\n",
      "#s_ev"
     ],
     "language": "python",
     "metadata": {},
     "outputs": []
    },
    {
     "cell_type": "code",
     "collapsed": false,
     "input": [
      "c=cooccurrence.T.tocsc()\n",
      "ut, s_ev, vt = sparsesvd(c,5)\n",
      "projected=np.dot(vt.T,np.diag(s_ev))\n",
      "draw_features_and_similarity(projected,True) "
     ],
     "language": "python",
     "metadata": {},
     "outputs": []
    },
    {
     "cell_type": "code",
     "collapsed": false,
     "input": [
      "#plt.plot(s_ev,marker='o')\n",
      "#s_ev"
     ],
     "language": "python",
     "metadata": {},
     "outputs": []
    },
    {
     "cell_type": "code",
     "collapsed": false,
     "input": [
      "################## MPLD3    ############################\n",
      "#import mpld3\n",
      "#mpld3.enable_notebook()\n",
      "#fig, ax = plt.subplots()\n",
      "#np.random.seed(0)\n",
      "#ax.plot(np.random.normal(size=100),\n",
      "#        np.random.normal(size=100),\n",
      "#        'or', ms=10, alpha=0.3)\n",
      "#ax.plot(np.random.normal(size=100),\n",
      "#        np.random.normal(size=100),\n",
      "#        'ob', ms=20, alpha=0.1)\n",
      "\n",
      "#ax.set_xlabel('this is x')\n",
      "#ax.set_ylabel('this is y')\n",
      "#ax.set_title('Matplotlib Plot Rendered in D3!', size=14)\n",
      "#ax.grid(color='lightgray', alpha=0.7)\n",
      "\n",
      "#mpld3.display(fig)\n",
      "\n"
     ],
     "language": "python",
     "metadata": {},
     "outputs": []
    },
    {
     "cell_type": "code",
     "collapsed": false,
     "input": [
      "################## TRY BOKEH ###############\n",
      "#import bokeh\n",
      "#import bokeh.plotting\n",
      "#bokeh.plotting.output_notebook()"
     ],
     "language": "python",
     "metadata": {},
     "outputs": []
    },
    {
     "cell_type": "code",
     "collapsed": false,
     "input": [
      "#bokeh.plotting.rect(list(range(8)),list(range(8)), 0.95, 0.95, # source=c,\n",
      "     #x_axis_location=\"above\",\n",
      "     #x_range=years, y_range=list(reversed(months)),\n",
      "     #color='color', \n",
      "#     line_color=None,\n",
      "#     tools=\"resize,hover\", \n",
      "#     title=\"Co-occurrence matrix\",\n",
      "#     plot_width=400, plot_height=400)\n",
      "#bokeh.plotting.grid().grid_line_color = None\n",
      "#bokeh.plotting.axis().axis_line_color = None\n",
      "#bokeh.plotting.axis().major_tick_line_color = None\n",
      "#bokeh.plotting.axis().major_label_text_font_size = \"6pt\"\n",
      "#bokeh.plotting.axis().major_label_standoff = 0\n",
      "#bokeh.plotting.xaxis().major_label_orientation = np.pi/3\n",
      "#bokeh.plotting.show()"
     ],
     "language": "python",
     "metadata": {},
     "outputs": []
    },
    {
     "cell_type": "code",
     "collapsed": false,
     "input": [
      "def get_pmi_v(s):\n",
      "    values=[]\n",
      "    idxs=s.nonzero()[1]\n",
      "    for i in idxs:\n",
      "        values.append([get_word_by_id(i), s[0,i]])\n",
      "    values.sort(key=lambda tup: tup[1],reverse=True)\n",
      "    return values\n",
      "\n",
      "def get_pmi(w):\n",
      "    id_w=get_id(w)\n",
      "    if id_w<0: return []\n",
      "    #print(\"id = \",id_w)\n",
      "    s=cooccurrence[id_w,:]\n",
      "    return get_pmi_v(s)\n",
      "\n",
      "def cmp_rows(id1,id2,m=cooccurrence):\n",
      "    if sparse.issparse(m):\n",
      "        r1=m[id1]#.todense()\n",
      "        r2=m[id2]#.todense()\n",
      "        #c= scipy.spatial.distance.cosine(r1,r2)\n",
      "        c= r1.dot(r2.T)/(np.linalg.norm(r1.data)*np.linalg.norm(r2.data))\n",
      "        c= c[0,0]\n",
      "        if math.isnan(c): return 0\n",
      "        return c\n",
      "    else:\n",
      "        r1=m[id1,:]\n",
      "        r2=m[id2,:]\n",
      "        c= cosine(r1,r2)\n",
      "        if math.isnan(c): return 0\n",
      "        return 1-c\n",
      "\n",
      "    \n",
      "def cmp_words(w1,w2,m=cooccurrence):\n",
      "    id1=get_id(w1);\n",
      "    id2=get_id(w2);\n",
      "    if (id1<0) or (id2<0): return 0;\n",
      "    return cmp_rows(id1,id2,m)\n",
      "\n",
      "def tst():\n",
      "    for i in range(300):\n",
      "        cmp_rows(0,i)\n",
      "    \n",
      "#d1=np.array(w1.todense()).reshape(-1)\n",
      "#d2=np.array(w2.todense()).reshape(-1)\n",
      "#print(w2)\n",
      "%timeit -n 1 tst()\n",
      "#%timeit -n 1 r1.todense()"
     ],
     "language": "python",
     "metadata": {},
     "outputs": [
      {
       "output_type": "stream",
       "stream": "stdout",
       "text": [
        "1 loops, best of 3: 440 ms per loop\n"
       ]
      }
     ],
     "prompt_number": 13
    },
    {
     "cell_type": "code",
     "collapsed": false,
     "input": [
      "#cooccurrence=ut\n",
      "#print (cmp_words(\"detest\",\"argue\"))\n",
      "#print (cmp_words(\"detest\",\"hate\"))\n",
      "#print (cmp_words(\"detest\",\"reveal\"))\n",
      "#print (cmp_words(\"detest\",\"discover\"))\n",
      "#print (cmp_words(\"fast\",\"quick\"))\n",
      "#get_pmi(\"quick\")\n",
      "#ut[7,:]\n",
      "#cooccurrence.todense()\n",
      "#ut\n",
      "#get_id(\"quick\")\n",
      "#get_word_by_id(3)\n",
      "#lst_words\n",
      "print (cmp_words(\"day\",\"morning\"))\n",
      "#%timeit cmp_words(\"day\",\"morning\")\n",
      "#print (cmp_words(\"day\",\"morning\",m=projected))\n",
      "#print (np.asarray(projected[1]).shape)\n",
      "#cooccurrence[1].shape"
     ],
     "language": "python",
     "metadata": {},
     "outputs": [
      {
       "output_type": "stream",
       "stream": "stdout",
       "text": [
        "0.0848876755759\n"
       ]
      }
     ],
     "prompt_number": 14
    },
    {
     "cell_type": "code",
     "collapsed": false,
     "input": [
      "#for i in s1.nonzero()[1]:\n",
      "    #print (i)\n",
      "#get_pmi(\"fast\")\n",
      "#get_id(\"caged\")\n",
      "#s=cooccurrence[46351,:]\n",
      "def cmp_first_tail(l,verbose=False):\n",
      "    max_score=-1;\n",
      "    max_element=None\n",
      "    scores=[]\n",
      "    if verbose: \n",
      "        print (l[0],\" vs\")\n",
      "    for i in l[1:]:\n",
      "        score=cmp_words(l[0],i)\n",
      "        scores.append(score)\n",
      "        if verbose: print (i.ljust(10)+\"\\t\"+str(score))\n",
      "    confidence = sorted(scores)[-1]-sorted(scores)[-2]\n",
      "    return scores,  l[scores.index(max(scores))+1]\n",
      "    #return l[scores.index(max(scores))+1], confidence"
     ],
     "language": "python",
     "metadata": {},
     "outputs": [],
     "prompt_number": 15
    },
    {
     "cell_type": "code",
     "collapsed": false,
     "input": [
      "def get_most_related_words(word):\n",
      "    scores=[]\n",
      "    id = get_id(word)\n",
      "    if id<0: return []\n",
      "    for i in range(cooccurrence.shape[0]):\n",
      "        if i==id: continue\n",
      "        scores.append([cmp_rows(id,i),i])\n",
      "    scores.sort()\n",
      "    result=[]\n",
      "    for q in reversed(scores[-10:]):\n",
      "        result.append([get_word_by_id(q[1]),q[0]])\n",
      "    return result\n",
      "\n",
      "#cmp_first_tail([\"run\",\"walk\",\"fast\",\"day\",\"foo1\"])\n",
      "\n",
      "#%timeit -n 1 get_most_related_words(\"fast\")\n",
      "get_most_related_words(\"fast\")\n",
      "#get_word_by_id(1)\n",
      "#get_id(\"gutenberg-tm\")"
     ],
     "language": "python",
     "metadata": {},
     "outputs": [
      {
       "metadata": {},
       "output_type": "pyout",
       "prompt_number": 19,
       "text": [
        "[['slow', 0.10269847267446813],\n",
        " ['faster', 0.086576147479113824],\n",
        " ['quick', 0.083874682063354078],\n",
        " ['speed', 0.072522354672882858],\n",
        " ['rapidly', 0.071136094734830013],\n",
        " ['medium-fast', 0.070943217754147553],\n",
        " ['slowly', 0.066005542540318568],\n",
        " ['fastest', 0.065894398460954004],\n",
        " ['rapid', 0.063835973117048084],\n",
        " ['ten-pin', 0.062705028360813042]]"
       ]
      }
     ],
     "prompt_number": 19
    },
    {
     "cell_type": "code",
     "collapsed": false,
     "input": [
      "def do_synonyms_test(lines):\n",
      "    output=\"\"\n",
      "    cnt_all=0;\n",
      "    cnt_correct=0;\n",
      "    lst_conf=[]\n",
      "    for tokens in lines:\n",
      "        print (\"processing\",tokens[0])\n",
      "        #guess,confidence=cmp_first_tail(tokens[:-1],verbose=False)\n",
      "        scores,guess=cmp_first_tail(tokens[:-1],verbose=False)\n",
      "        #print (scores)\n",
      "        if guess==tokens[-1]:\n",
      "            cnt_correct+=1\n",
      "            #lst_conf.append(confidence)\n",
      "        cnt_all+=1\n",
      "        #print (tokens[0],guess,guess==tokens[-1],\"\\n\")\n",
      "        output+=\"<b>\"+tokens[0]+\"</b> : \"\n",
      "        for i in range(len(tokens)-2):\n",
      "            t=tokens[i+1]\n",
      "            if t==guess:\n",
      "                if (t==tokens[-1]):\n",
      "                    output+=\" <span style=\\\"color:green;\\\">\"+t+\"</span>\"\n",
      "                else:\n",
      "                    output+=\" <span style=\\\"color:red;\\\">\"+t+\"</span>\"\n",
      "            else: \n",
      "                if (t==tokens[-1]):\n",
      "                    output+=\" <span style=\\\"text-decoration: underline; border-decoration-color: green; -moz-text-decoration-color: green;\\\">\"+t+\"</span>\"\n",
      "                else:\n",
      "                    output+=\" \"+t\n",
      "            output+=\"({:.2f})\".format(scores[i])\n",
      "        output+=\"<br />\\n\"\n",
      "        related=get_most_related_words(tokens[0])\n",
      "        for r in related:\n",
      "            output+=\"{}({:.2f}) \".format(r[0],r[1])\n",
      "        #if (guess==tokens[-1]):\n",
      "#            output+=\"<span style=\\\"color:green\\\">correct!</span>\"\n",
      "#        else:\n",
      "#            output+=\"<span style=\\\"color:red\\\">wrong</span>, should be \"+tokens[-1]\n",
      "        output+=\"<br /><br />\\n\"\n",
      "    success_rate=cnt_correct/cnt_all\n",
      "    output+=\"<br />success rate = \" + str( success_rate)+\"</br>\\n\"\n",
      "    #output+=\"avg confidence = \"+ str( np.mean(lst_conf))+\"</br>\\n\"\n",
      "    with open(\"last_test.html\", 'w') as f:\n",
      "        print(output,file=f)\n",
      "    #s_ev.tofile(f)\n",
      "    return HTML(output)\n",
      "#do_synonyms_test(testhelper.get_test_from_toefl(\"../tests/toefl/toefl\"))"
     ],
     "language": "python",
     "metadata": {},
     "outputs": [],
     "prompt_number": 96
    },
    {
     "cell_type": "code",
     "collapsed": false,
     "input": [
      "#do_synonyms_test(get_test_from_file(\"../tests/syn_easy.txt\"))\n",
      "do_synonyms_test(testhelper.get_test_from_toefl(\"../tests/toefl/toefl\"))"
     ],
     "language": "python",
     "metadata": {},
     "outputs": [
      {
       "output_type": "stream",
       "stream": "stdout",
       "text": [
        "processing enormously\n",
        "processing provisions\n",
        "processing haphazardly\n",
        "processing prominent\n",
        "processing zenith\n",
        "processing flawed\n",
        "processing urgently\n",
        "processing consumed\n",
        "processing advent\n",
        "processing concisely\n",
        "processing salutes\n",
        "processing solitary\n",
        "processing hasten\n",
        "processing perseverance\n",
        "processing fanciful\n",
        "processing showed\n",
        "processing constantly\n",
        "processing issues\n",
        "processing furnish\n",
        "processing costly\n",
        "processing recognized\n",
        "processing spot\n",
        "processing make\n",
        "processing often\n",
        "processing easygoing\n",
        "processing debate\n",
        "processing narrow\n",
        "processing arranged\n",
        "processing infinite\n",
        "processing showy\n",
        "processing levied\n",
        "processing deftly\n",
        "processing distribute\n",
        "processing discrepancies\n",
        "processing prolific\n",
        "processing unmatched\n",
        "processing peculiarly\n",
        "processing hue\n",
        "processing hind\n",
        "processing highlight\n",
        "processing hastily\n",
        "processing temperate\n",
        "processing grin\n",
        "processing verbally\n",
        "processing physician\n",
        "processing essentially\n",
        "processing keen\n",
        "processing situated\n",
        "processing principal\n",
        "processing slowly\n",
        "processing built\n",
        "processing tasks\n",
        "processing unlikely\n",
        "processing halfheartedly\n",
        "processing annals\n",
        "processing wildly\n",
        "processing hailed\n",
        "processing command\n",
        "processing concocted\n",
        "processing prospective\n",
        "processing generally\n",
        "processing sustained\n",
        "processing perilous\n",
        "processing tranquillity\n",
        "processing dissipate\n",
        "processing primarily\n",
        "processing colloquial\n",
        "processing resolved\n",
        "processing feasible\n",
        "processing expeditiously\n",
        "processing percentage\n",
        "processing terminated\n",
        "processing uniform\n",
        "processing figure\n",
        "processing"
       ]
      },
      {
       "output_type": "stream",
       "stream": "stdout",
       "text": [
        " sufficient\n",
        "processing fashion\n",
        "processing marketed\n",
        "processing bigger\n",
        "processing roots\n",
        "processing normally\n"
       ]
      },
      {
       "html": [
        "<b>enormously</b> :  <span style=\"color:red;\">appropriately</span>(0.00) uniquely(0.00) <span style=\"text-decoration: underline; border-decoration-color: green; -moz-text-decoration-color: green;\">tremendously</span>(0.00) decidedly(0.00)<br />\n",
        "<br /><br />\n",
        "<b>provisions</b> :  <span style=\"color:green;\">stipulations</span>(0.00) interrelations(0.00) jurisdictions(0.00) interpretations(0.00)<br />\n",
        "<br /><br />\n",
        "<b>haphazardly</b> :  <span style=\"color:red;\">dangerously</span>(0.00) densely(0.00) <span style=\"text-decoration: underline; border-decoration-color: green; -moz-text-decoration-color: green;\">randomly</span>(0.00) linearly(0.00)<br />\n",
        "<br /><br />\n",
        "<b>prominent</b> :  <span style=\"color:red;\">battered</span>(0.00) ancient(0.00) mysterious(0.00) <span style=\"text-decoration: underline; border-decoration-color: green; -moz-text-decoration-color: green;\">conspicuous</span>(0.00)<br />\n",
        "<br /><br />\n",
        "<b>zenith</b> :  <span style=\"color:red;\">completion</span>(0.00) <span style=\"text-decoration: underline; border-decoration-color: green; -moz-text-decoration-color: green;\">pinnacle</span>(0.00) outset(0.00) decline(0.00)<br />\n",
        "<br /><br />\n",
        "<b>flawed</b> :  <span style=\"color:red;\">tiny</span>(0.00) <span style=\"text-decoration: underline; border-decoration-color: green; -moz-text-decoration-color: green;\">imperfect</span>(0.00) lustrous(0.00) crude(0.00)<br />\n",
        "<br /><br />\n",
        "<b>urgently</b> :  <span style=\"color:red;\">typically</span>(0.00) conceivably(0.00) tentatively(0.00) <span style=\"text-decoration: underline; border-decoration-color: green; -moz-text-decoration-color: green;\">desperately</span>(0.00)<br />\n",
        "<br /><br />\n",
        "<b>consumed</b> :  <span style=\"color:red;\">bred</span>(0.00) caught(0.00) <span style=\"text-decoration: underline; border-decoration-color: green; -moz-text-decoration-color: green;\">eaten</span>(0.00) supplied(0.00)<br />\n",
        "<br /><br />\n",
        "<b>advent</b> :  <span style=\"color:green;\">coming</span>(0.00) arrest(0.00) financing(0.00) stability(0.00)<br />\n",
        "<br /><br />\n",
        "<b>concisely</b> :  <span style=\"color:red;\">powerfully</span>(0.00) positively(0.00) freely(0.00) <span style=\"text-decoration: underline; border-decoration-color: green; -moz-text-decoration-color: green;\">succinctly</span>(0.00)<br />\n",
        "<br /><br />\n",
        "<b>salutes</b> :  <span style=\"color:red;\">information</span>(0.00) ceremonies(0.00) <span style=\"text-decoration: underline; border-decoration-color: green; -moz-text-decoration-color: green;\">greetings</span>(0.00) privileges(0.00)<br />\n",
        "<br /><br />\n",
        "<b>solitary</b> :  <span style=\"color:red;\">alert</span>(0.00) restless(0.00) <span style=\"text-decoration: underline; border-decoration-color: green; -moz-text-decoration-color: green;\">alone</span>(0.00) fearless(0.00)<br />\n",
        "<br /><br />\n",
        "<b>hasten</b> :  <span style=\"color:red;\">permit</span>(0.00) determine(0.00) <span style=\"text-decoration: underline; border-decoration-color: green; -moz-text-decoration-color: green;\">accelerate</span>(0.00) accompany(0.00)<br />\n",
        "<br /><br />\n",
        "<b>perseverance</b> :  <span style=\"color:green;\">endurance</span>(0.00) skill(0.00) generosity(0.00) disturbance(0.00)<br />\n",
        "<br /><br />\n",
        "<b>fanciful</b> :  <span style=\"color:red;\">familiar</span>(0.00) <span style=\"text-decoration: underline; border-decoration-color: green; -moz-text-decoration-color: green;\">imaginative</span>(0.00) apparent(0.00) logical(0.00)<br />\n",
        "<br /><br />\n",
        "<b>showed</b> :  <span style=\"color:green;\">demonstrated</span>(0.00) published(0.00) repeated(0.00) postponed(0.00)<br />\n",
        "<br /><br />\n",
        "<b>constantly</b> :  <span style=\"color:red;\">instantly</span>(0.00) <span style=\"text-decoration: underline; border-decoration-color: green; -moz-text-decoration-color: green;\">continually</span>(0.00) rapidly(0.00) accidentally(0.00)<br />\n",
        "<br /><br />\n",
        "<b>issues</b> :  <span style=\"color:red;\">training</span>(0.00) salaries(0.00) <span style=\"text-decoration: underline; border-decoration-color: green; -moz-text-decoration-color: green;\">subjects</span>(0.00) benefits(0.00)<br />\n",
        "<br /><br />\n",
        "<b>furnish</b> :  <span style=\"color:green;\">supply</span>(0.00) impress(0.00) protect(0.00) advise(0.00)<br />\n",
        "<br /><br />\n",
        "<b>costly</b> :  <span style=\"color:green;\">expensive</span>(0.00) beautiful(0.00) popular(0.00) complicated(0.00)<br />\n",
        "<br /><br />\n",
        "<b>recognized</b> :  <span style=\"color:red;\">successful</span>(0.00) depicted(0.00) <span style=\"text-decoration: underline; border-decoration-color: green; -moz-text-decoration-color: green;\">acknowledged</span>(0.00) welcomed(0.00)<br />\n",
        "<br /><br />\n",
        "<b>spot</b> :  <span style=\"color:red;\">climate</span>(0.00) latitude(0.00) sea(0.00) <span style=\"text-decoration: underline; border-decoration-color: green; -moz-text-decoration-color: green;\">location</span>(0.00)<br />\n",
        "<br /><br />\n",
        "<b>make</b> :  <span style=\"color:green;\">earn</span>(0.00) print(0.00) trade(0.00) borrow(0.00)<br />\n",
        "<br /><br />\n",
        "<b>often</b> :  <span style=\"color:red;\">definitely</span>(0.00) <span style=\"text-decoration: underline; border-decoration-color: green; -moz-text-decoration-color: green;\">frequently</span>(0.00) chemically(0.00) hardly(0.00)<br />\n",
        "<br /><br />\n",
        "<b>easygoing</b> :  <span style=\"color:red;\">frontier</span>(0.00) boring(0.00) farming(0.00) <span style=\"text-decoration: underline; border-decoration-color: green; -moz-text-decoration-color: green;\">relaxed</span>(0.00)<br />\n",
        "<br /><br />\n",
        "<b>debate</b> :  <span style=\"color:red;\">war</span>(0.00) <span style=\"text-decoration: underline; border-decoration-color: green; -moz-text-decoration-color: green;\">argument</span>(0.00) election(0.00) competition(0.00)<br />\n",
        "<br /><br />\n",
        "<b>narrow</b> :  <span style=\"color:red;\">clear</span>(0.00) freezing(0.00) <span style=\"text-decoration: underline; border-decoration-color: green; -moz-text-decoration-color: green;\">thin</span>(0.00) poisonous(0.00)<br />\n",
        "<br /><br />\n",
        "<b>arranged</b> :  <span style=\"color:green;\">planned</span>(0.00) explained(0.00) studied(0.00) discarded(0.00)<br />\n",
        "<br /><br />\n",
        "<b>infinite</b> :  <span style=\"color:green;\">limitless</span>(0.00) relative(0.00) unusual(0.00) structural(0.00)<br />\n",
        "<br /><br />\n",
        "<b>showy</b> :  <span style=\"color:green;\">striking</span>(0.00) prickly(0.00) entertaining(0.00) incidental(0.00)<br />\n",
        "<br /><br />\n",
        "<b>levied</b> :  <span style=\"color:green;\">imposed</span>(0.00) believed(0.00) requested(0.00) correlated(0.00)<br />\n",
        "<br /><br />\n",
        "<b>deftly</b> :  <span style=\"color:green;\">skillfully</span>(0.00) prudently(0.00) occasionally(0.00) humorously(0.00)<br />\n",
        "<br /><br />\n",
        "<b>distribute</b> :  <span style=\"color:red;\">commercialize</span>(0.00) <span style=\"text-decoration: underline; border-decoration-color: green; -moz-text-decoration-color: green;\">circulate</span>(0.00) research(0.00) acknowledge(0.00)<br />\n",
        "<br /><br />\n",
        "<b>discrepancies</b> :  <span style=\"color:red;\">weights</span>(0.00) deposits(0.00) wavelengths(0.00) <span style=\"text-decoration: underline; border-decoration-color: green; -moz-text-decoration-color: green;\">differences</span>(0.00)<br />\n",
        "<br /><br />\n",
        "<b>prolific</b> :  <span style=\"color:green;\">productive</span>(0.00) serious(0.00) capable(0.00) promising(0.00)<br />\n",
        "<br /><br />\n",
        "<b>unmatched</b> :  <span style=\"color:red;\">unrecognized</span>(0.00) <span style=\"text-decoration: underline; border-decoration-color: green; -moz-text-decoration-color: green;\">unequaled</span>(0.00) alienated(0.00) emulated(0.00)<br />\n",
        "<br /><br />\n",
        "<b>peculiarly</b> :  <span style=\"color:red;\">partly</span>(0.00) <span style=\"text-decoration: underline; border-decoration-color: green; -moz-text-decoration-color: green;\">uniquely</span>(0.00) patriotically(0.00) suspiciously(0.00)<br />\n",
        "<br /><br />\n",
        "<b>hue</b> :  <span style=\"color:red;\">glare</span>(0.00) contrast(0.00) <span style=\"text-decoration: underline; border-decoration-color: green; -moz-text-decoration-color: green;\">color</span>(0.00) scent(0.00)<br />\n",
        "<br /><br />\n",
        "<b>hind</b> :  <span style=\"color:red;\">curved</span>(0.00) muscular(0.00) hairy(0.00) <span style=\"text-decoration: underline; border-decoration-color: green; -moz-text-decoration-color: green;\">rear</span>(0.00)<br />\n",
        "<br /><br />\n",
        "<b>highlight</b> :  <span style=\"color:red;\">alter</span>(0.00) imitate(0.00) <span style=\"text-decoration: underline; border-decoration-color: green; -moz-text-decoration-color: green;\">accentuate</span>(0.00) restore(0.00)<br />\n",
        "<br /><br />\n",
        "<b>hastily</b> :  <span style=\"color:green;\">hurriedly</span>(0.00) shrewdly(0.00) habitually(0.00) chronologically(0.00)<br />\n",
        "<br /><br />\n",
        "<b>temperate</b> :  <span style=\"color:red;\">cold</span>(0.00) <span style=\"text-decoration: underline; border-decoration-color: green; -moz-text-decoration-color: green;\">mild</span>(0.00) short(0.00) windy(0.00)<br />\n",
        "<br /><br />\n",
        "<b>grin</b> :  <span style=\"color:red;\">exercise</span>(0.00) rest(0.00) joke(0.00) <span style=\"text-decoration: underline; border-decoration-color: green; -moz-text-decoration-color: green;\">smile</span>(0.00)<br />\n",
        "<br /><br />\n",
        "<b>verbally</b> :  <span style=\"color:green;\">orally</span>(0.00) overtly(0.00) fittingly(0.00) verbosely(0.00)<br />\n",
        "<br /><br />\n",
        "<b>physician</b> :  <span style=\"color:red;\">chemist</span>(0.00) pharmacist(0.00) nurse(0.00) <span style=\"text-decoration: underline; border-decoration-color: green; -moz-text-decoration-color: green;\">doctor</span>(0.00)<br />\n",
        "<br /><br />\n",
        "<b>essentially</b> :  <span style=\"color:red;\">possibly</span>(0.00) eagerly(0.00) <span style=\"text-decoration: underline; border-decoration-color: green; -moz-text-decoration-color: green;\">basically</span>(0.00) ordinarily(0.00)<br />\n",
        "<br /><br />\n",
        "<b>keen</b> :  <span style=\"color:red;\">useful</span>(0.00) simple(0.00) famous(0.00) <span style=\"text-decoration: underline; border-decoration-color: green; -moz-text-decoration-color: green;\">sharp</span>(0.00)<br />\n",
        "<br /><br />\n",
        "<b>situated</b> :  <span style=\"color:red;\">rotating</span>(0.00) isolated(0.00) emptying(0.00) <span style=\"text-decoration: underline; border-decoration-color: green; -moz-text-decoration-color: green;\">positioned</span>(0.00)<br />\n",
        "<br /><br />\n",
        "<b>principal</b> :  <span style=\"color:red;\">most</span>(0.00) numerous(0.00) <span style=\"text-decoration: underline; border-decoration-color: green; -moz-text-decoration-color: green;\">major</span>(0.00) exceptional(0.00)<br />\n",
        "<br /><br />\n",
        "<b>slowly</b> :  <span style=\"color:red;\">rarely</span>(0.00) <span style=\"text-decoration: underline; border-decoration-color: green; -moz-text-decoration-color: green;\">gradually</span>(0.00) effectively(0.00) continuously(0.00)<br />\n",
        "<br /><br />\n",
        "<b>built</b> :  <span style=\"color:green;\">constructed</span>(0.00) proposed(0.00) financed(0.00) organized(0.00)<br />\n",
        "<br /><br />\n",
        "<b>tasks</b> :  <span style=\"color:red;\">customers</span>(0.00) materials(0.00) shops(0.00) <span style=\"text-decoration: underline; border-decoration-color: green; -moz-text-decoration-color: green;\">jobs</span>(0.00)<br />\n",
        "<br /><br />\n",
        "<b>unlikely</b> :  <span style=\"color:green;\">improbable</span>(0.00) disagreeable(0.00) different(0.00) unpopular(0.00)<br />\n",
        "<br /><br />\n",
        "<b>halfheartedly</b> :  <span style=\"color:red;\">customarily</span>(0.00) bipartisanly(0.00) <span style=\"text-decoration: underline; border-decoration-color: green; -moz-text-decoration-color: green;\">apathetically</span>(0.00) unconventionally(0.00)<br />\n",
        "<br /><br />\n",
        "<b>annals</b> :  <span style=\"color:red;\">homes</span>(0.00) trails(0.00) <span style=\"text-decoration: underline; border-decoration-color: green; -moz-text-decoration-color: green;\">chronicles</span>(0.00) songs(0.00)<br />\n",
        "<br /><br />\n",
        "<b>wildly</b> :  <span style=\"color:red;\">distinctively</span>(0.00) mysteriously(0.00) abruptly(0.00) <span style=\"text-decoration: underline; border-decoration-color: green; -moz-text-decoration-color: green;\">furiously</span>(0.00)<br />\n",
        "<br /><br />\n",
        "<b>hailed</b> :  <span style=\"color:red;\">judged</span>(0.00) <span style=\"text-decoration: underline; border-decoration-color: green; -moz-text-decoration-color: green;\">acclaimed</span>(0.00) remembered(0.00) addressed(0.00)<br />\n",
        "<br /><br />\n",
        "<b>command</b> :  <span style=\"color:red;\">observation</span>(0.00) love(0.00) awareness(0.00) <span style=\"text-decoration: underline; border-decoration-color: green; -moz-text-decoration-color: green;\">mastery</span>(0.00)<br />\n",
        "<br /><br />\n",
        "<b>concocted</b> :  <span style=\"color:green;\">devised</span>(0.00) cleaned(0.00) requested(0.00) supervised(0.00)<br />\n",
        "<br /><br />\n",
        "<b>prospective</b> :  <span style=\"color:red;\">particular</span>(0.00) prudent(0.00) <span style=\"text-decoration: underline; border-decoration-color: green; -moz-text-decoration-color: green;\">potential</span>(0.00) prominent(0.00)<br />\n",
        "<br /><br />\n",
        "<b>generally</b> :  <span style=\"color:red;\">descriptively</span>(0.00) <span style=\"text-decoration: underline; border-decoration-color: green; -moz-text-decoration-color: green;\">broadly</span>(0.00) controversially(0.00) accurately(0.00)<br />\n",
        "<br /><br />\n",
        "<b>sustained</b> :  <span style=\"color:green;\">prolonged</span>(0.00) refined(0.00) lowered(0.00) analyzed(0.00)<br />\n",
        "<br /><br />\n",
        "<b>perilous</b> :  <span style=\"color:red;\">binding</span>(0.00) exciting(0.00) offensive(0.00) <span style=\"text-decoration: underline; border-decoration-color: green; -moz-text-decoration-color: green;\">dangerous</span>(0.00)<br />\n",
        "<br /><br />\n",
        "<b>tranquillity</b> :  <span style=\"color:green;\">peacefulness</span>(0.00) harshness(0.00) weariness(0.00) happiness(0.00)<br />\n",
        "<br /><br />\n",
        "<b>dissipate</b> :  <span style=\"color:green;\">disperse</span>(0.00) isolate(0.00) disguise(0.00) photograph(0.00)<br />\n",
        "<br /><br />\n",
        "<b>primarily</b> :  <span style=\"color:red;\">occasionally</span>(0.00) cautiously(0.00) consistently(0.00) <span style=\"text-decoration: underline; border-decoration-color: green; -moz-text-decoration-color: green;\">chiefly</span>(0.00)<br />\n",
        "<br /><br />\n",
        "<b>colloquial</b> :  <span style=\"color:red;\">recorded</span>(0.00) misunderstood(0.00) incorrect(0.00) <span style=\"text-decoration: underline; border-decoration-color: green; -moz-text-decoration-color: green;\">conversational</span>(0.00)<br />\n",
        "<br /><br />\n",
        "<b>resolved</b> :  <span style=\"color:red;\">publicized</span>(0.00) forgotten(0.00) <span style=\"text-decoration: underline; border-decoration-color: green; -moz-text-decoration-color: green;\">settled</span>(0.00) examined(0.00)<br />\n",
        "<br /><br />\n",
        "<b>feasible</b> :  <span style=\"color:red;\">permitted</span>(0.00) <span style=\"text-decoration: underline; border-decoration-color: green; -moz-text-decoration-color: green;\">possible</span>(0.00) equitable(0.00) evident(0.00)<br />\n",
        "<br /><br />\n",
        "<b>expeditiously</b> :  <span style=\"color:red;\">frequently</span>(0.00) actually(0.00) <span style=\"text-decoration: underline; border-decoration-color: green; -moz-text-decoration-color: green;\">rapidly</span>(0.00) repeatedly(0.00)<br />\n",
        "<br /><br />\n",
        "<b>percentage</b> :  <span style=\"color:red;\">volume</span>(0.00) sample(0.00) <span style=\"text-decoration: underline; border-decoration-color: green; -moz-text-decoration-color: green;\">proportion</span>(0.00) profit(0.00)<br />\n",
        "<br /><br />\n",
        "<b>terminated</b> :  <span style=\"color:green;\">ended</span>(0.00) posed(0.00) postponed(0.00) evaluated(0.00)<br />\n",
        "<br /><br />\n",
        "<b>uniform</b> :  <span style=\"color:red;\">hard</span>(0.00) complex(0.00) <span style=\"text-decoration: underline; border-decoration-color: green; -moz-text-decoration-color: green;\">alike</span>(0.00) sharp(0.00)<br />\n",
        "<br /><br />\n",
        "<b>figure</b> :  <span style=\"color:red;\">list</span>(0.00) <span style=\"text-decoration: underline; border-decoration-color: green; -moz-text-decoration-color: green;\">solve</span>(0.00) divide(0.00) express(0.00)<br />\n",
        "winking(0.00) robes(0.00) own(0.00) given(0.00) recited(0.00) just(0.00) going(0.00) are(0.00) asked(0.00) they(0.00) <br /><br />\n",
        "<b>sufficient</b> :  <span style=\"color:red;\">recent</span>(0.00) physiological(0.00) <span style=\"text-decoration: underline; border-decoration-color: green; -moz-text-decoration-color: green;\">enough</span>(0.00) valuable(0.00)<br />\n",
        "<br /><br />\n",
        "<b>fashion</b> :  <span style=\"color:red;\">ration</span>(0.00) fathom(0.00) craze(0.00) <span style=\"text-decoration: underline; border-decoration-color: green; -moz-text-decoration-color: green;\">manner</span>(0.00)<br />\n",
        "<br /><br />\n",
        "<b>marketed</b> :  <span style=\"color:red;\">frozen</span>(0.00) <span style=\"text-decoration: underline; border-decoration-color: green; -moz-text-decoration-color: green;\">sold</span>(0.00) sweetened(0.00) diluted(0.00)<br />\n",
        "<br /><br />\n",
        "<b>bigger</b> :  <span style=\"color:red;\">steadier</span>(0.00) closer(0.00) <span style=\"text-decoration: underline; border-decoration-color: green; -moz-text-decoration-color: green;\">larger</span>(0.00) better(0.00)<br />\n",
        "<br /><br />\n",
        "<b>roots</b> :  <span style=\"color:green;\">origins</span>(0.00) rituals(0.00) cure(0.00) function(0.00)<br />\n",
        "<br /><br />\n",
        "<b>normally</b> :  <span style=\"color:red;\">haltingly</span>(0.00) <span style=\"text-decoration: underline; border-decoration-color: green; -moz-text-decoration-color: green;\">ordinarily</span>(0.00) permanently(0.00) periodically(0.00)<br />\n",
        "<br /><br />\n",
        "<br />success rate = 0.2875</br>\n"
       ],
       "metadata": {},
       "output_type": "pyout",
       "prompt_number": 23,
       "text": [
        "<IPython.core.display.HTML at 0x7f0c69249630>"
       ]
      }
     ],
     "prompt_number": 23
    },
    {
     "cell_type": "code",
     "collapsed": false,
     "input": [
      "print (get_pmi(\"sufficient\"))\n",
      "print (get_pmi(\"fearing\"))\n",
      "cmp_words(\"sufficient\",\"fearing\")"
     ],
     "language": "python",
     "metadata": {},
     "outputs": [
      {
       "output_type": "stream",
       "stream": "stdout",
       "text": [
        "[['recognised', 12.1745]]\n",
        "[['recognised', 12.1745]]\n"
       ]
      },
      {
       "metadata": {},
       "output_type": "pyout",
       "prompt_number": 69,
       "text": [
        "1.0"
       ]
      }
     ],
     "prompt_number": 69
    },
    {
     "cell_type": "code",
     "collapsed": false,
     "input": [
      "lst_sigmas=[]\n",
      "legends=[]\n",
      "for filename in glob.glob(\"./sigmas/*\"):\n",
      "    f=open(filename,\"r\")\n",
      "    sigmas = np.loadtxt(f)\n",
      "    lst_sigmas.append(sigmas)\n",
      "    plt.plot(sigmas,label=\"test\")\n",
      "    legends.append(filename.split(\"/\")[-1])\n",
      "    f.close()\n",
      "plt.legend(legends)\n",
      "#print (lst_sigmas)\n",
      "#plt.plot(x=range(8),y=lst_sigmas)"
     ],
     "language": "python",
     "metadata": {},
     "outputs": [
      {
       "metadata": {},
       "output_type": "pyout",
       "prompt_number": 65,
       "text": [
        "<matplotlib.legend.Legend at 0x7f01668d39b0>"
       ]
      },
      {
       "metadata": {},
       "output_type": "display_data",
       "png": "[encoded data removed]",
       "text": [
        "<matplotlib.figure.Figure at 0x7f01669097b8>"
       ]
      }
     ],
     "prompt_number": 65
    },
    {
     "cell_type": "code",
     "collapsed": false,
     "input": [
      "%lsmagic"
     ],
     "language": "python",
     "metadata": {},
     "outputs": [
      {
       "json": [
        "{\"line\": {\"sx\": \"OSMagics\", \"unalias\": \"OSMagics\", \"colors\": \"BasicMagics\", \"less\": \"KernelMagics\", \"man\": \"KernelMagics\", \"cd\": \"OSMagics\", \"unload_ext\": \"ExtensionMagics\", \"automagic\": \"AutoMagics\", \"loadpy\": \"CodeMagics\", \"logstart\": \"LoggingMagics\", \"history\": \"HistoryMagics\", \"gui\": \"BasicMagics\", \"pinfo2\": \"NamespaceMagics\", \"killbgscripts\": \"ScriptMagics\", \"recall\": \"HistoryMagics\", \"pastebin\": \"CodeMagics\", \"whos\": \"NamespaceMagics\", \"page\": \"BasicMagics\", \"qtconsole\": \"KernelMagics\", \"install_ext\": \"ExtensionMagics\", \"reset_selective\": \"NamespaceMagics\", \"reset\": \"NamespaceMagics\", \"install_profiles\": \"DeprecatedMagics\", \"autocall\": \"AutoMagics\", \"time\": \"ExecutionMagics\", \"pfile\": \"NamespaceMagics\", \"psource\": \"NamespaceMagics\", \"rerun\": \"HistoryMagics\", \"config\": \"ConfigMagics\", \"mkdir\": \"Other\", \"xmode\": \"BasicMagics\", \"sc\": \"OSMagics\", \"load_ext\": \"ExtensionMagics\", \"rep\": \"Other\", \"psearch\": \"NamespaceMagics\", \"dhist\": \"OSMagics\", \"cat\": \"Other\", \"who_ls\": \"NamespaceMagics\", \"lk\": \"Other\", \"pprint\": \"BasicMagics\", \"notebook\": \"BasicMagics\", \"ed\": \"Other\", \"ldir\": \"Other\", \"logstate\": \"LoggingMagics\", \"debug\": \"ExecutionMagics\", \"ll\": \"Other\", \"who\": \"NamespaceMagics\", \"macro\": \"ExecutionMagics\", \"autosave\": \"KernelMagics\", \"pycat\": \"OSMagics\", \"hist\": \"Other\", \"tb\": \"ExecutionMagics\", \"pushd\": \"OSMagics\", \"install_default_config\": \"DeprecatedMagics\", \"pdef\": \"NamespaceMagics\", \"rehashx\": \"OSMagics\", \"profile\": \"BasicMagics\", \"bookmark\": \"OSMagics\", \"dirs\": \"OSMagics\", \"run\": \"ExecutionMagics\", \"reload_ext\": \"ExtensionMagics\", \"logstop\": \"LoggingMagics\", \"clear\": \"KernelMagics\", \"store\": \"StoreMagics\", \"popd\": \"OSMagics\", \"timeit\": \"ExecutionMagics\", \"mv\": \"Other\", \"xdel\": \"NamespaceMagics\", \"pdoc\": \"NamespaceMagics\", \"lsmagic\": \"BasicMagics\", \"precision\": \"BasicMagics\", \"logon\": \"LoggingMagics\", \"alias\": \"OSMagics\", \"save\": \"CodeMagics\", \"rmdir\": \"Other\", \"matplotlib\": \"PylabMagics\", \"cp\": \"Other\", \"pdb\": \"ExecutionMagics\", \"ls\": \"Other\", \"lf\": \"Other\", \"magic\": \"BasicMagics\", \"env\": \"OSMagics\", \"pylab\": \"PylabMagics\", \"doctest_mode\": \"KernelMagics\", \"more\": \"KernelMagics\", \"quickref\": \"BasicMagics\", \"edit\": \"KernelMagics\", \"load\": \"CodeMagics\", \"lx\": \"Other\", \"logoff\": \"LoggingMagics\", \"rm\": \"Other\", \"system\": \"OSMagics\", \"pwd\": \"OSMagics\", \"pinfo\": \"NamespaceMagics\", \"connect_info\": \"KernelMagics\", \"alias_magic\": \"BasicMagics\", \"prun\": \"ExecutionMagics\"}, \"cell\": {\"sx\": \"OSMagics\", \"script\": \"ScriptMagics\", \"pypy\": \"Other\", \"html\": \"DisplayMagics\", \"prun\": \"ExecutionMagics\", \"bash\": \"Other\", \"sh\": \"Other\", \"ruby\": \"Other\", \"python\": \"Other\", \"writefile\": \"OSMagics\", \"python2\": \"Other\", \"HTML\": \"Other\", \"python3\": \"Other\", \"latex\": \"DisplayMagics\", \"file\": \"Other\", \"system\": \"OSMagics\", \"!\": \"OSMagics\", \"svg\": \"DisplayMagics\", \"perl\": \"Other\", \"capture\": \"ExecutionMagics\", \"javascript\": \"DisplayMagics\", \"timeit\": \"ExecutionMagics\", \"debug\": \"ExecutionMagics\", \"time\": \"ExecutionMagics\", \"SVG\": \"Other\"}}"
       ],
       "metadata": {},
       "output_type": "pyout",
       "prompt_number": 92,
       "text": [
        "Available line magics:\n",
        "%alias  %alias_magic  %autocall  %automagic  %autosave  %bookmark  %cat  %cd  %clear  %colors  %config  %connect_info  %cp  %debug  %dhist  %dirs  %doctest_mode  %ed  %edit  %env  %gui  %hist  %history  %install_default_config  %install_ext  %install_profiles  %killbgscripts  %ldir  %less  %lf  %lk  %ll  %load  %load_ext  %loadpy  %logoff  %logon  %logstart  %logstate  %logstop  %ls  %lsmagic  %lx  %macro  %magic  %man  %matplotlib  %mkdir  %more  %mv  %notebook  %page  %pastebin  %pdb  %pdef  %pdoc  %pfile  %pinfo  %pinfo2  %popd  %pprint  %precision  %profile  %prun  %psearch  %psource  %pushd  %pwd  %pycat  %pylab  %qtconsole  %quickref  %recall  %rehashx  %reload_ext  %rep  %rerun  %reset  %reset_selective  %rm  %rmdir  %run  %save  %sc  %store  %sx  %system  %tb  %time  %timeit  %unalias  %unload_ext  %who  %who_ls  %whos  %xdel  %xmode\n",
        "\n",
        "Available cell magics:\n",
        "%%!  %%HTML  %%SVG  %%bash  %%capture  %%debug  %%file  %%html  %%javascript  %%latex  %%perl  %%prun  %%pypy  %%python  %%python2  %%python3  %%ruby  %%script  %%sh  %%svg  %%sx  %%system  %%time  %%timeit  %%writefile\n",
        "\n",
        "Automagic is ON, % prefix IS NOT needed for line magics."
       ]
      }
     ],
     "prompt_number": 92
    },
    {
     "cell_type": "code",
     "collapsed": false,
     "input": [
      "%time"
     ],
     "language": "python",
     "metadata": {},
     "outputs": [
      {
       "output_type": "stream",
       "stream": "stdout",
       "text": [
        "CPU times: user 14 \u00b5s, sys: 0 ns, total: 14 \u00b5s\n",
        "Wall time: 22.4 \u00b5s\n"
       ]
      }
     ],
     "prompt_number": 95
    },
    {
     "cell_type": "code",
     "collapsed": false,
     "input": [],
     "language": "python",
     "metadata": {},
     "outputs": []
    },
    {
     "cell_type": "code",
     "collapsed": false,
     "input": [],
     "language": "python",
     "metadata": {},
     "outputs": []
    }
   ],
   "metadata": {}
  }
 ]
}