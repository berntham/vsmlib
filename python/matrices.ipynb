{
 "metadata": {
  "name": "",
  "signature": "sha256:f2a1798f8ab984ae05e6f15366cba80708f5beb0afc074f8e49fe6d9799ec3db"
 },
 "nbformat": 3,
 "nbformat_minor": 0,
 "worksheets": [
  {
   "cells": [
    {
     "cell_type": "code",
     "collapsed": false,
     "input": [
      "import os\n",
      "import socket\n",
      "import time\n",
      "import numpy as np\n",
      "import scipy\n",
      "import random\n",
      "from scipy import sparse\n",
      "import sklearn\n",
      "from sklearn.metrics import pairwise_distances\n",
      "from scipy.spatial.distance import cosine\n",
      "from IPython.display import HTML\n",
      "import matplotlib as mpl\n",
      "from matplotlib import pyplot as plt\n",
      "import math\n",
      "import glob\n",
      "import imp\n",
      "import vsmlib\n",
      "#from vsmlib import testhelper,matrix#,similarity\n",
      "#from vsmlib.vocabulary import get_id,get_word_by_id\n",
      "from myutils.formathelper import sizeof_fmt,countof_fmt\n",
      "#from vsmlib.similarity import cmp_words\n",
      "%matplotlib inline"
     ],
     "language": "python",
     "metadata": {},
     "outputs": [],
     "prompt_number": 1
    },
    {
     "cell_type": "code",
     "collapsed": false,
     "input": [
      "if socket.gethostname()==\"cypress\":  dir_root=\"/storage/scratch/brown\"\n",
      "if socket.gethostname()==\"ashtree\":  dir_root=\"/mnt/work/nlp_scratch/total\"\n",
      "if socket.gethostname()==\"rc017.m.gsic.titech.ac.jp\":  dir_root=\"/home/blackbird/data/scratch/brown\"\n",
      "#max_width=25"
     ],
     "language": "python",
     "metadata": {},
     "outputs": [],
     "prompt_number": 2
    },
    {
     "cell_type": "code",
     "collapsed": false,
     "input": [
      "m = vsmlib.Model_explicit()\n",
      "m.load(dir_root)\n",
      "#m.filter_submatrix([\"fast\",\"quick\"])\n",
      "#v.load(dir_root)\n",
      "#v.get_word_id(\"fast\")\n",
      "#v.get_word_by_id(50379)\n",
      "#dic_words_ids={}\n",
      "#dic_words_ids[\"a\"]"
     ],
     "language": "python",
     "metadata": {},
     "outputs": [
      {
       "ename": "KeyboardInterrupt",
       "evalue": "",
       "output_type": "pyerr",
       "traceback": [
        "\u001b[0;31m---------------------------------------------------------------------------\u001b[0m\n\u001b[0;31mKeyboardInterrupt\u001b[0m                         Traceback (most recent call last)",
        "\u001b[0;32m<ipython-input-3-2e9b2bb57ed2>\u001b[0m in \u001b[0;36m<module>\u001b[0;34m()\u001b[0m\n\u001b[1;32m      1\u001b[0m \u001b[0mm\u001b[0m \u001b[0;34m=\u001b[0m \u001b[0mvsmlib\u001b[0m\u001b[0;34m.\u001b[0m\u001b[0mModel_explicit\u001b[0m\u001b[0;34m(\u001b[0m\u001b[0;34m)\u001b[0m\u001b[0;34m\u001b[0m\u001b[0m\n\u001b[0;32m----> 2\u001b[0;31m \u001b[0mm\u001b[0m\u001b[0;34m.\u001b[0m\u001b[0mload\u001b[0m\u001b[0;34m(\u001b[0m\u001b[0mdir_root\u001b[0m\u001b[0;34m)\u001b[0m\u001b[0;34m\u001b[0m\u001b[0m\n\u001b[0m\u001b[1;32m      3\u001b[0m \u001b[0;31m#m.filter_submatrix([\"fast\",\"quick\"])\u001b[0m\u001b[0;34m\u001b[0m\u001b[0;34m\u001b[0m\u001b[0m\n\u001b[1;32m      4\u001b[0m \u001b[0;31m#v.load(dir_root)\u001b[0m\u001b[0;34m\u001b[0m\u001b[0;34m\u001b[0m\u001b[0m\n\u001b[1;32m      5\u001b[0m \u001b[0;31m#v.get_word_id(\"fast\")\u001b[0m\u001b[0;34m\u001b[0m\u001b[0;34m\u001b[0m\u001b[0m\n",
        "\u001b[0;32m/home/blackbird/Cloud/Dropbox/Projects/NLP/DistibutionalSimilarity/python/vsmlib/model.py\u001b[0m in \u001b[0;36mload\u001b[0;34m(self, path)\u001b[0m\n\u001b[1;32m    107\u001b[0m         \u001b[0mself\u001b[0m\u001b[0;34m.\u001b[0m\u001b[0mvocabulary\u001b[0m \u001b[0;34m=\u001b[0m \u001b[0mVocabulary_cooccurrence\u001b[0m\u001b[0;34m(\u001b[0m\u001b[0;34m)\u001b[0m\u001b[0;34m\u001b[0m\u001b[0m\n\u001b[1;32m    108\u001b[0m         \u001b[0mself\u001b[0m\u001b[0;34m.\u001b[0m\u001b[0mvocabulary\u001b[0m\u001b[0;34m.\u001b[0m\u001b[0mload\u001b[0m\u001b[0;34m(\u001b[0m\u001b[0mpath\u001b[0m\u001b[0;34m)\u001b[0m\u001b[0;34m\u001b[0m\u001b[0m\n\u001b[0;32m--> 109\u001b[0;31m         \u001b[0mself\u001b[0m\u001b[0;34m.\u001b[0m\u001b[0mmatrix\u001b[0m \u001b[0;34m=\u001b[0m \u001b[0mvsmlib\u001b[0m\u001b[0;34m.\u001b[0m\u001b[0mmatrix\u001b[0m\u001b[0;34m.\u001b[0m\u001b[0mload_matrix_csr\u001b[0m\u001b[0;34m(\u001b[0m\u001b[0mpath\u001b[0m\u001b[0;34m,\u001b[0m\u001b[0mzero_negatives\u001b[0m\u001b[0;34m=\u001b[0m\u001b[0;32mFalse\u001b[0m\u001b[0;34m,\u001b[0m\u001b[0mverbose\u001b[0m\u001b[0;34m=\u001b[0m\u001b[0;32mTrue\u001b[0m\u001b[0;34m)\u001b[0m\u001b[0;34m\u001b[0m\u001b[0m\n\u001b[0m\u001b[1;32m    110\u001b[0m         \u001b[0;32mwith\u001b[0m \u001b[0mopen\u001b[0m \u001b[0;34m(\u001b[0m\u001b[0mos\u001b[0m\u001b[0;34m.\u001b[0m\u001b[0mpath\u001b[0m\u001b[0;34m.\u001b[0m\u001b[0mjoin\u001b[0m\u001b[0;34m(\u001b[0m\u001b[0mpath\u001b[0m\u001b[0;34m,\u001b[0m\u001b[0;34m\"provenance.txt\"\u001b[0m\u001b[0;34m)\u001b[0m\u001b[0;34m,\u001b[0m \u001b[0;34m\"r\"\u001b[0m\u001b[0;34m)\u001b[0m \u001b[0;32mas\u001b[0m \u001b[0mmyfile\u001b[0m\u001b[0;34m:\u001b[0m\u001b[0;34m\u001b[0m\u001b[0m\n\u001b[1;32m    111\u001b[0m             \u001b[0mself\u001b[0m\u001b[0;34m.\u001b[0m\u001b[0mprovenance\u001b[0m \u001b[0;34m=\u001b[0m \u001b[0mmyfile\u001b[0m\u001b[0;34m.\u001b[0m\u001b[0mread\u001b[0m\u001b[0;34m(\u001b[0m\u001b[0;34m)\u001b[0m\u001b[0;34m\u001b[0m\u001b[0m\n",
        "\u001b[0;32m/home/blackbird/Cloud/Dropbox/Projects/NLP/DistibutionalSimilarity/python/vsmlib/matrix.py\u001b[0m in \u001b[0;36mload_matrix_csr\u001b[0;34m(path, zero_negatives, verbose)\u001b[0m\n\u001b[1;32m     52\u001b[0m         \u001b[0mt_start\u001b[0m\u001b[0;34m=\u001b[0m\u001b[0mtime\u001b[0m\u001b[0;34m.\u001b[0m\u001b[0mtime\u001b[0m\u001b[0;34m(\u001b[0m\u001b[0;34m)\u001b[0m\u001b[0;34m\u001b[0m\u001b[0m\n\u001b[1;32m     53\u001b[0m         \u001b[0mdata\u001b[0m \u001b[0;34m=\u001b[0m \u001b[0mnp\u001b[0m\u001b[0;34m.\u001b[0m\u001b[0mfromfile\u001b[0m\u001b[0;34m(\u001b[0m\u001b[0mopen\u001b[0m\u001b[0;34m(\u001b[0m\u001b[0mos\u001b[0m\u001b[0;34m.\u001b[0m\u001b[0mpath\u001b[0m\u001b[0;34m.\u001b[0m\u001b[0mjoin\u001b[0m\u001b[0;34m(\u001b[0m\u001b[0mpath\u001b[0m\u001b[0;34m,\u001b[0m\u001b[0;34m\"bigrams.data.bin\"\u001b[0m\u001b[0;34m)\u001b[0m\u001b[0;34m)\u001b[0m\u001b[0;34m,\u001b[0m\u001b[0mdtype\u001b[0m\u001b[0;34m=\u001b[0m\u001b[0mnp\u001b[0m\u001b[0;34m.\u001b[0m\u001b[0mfloat32\u001b[0m\u001b[0;34m)\u001b[0m\u001b[0;34m\u001b[0m\u001b[0m\n\u001b[0;32m---> 54\u001b[0;31m         \u001b[0mcol_ind\u001b[0m \u001b[0;34m=\u001b[0m \u001b[0mnp\u001b[0m\u001b[0;34m.\u001b[0m\u001b[0mfromfile\u001b[0m\u001b[0;34m(\u001b[0m\u001b[0mopen\u001b[0m\u001b[0;34m(\u001b[0m\u001b[0mos\u001b[0m\u001b[0;34m.\u001b[0m\u001b[0mpath\u001b[0m\u001b[0;34m.\u001b[0m\u001b[0mjoin\u001b[0m\u001b[0;34m(\u001b[0m\u001b[0mpath\u001b[0m\u001b[0;34m,\u001b[0m\u001b[0;34m\"bigrams.col_ind.bin\"\u001b[0m\u001b[0;34m)\u001b[0m\u001b[0;34m)\u001b[0m\u001b[0;34m,\u001b[0m\u001b[0mdtype\u001b[0m\u001b[0;34m=\u001b[0m\u001b[0mnp\u001b[0m\u001b[0;34m.\u001b[0m\u001b[0mint64\u001b[0m\u001b[0;34m)\u001b[0m\u001b[0;34m\u001b[0m\u001b[0m\n\u001b[0m\u001b[1;32m     55\u001b[0m         \u001b[0mrow_ptr\u001b[0m \u001b[0;34m=\u001b[0m \u001b[0mnp\u001b[0m\u001b[0;34m.\u001b[0m\u001b[0mfromfile\u001b[0m\u001b[0;34m(\u001b[0m\u001b[0mopen\u001b[0m\u001b[0;34m(\u001b[0m\u001b[0mos\u001b[0m\u001b[0;34m.\u001b[0m\u001b[0mpath\u001b[0m\u001b[0;34m.\u001b[0m\u001b[0mjoin\u001b[0m\u001b[0;34m(\u001b[0m\u001b[0mpath\u001b[0m\u001b[0;34m,\u001b[0m\u001b[0;34m\"bigrams.row_ptr.bin\"\u001b[0m\u001b[0;34m)\u001b[0m\u001b[0;34m)\u001b[0m\u001b[0;34m,\u001b[0m\u001b[0mdtype\u001b[0m\u001b[0;34m=\u001b[0m\u001b[0mnp\u001b[0m\u001b[0;34m.\u001b[0m\u001b[0mint64\u001b[0m\u001b[0;34m)\u001b[0m\u001b[0;34m\u001b[0m\u001b[0m\n\u001b[1;32m     56\u001b[0m         \u001b[0;31m#print (\"shape of data = {}\".format(data.shape))\u001b[0m\u001b[0;34m\u001b[0m\u001b[0;34m\u001b[0m\u001b[0m\n",
        "\u001b[0;32m/usr/lib/python3.4/codecs.py\u001b[0m in \u001b[0;36msetstate\u001b[0;34m(self, state)\u001b[0m\n\u001b[1;32m    324\u001b[0m         \u001b[0;32mreturn\u001b[0m \u001b[0;34m(\u001b[0m\u001b[0mself\u001b[0m\u001b[0;34m.\u001b[0m\u001b[0mbuffer\u001b[0m\u001b[0;34m,\u001b[0m \u001b[0;36m0\u001b[0m\u001b[0;34m)\u001b[0m\u001b[0;34m\u001b[0m\u001b[0m\n\u001b[1;32m    325\u001b[0m \u001b[0;34m\u001b[0m\u001b[0m\n\u001b[0;32m--> 326\u001b[0;31m     \u001b[0;32mdef\u001b[0m \u001b[0msetstate\u001b[0m\u001b[0;34m(\u001b[0m\u001b[0mself\u001b[0m\u001b[0;34m,\u001b[0m \u001b[0mstate\u001b[0m\u001b[0;34m)\u001b[0m\u001b[0;34m:\u001b[0m\u001b[0;34m\u001b[0m\u001b[0m\n\u001b[0m\u001b[1;32m    327\u001b[0m         \u001b[0;31m# ignore additional state info\u001b[0m\u001b[0;34m\u001b[0m\u001b[0;34m\u001b[0m\u001b[0m\n\u001b[1;32m    328\u001b[0m         \u001b[0mself\u001b[0m\u001b[0;34m.\u001b[0m\u001b[0mbuffer\u001b[0m \u001b[0;34m=\u001b[0m \u001b[0mstate\u001b[0m\u001b[0;34m[\u001b[0m\u001b[0;36m0\u001b[0m\u001b[0;34m]\u001b[0m\u001b[0;34m\u001b[0m\u001b[0m\n",
        "\u001b[0;31mKeyboardInterrupt\u001b[0m: "
       ]
      }
     ],
     "prompt_number": 3
    },
    {
     "cell_type": "code",
     "collapsed": false,
     "input": [
      "#m.get_most_similar_words(\"best\")\n",
      "#vocabulary.report_rare()\n",
      "#vocabulary.l_frequencies\n",
      "#len(m.vocabulary.lst_words)"
     ],
     "language": "python",
     "metadata": {},
     "outputs": [],
     "prompt_number": 4
    },
    {
     "cell_type": "code",
     "collapsed": false,
     "input": [
      "mpl.rcParams['figure.figsize'] = (18.0, 8.0)\n",
      "from matplotlib.colors import Normalize\n",
      "\n",
      "class MidpointNormalize(Normalize):\n",
      "    def __init__(self, vmin=None, vmax=None, midpoint=None, clip=False):\n",
      "        self.midpoint = midpoint\n",
      "        Normalize.__init__(self, vmin, vmax, clip)\n",
      "\n",
      "    def __call__(self, value, clip=None):\n",
      "        # I'm ignoring masked values and all kinds of edge cases to make a\n",
      "        # simple example...\n",
      "        x, y = [self.vmin, self.midpoint, self.vmax], [0, 0.5, 1]\n",
      "        return np.ma.masked_array(np.interp(value, x, y))\n",
      "\n",
      "def plot_heat(ax,m,xlabels,ylabels):\n",
      "    norm = MidpointNormalize(midpoint=0)\n",
      "    ax.set_aspect('equal')\n",
      "    plt.xticks(rotation=90)    \n",
      "    ax.set_xticks(np.arange(m.shape[1])+0.5, minor=False)\n",
      "    ax.set_yticks(np.arange(m.shape[0])+0.5, minor=False)\n",
      "    ax.set_xticklabels(xlabels, minor=False)\n",
      "    ax.set_yticklabels(ylabels, minor=False)\n",
      "    for tic in ax.xaxis.get_major_ticks():\n",
      "        tic.tick1On = tic.tick2On = False\n",
      "    for tic in ax.yaxis.get_major_ticks():\n",
      "        tic.tick1On = tic.tick2On = False\n",
      "    #ax.set_frame_on(False)\n",
      "    heatmap = plt.pcolor(np.array(m), norm=norm, cmap=mpl.cm.RdBu, edgecolors=\"black\")    \n",
      "    #im = ax.imshow(np.array(m), norm=norm, cmap=plt.cm.seismic, interpolation='none')\n",
      "#fig.colorbar(im)\n",
      "    plt.colorbar(heatmap,orientation='horizontal')\n",
      "    \n",
      "def draw_features_and_similarity(mm,numbered=False):\n",
      "    rows,cols,xlabels=mm.filter_submatrix(words_of_interest,20)\n",
      "    ax=plt.subplot(1,2,1)\n",
      "    plot_heat(ax,cols,xlabels,words_of_interest)\n",
      "    #plot_heat(ax,abs(m),numbered)\n",
      "    ax=plt.subplot(1,2,2)\n",
      "    t = 1-pairwise_distances(rows, metric=\"cosine\")\n",
      "    np.fill_diagonal(t,0)\n",
      "    plot_heat(ax,t,words_of_interest,words_of_interest)\n",
      "    #plt.savefig(\"m1.pdf\")\n",
      "    #plt.show()\n",
      "\n",
      "#draw_features_and_similarity(cooccurrence.todense())\n",
      "#words_of_interest=[\"day\",\"running\",\"quick\",\"fast\",\"kind\",\"good\",\"point\",\"fun\"]\n",
      "#words_of_interest=[\"king\",\"man\"]\n",
      "words_of_interest=[\"apple\",\"banana\",\"orange\",\"pineapple\"]\n",
      "#plt.savefig(\"plot.pdf\")\n",
      "#draw_features_and_similarity(dense)"
     ],
     "language": "python",
     "metadata": {},
     "outputs": [],
     "prompt_number": 2
    },
    {
     "cell_type": "code",
     "collapsed": false,
     "input": [
      "if cooccurrence.shape[1]>8000:\n",
      "    print (\"No way, this matrix is too huge\")\n",
      "else:\n",
      "    c=cooccurrence.todense()\n",
      "    ut, s_ev, vt = np.linalg.svd(c.T,full_matrices=False)\n",
      "    #projected=np.dot(vt.T,np.diag(s_ev))#[:,[0,1,2,3]]\n",
      "    projected_densesvd=np.dot(c,ut)\n",
      "    plt.plot(s_ev)\n",
      "    plt.show()\n",
      "    filename=dir_root.split('/')[-1]+\"_dense\"\n",
      "    filename=os.path.join(\"sigmas\",filename)\n",
      "    print (filename)\n",
      "    with open(filename, 'wb') as f:\n",
      "        #pickle.dump(s_ev, f)\n",
      "        #s_ev.tofile(f)\n",
      "        np.savetxt(f,s_ev)\n",
      "    draw_features_and_similarity(projected_densesvd,True) \n",
      "    plt.show()\n",
      "   \n",
      "\n",
      "#print(s_ev)\n",
      "#type(s_ev)\n",
      "#projected=vt\n",
      "#draw_features_and_similarity(projected,True) \n",
      "#plt.plot(s_ev)"
     ],
     "language": "python",
     "metadata": {},
     "outputs": [
      {
       "ename": "NameError",
       "evalue": "name 'cooccurrence' is not defined",
       "output_type": "pyerr",
       "traceback": [
        "\u001b[1;31m---------------------------------------------------------------------------\u001b[0m\n\u001b[1;31mNameError\u001b[0m                                 Traceback (most recent call last)",
        "\u001b[1;32m<ipython-input-6-e1d1ca7d320a>\u001b[0m in \u001b[0;36m<module>\u001b[1;34m()\u001b[0m\n\u001b[1;32m----> 1\u001b[1;33m \u001b[1;32mif\u001b[0m \u001b[0mcooccurrence\u001b[0m\u001b[1;33m.\u001b[0m\u001b[0mshape\u001b[0m\u001b[1;33m[\u001b[0m\u001b[1;36m1\u001b[0m\u001b[1;33m]\u001b[0m\u001b[1;33m>\u001b[0m\u001b[1;36m8000\u001b[0m\u001b[1;33m:\u001b[0m\u001b[1;33m\u001b[0m\u001b[0m\n\u001b[0m\u001b[0;32m      2\u001b[0m     \u001b[0mprint\u001b[0m \u001b[1;33m(\u001b[0m\u001b[1;34m\"No way, this matrix is too huge\"\u001b[0m\u001b[1;33m)\u001b[0m\u001b[1;33m\u001b[0m\u001b[0m\n\u001b[0;32m      3\u001b[0m \u001b[1;32melse\u001b[0m\u001b[1;33m:\u001b[0m\u001b[1;33m\u001b[0m\u001b[0m\n\u001b[0;32m      4\u001b[0m     \u001b[0mc\u001b[0m\u001b[1;33m=\u001b[0m\u001b[0mcooccurrence\u001b[0m\u001b[1;33m.\u001b[0m\u001b[0mtodense\u001b[0m\u001b[1;33m(\u001b[0m\u001b[1;33m)\u001b[0m\u001b[1;33m\u001b[0m\u001b[0m\n\u001b[0;32m      5\u001b[0m     \u001b[0mut\u001b[0m\u001b[1;33m,\u001b[0m \u001b[0ms_ev\u001b[0m\u001b[1;33m,\u001b[0m \u001b[0mvt\u001b[0m \u001b[1;33m=\u001b[0m \u001b[0mnp\u001b[0m\u001b[1;33m.\u001b[0m\u001b[0mlinalg\u001b[0m\u001b[1;33m.\u001b[0m\u001b[0msvd\u001b[0m\u001b[1;33m(\u001b[0m\u001b[0mc\u001b[0m\u001b[1;33m.\u001b[0m\u001b[0mT\u001b[0m\u001b[1;33m,\u001b[0m\u001b[0mfull_matrices\u001b[0m\u001b[1;33m=\u001b[0m\u001b[1;32mFalse\u001b[0m\u001b[1;33m)\u001b[0m\u001b[1;33m\u001b[0m\u001b[0m\n",
        "\u001b[1;31mNameError\u001b[0m: name 'cooccurrence' is not defined"
       ]
      }
     ],
     "prompt_number": 6
    },
    {
     "cell_type": "markdown",
     "metadata": {},
     "source": [
      "#Trying scipy.sparse.linalg.svd"
     ]
    },
    {
     "cell_type": "code",
     "collapsed": false,
     "input": [
      "cnt_singular_vectors=100\n",
      "time_start=time.time()\n",
      "m_svd_scipy = vsmlib.Model_svd_scipy(m,cnt_singular_vectors)\n",
      "    time_end = time.time()\n",
      "print (\"took {0:0.2f} seconds\".format(time_end-time_start))"
     ],
     "language": "python",
     "metadata": {},
     "outputs": [
      {
       "output_type": "stream",
       "stream": "stdout",
       "text": [
        "took 9.36 seconds\n"
       ]
      }
     ],
     "prompt_number": 6
    },
    {
     "cell_type": "code",
     "collapsed": false,
     "input": [
      "#m_svd_scipy.save_to_dir(\"/storage/scratch/brown_svd300\")\n",
      "#plt.plot(s_ev)\n",
      "#plt.show()\n",
      "#vt=np.nan_to_num(vt.T)\n",
      "#draw_features_and_similarity(m_svd_scipy,True) \n",
      "#m2 = vsmlib.model.Model_numbered()\n",
      "#m2.load_from_dir(\"/mnt/work/nlp_scratch/total_w3_svd300\")\n",
      "draw_features_and_similarity(m2,True) \n",
      "#plt.show\n",
      "#None"
     ],
     "language": "python",
     "metadata": {},
     "outputs": [
      {
       "metadata": {},
       "output_type": "display_data",
       "png": "[encoded data removed]",
       "text": [
        "<matplotlib.figure.Figure at 0x7fd7fe8a4358>"
       ]
      }
     ],
     "prompt_number": 4
    },
    {
     "cell_type": "code",
     "collapsed": false,
     "input": [
      "#m_svd_scipy.get_most_similar_words(\"fast\")\n",
      "row1=m2.get_row(\"smaller\")\n",
      "row2=m2.get_row(\"small\")\n",
      "row3=m2.get_row(\"large\")\n",
      "row = row1-row2+row3\n",
      "m2.get_most_similar_words(row)"
     ],
     "language": "python",
     "metadata": {},
     "outputs": [
      {
       "metadata": {},
       "output_type": "pyout",
       "prompt_number": 8,
       "text": [
        "[['larger', 0.66465439303106277],\n",
        " ['smaller', 0.60252137691726659],\n",
        " ['largest', 0.53860906925511987],\n",
        " ['large', 0.5332757877009896],\n",
        " ['bigger', 0.51769768254951209],\n",
        " ['vast', 0.51702725218728962],\n",
        " ['huge', 0.51693829829513016],\n",
        " ['size', 0.47562634078154331],\n",
        " ['massive', 0.47291872995005635],\n",
        " ['sized', 0.46423058806249107]]"
       ]
      }
     ],
     "prompt_number": 8
    },
    {
     "cell_type": "code",
     "collapsed": false,
     "input": [
      "#wordlist = [\"russia\",\"moscow\",\"france\",\"paris\",\"germany\",\"berlin\",\"greece\",\"athens\"]\n",
      "#wordlist = [\"france\",\"paris\",\"germany\",\"berlin\"]\n",
      "mymodel = m2\n",
      "wordlist = [\"big\",\"bigger\",\"small\",\"smaller\",\"good\",\"better\",\"slow\",\"slower\"]\n",
      "#wordlist = [\"cake\",\"soup\",\"sandwich\",\"\",\"car\",\"bike\",\"helicopter\"]\n",
      "def vis_scatter(x,y,wordlist):\n",
      "    plt.scatter(x,y)\n",
      "    for label, x, y in zip(wordlist, x, y):\n",
      "        plt.annotate(\n",
      "            label, \n",
      "            xy = (x, y), xytext = (-20, 20),\n",
      "            textcoords = 'offset points', ha = 'right', va = 'bottom',\n",
      "            bbox = dict(boxstyle = 'round,pad=0.5', fc = 'yellow', alpha = 0.5),\n",
      "            arrowprops = dict(arrowstyle = '->', connectionstyle = 'arc3,rad=0'))    \n",
      "rows = np.empty((0,mymodel.matrix.shape[1]))\n",
      "for i in wordlist:\n",
      "    rows =np.vstack([rows,mymodel.get_row(i)])\n",
      "\n",
      "#import mdp\n",
      "#p = mdp.pca(rows) \n",
      "    #ut, s_ev, vt = np.linalg.svd(rows.T)\n",
      "import sklearn.decomposition\n",
      "pca = sklearn.decomposition.PCA(n_components=2)\n",
      "#pca.fit(rows)\n",
      "p = pca.fit_transform(rows)\n",
      "##print(pca.explained_variance_ratio_) \n",
      "x = p[:,0]\n",
      "y = p[:,1]\n",
      "vis_scatter(x,y,wordlist)\n",
      "plt.savefig(\"2d.pdf\")"
     ],
     "language": "python",
     "metadata": {},
     "outputs": [
      {
       "metadata": {},
       "output_type": "display_data",
       "png": "[encoded data removed]",
       "text": [
        "<matplotlib.figure.Figure at 0x7fd8051df908>"
       ]
      }
     ],
     "prompt_number": 9
    },
    {
     "cell_type": "markdown",
     "metadata": {},
     "source": [
      "#Trying sparsesvd"
     ]
    },
    {
     "cell_type": "code",
     "collapsed": false,
     "input": [
      "from sparsesvd import sparsesvd\n",
      "csc=m.matrix.T.tocsc()\n",
      "time_start = time.time()\n",
      "ut, s_ev, vt = sparsesvd(csc,cnt_singular_vectors)\n",
      "projected_svdpack=np.dot(vt.T,np.diag(s_ev))\n",
      "time_end = time.time()\n",
      "print (\"took {0:0.2f} seconds\".format(time_end-time_start))\n",
      "#draw_features_and_similarity(projected_svdpack,True) "
     ],
     "language": "python",
     "metadata": {},
     "outputs": [
      {
       "output_type": "stream",
       "stream": "stdout",
       "text": [
        "took 19.79 seconds\n"
       ]
      }
     ],
     "prompt_number": 12
    },
    {
     "cell_type": "code",
     "collapsed": false,
     "input": [
      "plt.plot(s_ev)"
     ],
     "language": "python",
     "metadata": {},
     "outputs": [
      {
       "metadata": {},
       "output_type": "pyout",
       "prompt_number": 71,
       "text": [
        "[<matplotlib.lines.Line2D at 0x7f4d8e192dd8>]"
       ]
      },
      {
       "metadata": {},
       "output_type": "display_data",
       "png": "[encoded data removed]",
       "text": [
        "<matplotlib.figure.Figure at 0x7f4d954ca2e8>"
       ]
      }
     ],
     "prompt_number": 71
    },
    {
     "cell_type": "code",
     "collapsed": false,
     "input": [
      "def cmp_first_tail(m,l,verbose=False):\n",
      "    max_score=-1;\n",
      "    max_element=None\n",
      "    scores=[]\n",
      "    if verbose: \n",
      "        print (l[0],\" vs\")\n",
      "    for i in l[1:]:\n",
      "        score=m.cmp_words(l[0],i)\n",
      "        scores.append(score)\n",
      "        if verbose: print (i.ljust(10)+\"\\t\"+str(score))\n",
      "    confidence = sorted(scores)[-1]-sorted(scores)[-2]\n",
      "    return scores,  l[scores.index(max(scores))+1]\n",
      "    #return l[scores.index(max(scores))+1], confidence\n",
      "cmp_first_tail(m_w2v,[\"fast\",\"quick\",\"apple\"])"
     ],
     "language": "python",
     "metadata": {},
     "outputs": [
      {
       "metadata": {},
       "output_type": "pyout",
       "prompt_number": 33,
       "text": [
        "([0.47155456022810527, 0.0071283120871711292], 'quick')"
       ]
      }
     ],
     "prompt_number": 33
    },
    {
     "cell_type": "code",
     "collapsed": false,
     "input": [
      "def do_synonyms_test(m,lines):\n",
      "    output=\"\"\n",
      "    cnt_all=0;\n",
      "    cnt_correct=0;\n",
      "    lst_conf=[]\n",
      "    for tokens in lines:\n",
      "        print (\"processing\",tokens[0])\n",
      "        #guess,confidence=cmp_first_tail(tokens[:-1],verbose=False)\n",
      "        scores,guess=cmp_first_tail(m,tokens[:-1],verbose=False)\n",
      "        #print (scores)\n",
      "        if guess==tokens[-1]:\n",
      "            cnt_correct+=1\n",
      "            #lst_conf.append(confidence)\n",
      "        cnt_all+=1\n",
      "        #print (tokens[0],guess,guess==tokens[-1],\"\\n\")\n",
      "        output+=\"<b>\"+tokens[0]+\"</b> : \"\n",
      "        #output+=\"<b>\"+tokens[0]+\"</b>[{}] : \".format(get_frequency(get_id(tokens[0])))\n",
      "\n",
      "        for i in range(len(tokens)-2):\n",
      "            t=tokens[i+1]\n",
      "            if t==guess:\n",
      "                if (t==tokens[-1]):\n",
      "                    output+=\" <span style=\\\"color:green;\\\">\"+t+\"</span>\"\n",
      "                else:\n",
      "                    output+=\" <span style=\\\"color:red;\\\">\"+t+\"</span>\"\n",
      "            else: \n",
      "                if (t==tokens[-1]):\n",
      "                    output+=\" <span style=\\\"text-decoration: underline; border-decoration-color: green; -moz-text-decoration-color: green;\\\">\"+t+\"</span>\"\n",
      "                else:\n",
      "                    output+=\" \"+t\n",
      "            #output+=\"[{}]\".format(get_frequency(get_id(t)))\n",
      "            output+=\"({:.2f})\".format(scores[i])\n",
      "        output+=\"<br />\\n\"\n",
      "        #related=get_most_related_words(tokens[0])\n",
      "        #for r in related:\n",
      "#            output+=\"{}({:.2f}) \".format(r[0],r[1])\n",
      "        #if (guess==tokens[-1]):\n",
      "#            output+=\"<span style=\\\"color:green\\\">correct!</span>\"\n",
      "#        else:\n",
      "#            output+=\"<span style=\\\"color:red\\\">wrong</span>, should be \"+tokens[-1]\n",
      "        #output+=\"<br /><br />\\n\"\n",
      "    success_rate=cnt_correct/cnt_all\n",
      "    output+=\"<br />success rate = \" + str( success_rate)+\"</br>\\n\"\n",
      "    #output+=\"avg confidence = \"+ str( np.mean(lst_conf))+\"</br>\\n\"\n",
      "    with open(\"last_test.html\", 'w') as f:\n",
      "        print(output,file=f)\n",
      "    #s_ev.tofile(f)\n",
      "    return HTML(output)\n",
      "#do_synonyms_test(testhelper.get_test_from_toefl(\"../tests/toefl/toefl\"))"
     ],
     "language": "python",
     "metadata": {},
     "outputs": [],
     "prompt_number": 65
    },
    {
     "cell_type": "code",
     "collapsed": false,
     "input": [
      "#do_synonyms_test(get_test_from_file(\"../tests/syn_easy.txt\"))\n",
      "do_synonyms_test(m,testhelper.get_test_from_toefl(\"../tests/toefl/toefl\"))"
     ],
     "language": "python",
     "metadata": {},
     "outputs": [
      {
       "output_type": "stream",
       "stream": "stdout",
       "text": [
        "processing enormously\n",
        "processing provisions\n",
        "processing haphazardly\n",
        "processing prominent\n",
        "processing"
       ]
      },
      {
       "output_type": "stream",
       "stream": "stdout",
       "text": [
        " zenith\n",
        "processing flawed\n",
        "processing urgently\n",
        "processing consumed\n",
        "processing advent\n",
        "processing"
       ]
      },
      {
       "output_type": "stream",
       "stream": "stdout",
       "text": [
        " concisely\n",
        "processing salutes\n",
        "processing solitary\n",
        "processing hasten\n",
        "processing perseverance\n",
        "processing"
       ]
      },
      {
       "output_type": "stream",
       "stream": "stdout",
       "text": [
        " fanciful\n",
        "processing showed\n",
        "processing constantly\n",
        "processing issues\n",
        "processing furnish\n",
        "processing"
       ]
      },
      {
       "output_type": "stream",
       "stream": "stdout",
       "text": [
        " costly\n",
        "processing recognized\n",
        "processing spot\n",
        "processing make\n",
        "processing"
       ]
      },
      {
       "output_type": "stream",
       "stream": "stdout",
       "text": [
        " often\n",
        "processing easygoing\n",
        "processing debate\n",
        "processing narrow\n",
        "processing"
       ]
      },
      {
       "output_type": "stream",
       "stream": "stdout",
       "text": [
        " arranged\n",
        "processing infinite\n",
        "processing showy\n",
        "processing levied\n",
        "processing"
       ]
      },
      {
       "output_type": "stream",
       "stream": "stdout",
       "text": [
        " deftly\n",
        "processing distribute\n",
        "processing discrepancies\n",
        "processing prolific\n",
        "processing unmatched\n",
        "processing"
       ]
      },
      {
       "output_type": "stream",
       "stream": "stdout",
       "text": [
        " peculiarly\n",
        "processing hue\n",
        "processing hind\n",
        "processing highlight\n",
        "processing hastily\n",
        "processing"
       ]
      },
      {
       "output_type": "stream",
       "stream": "stdout",
       "text": [
        " temperate\n",
        "processing grin\n",
        "processing verbally\n",
        "processing physician\n",
        "processing"
       ]
      },
      {
       "output_type": "stream",
       "stream": "stdout",
       "text": [
        " essentially\n",
        "processing keen\n",
        "processing situated\n",
        "processing principal\n",
        "processing"
       ]
      },
      {
       "output_type": "stream",
       "stream": "stdout",
       "text": [
        " slowly\n",
        "processing built\n",
        "processing tasks\n",
        "processing unlikely\n",
        "processing"
       ]
      },
      {
       "output_type": "stream",
       "stream": "stdout",
       "text": [
        " halfheartedly\n",
        "processing annals\n",
        "processing wildly\n",
        "processing hailed\n",
        "processing command\n",
        "processing"
       ]
      },
      {
       "output_type": "stream",
       "stream": "stdout",
       "text": [
        " concocted\n",
        "processing prospective\n",
        "processing generally\n",
        "processing sustained\n",
        "processing perilous\n",
        "processing"
       ]
      },
      {
       "output_type": "stream",
       "stream": "stdout",
       "text": [
        " tranquillity\n",
        "processing dissipate\n",
        "processing primarily\n",
        "processing colloquial\n",
        "processing resolved\n",
        "processing"
       ]
      },
      {
       "output_type": "stream",
       "stream": "stdout",
       "text": [
        " feasible\n",
        "processing expeditiously\n",
        "processing percentage\n",
        "processing terminated\n",
        "processing uniform\n",
        "processing"
       ]
      },
      {
       "output_type": "stream",
       "stream": "stdout",
       "text": [
        " figure\n",
        "processing sufficient\n",
        "processing fashion\n",
        "processing marketed\n",
        "processing"
       ]
      },
      {
       "output_type": "stream",
       "stream": "stdout",
       "text": [
        " bigger\n",
        "processing roots\n",
        "processing normally\n"
       ]
      },
      {
       "html": [
        "<b>enormously</b> :  appropriately(0.05) uniquely(0.08) <span style=\"color:green;\">tremendously</span>(0.21) decidedly(0.07)<br />\n",
        "<b>provisions</b> :  <span style=\"text-decoration: underline; border-decoration-color: green; -moz-text-decoration-color: green;\">stipulations</span>(0.07) interrelations(0.00) <span style=\"color:red;\">jurisdictions</span>(0.10) interpretations(0.05)<br />\n",
        "<b>haphazardly</b> :  dangerously(0.02) densely(0.02) <span style=\"color:green;\">randomly</span>(0.08) linearly(0.03)<br />\n",
        "<b>prominent</b> :  battered(0.01) <span style=\"color:red;\">ancient</span>(0.08) mysterious(0.03) <span style=\"text-decoration: underline; border-decoration-color: green; -moz-text-decoration-color: green;\">conspicuous</span>(0.07)<br />\n",
        "<b>zenith</b> :  completion(0.00) <span style=\"color:green;\">pinnacle</span>(0.04) outset(0.03) decline(0.03)<br />\n",
        "<b>flawed</b> :  tiny(0.02) <span style=\"color:green;\">imperfect</span>(0.08) lustrous(0.01) crude(0.06)<br />\n",
        "<b>urgently</b> :  typically(0.01) conceivably(0.03) tentatively(0.05) <span style=\"color:green;\">desperately</span>(0.12)<br />\n",
        "<b>consumed</b> :  bred(0.04) caught(0.05) <span style=\"color:green;\">eaten</span>(0.15) supplied(0.05)<br />\n",
        "<b>advent</b> :  <span style=\"text-decoration: underline; border-decoration-color: green; -moz-text-decoration-color: green;\">coming</span>(0.02) arrest(0.00) financing(0.03) <span style=\"color:red;\">stability</span>(0.04)<br />\n",
        "<b>concisely</b> :  powerfully(0.06) positively(0.03) freely(0.03) <span style=\"color:green;\">succinctly</span>(0.16)<br />\n",
        "<b>salutes</b> :  information(0.00) ceremonies(0.03) <span style=\"color:green;\">greetings</span>(0.03) privileges(0.02)<br />\n",
        "<b>solitary</b> :  alert(0.04) <span style=\"color:red;\">restless</span>(0.05) <span style=\"text-decoration: underline; border-decoration-color: green; -moz-text-decoration-color: green;\">alone</span>(-0.00) fearless(0.04)<br />\n",
        "<b>hasten</b> :  permit(0.03) determine(0.01) <span style=\"color:green;\">accelerate</span>(0.12) accompany(0.02)<br />\n",
        "<b>perseverance</b> :  <span style=\"text-decoration: underline; border-decoration-color: green; -moz-text-decoration-color: green;\">endurance</span>(0.07) skill(0.08) <span style=\"color:red;\">generosity</span>(0.09) disturbance(0.03)<br />\n",
        "<b>fanciful</b> :  familiar(0.06) <span style=\"color:green;\">imaginative</span>(0.16) apparent(0.00) logical(0.06)<br />\n",
        "<b>showed</b> :  <span style=\"color:green;\">demonstrated</span>(0.12) published(0.02) repeated(0.05) postponed(0.01)<br />\n",
        "<b>constantly</b> :  instantly(0.11) <span style=\"color:green;\">continually</span>(0.38) rapidly(0.13) accidentally(0.16)<br />\n",
        "<b>issues</b> :  training(0.00) salaries(0.00) <span style=\"color:green;\">subjects</span>(0.01) benefits(0.00)<br />\n",
        "<b>furnish</b> :  <span style=\"text-decoration: underline; border-decoration-color: green; -moz-text-decoration-color: green;\">supply</span>(0.03) impress(0.03) protect(0.02) <span style=\"color:red;\">advise</span>(0.04)<br />\n",
        "<b>costly</b> :  <span style=\"color:green;\">expensive</span>(0.16) beautiful(-0.00) popular(-0.00) complicated(0.09)<br />\n",
        "<b>recognized</b> :  successful(0.05) depicted(0.04) <span style=\"color:green;\">acknowledged</span>(0.08) welcomed(0.03)<br />\n",
        "<b>spot</b> :  <span style=\"color:red;\">climate</span>(0.03) latitude(0.02) sea(0.00) <span style=\"text-decoration: underline; border-decoration-color: green; -moz-text-decoration-color: green;\">location</span>(-0.00)<br />\n",
        "<b>make</b> :  <span style=\"text-decoration: underline; border-decoration-color: green; -moz-text-decoration-color: green;\">earn</span>(0.00) print(0.00) trade(0.00) <span style=\"color:red;\">borrow</span>(0.02)<br />\n",
        "<b>often</b> :  definitely(0.07) <span style=\"color:green;\">frequently</span>(0.29) chemically(0.04) hardly(0.10)<br />\n",
        "<b>easygoing</b> :  frontier(0.00) boring(0.03) farming(-0.00) <span style=\"color:green;\">relaxed</span>(0.10)<br />\n",
        "<b>debate</b> :  war(0.00) <span style=\"color:green;\">argument</span>(0.01) election(-0.00) competition(-0.00)<br />\n",
        "<b>narrow</b> :  clear(-0.01) freezing(0.04) <span style=\"color:green;\">thin</span>(0.18) poisonous(0.02)<br />\n",
        "<b>arranged</b> :  <span style=\"color:green;\">planned</span>(0.06) explained(0.04) studied(0.04) discarded(0.02)<br />\n",
        "<b>infinite</b> :  <span style=\"color:green;\">limitless</span>(0.11) relative(0.06) unusual(0.06) structural(0.06)<br />\n",
        "<b>showy</b> :  <span style=\"text-decoration: underline; border-decoration-color: green; -moz-text-decoration-color: green;\">striking</span>(0.04) <span style=\"color:red;\">prickly</span>(0.05) entertaining(0.03) incidental(0.02)<br />\n",
        "<b>levied</b> :  <span style=\"color:green;\">imposed</span>(0.09) believed(0.00) requested(0.03) correlated(0.02)<br />\n",
        "<b>deftly</b> :  <span style=\"color:green;\">skillfully</span>(0.24) prudently(0.05) occasionally(0.05) humorously(0.06)<br />\n",
        "<b>distribute</b> :  commercialize(0.04) <span style=\"color:green;\">circulate</span>(0.05) research(-0.00) acknowledge(0.03)<br />\n",
        "<b>discrepancies</b> :  weights(0.04) deposits(0.02) wavelengths(0.04) <span style=\"color:green;\">differences</span>(0.05)<br />\n",
        "<b>prolific</b> :  <span style=\"color:green;\">productive</span>(0.09) serious(0.05) capable(0.05) promising(0.07)<br />\n",
        "<b>unmatched</b> :  unrecognized(0.03) <span style=\"color:green;\">unequaled</span>(0.10) alienated(0.03) emulated(0.04)<br />\n",
        "<b>peculiarly</b> :  partly(0.02) <span style=\"color:green;\">uniquely</span>(0.11) patriotically(0.01) suspiciously(0.03)<br />\n",
        "<b>hue</b> :  glare(0.04) contrast(0.03) <span style=\"text-decoration: underline; border-decoration-color: green; -moz-text-decoration-color: green;\">color</span>(0.00) <span style=\"color:red;\">scent</span>(0.06)<br />\n",
        "<b>hind</b> :  curved(0.03) muscular(0.03) hairy(0.03) <span style=\"color:green;\">rear</span>(0.04)<br />\n",
        "<b>highlight</b> :  alter(0.04) imitate(0.03) <span style=\"color:green;\">accentuate</span>(0.05) restore(0.03)<br />\n",
        "<b>hastily</b> :  <span style=\"color:green;\">hurriedly</span>(0.26) shrewdly(0.07) habitually(0.05) chronologically(0.03)<br />\n",
        "<b>temperate</b> :  cold(0.07) <span style=\"text-decoration: underline; border-decoration-color: green; -moz-text-decoration-color: green;\">mild</span>(0.07) short(-0.01) <span style=\"color:red;\">windy</span>(0.07)<br />\n",
        "<b>grin</b> :  exercise(0.01) rest(-0.01) joke(0.06) <span style=\"color:green;\">smile</span>(0.13)<br />\n",
        "<b>verbally</b> :  <span style=\"text-decoration: underline; border-decoration-color: green; -moz-text-decoration-color: green;\">orally</span>(0.06) <span style=\"color:red;\">overtly</span>(0.07) fittingly(0.01) verbosely(0.01)<br />\n",
        "<b>physician</b> :  chemist(0.10) pharmacist(0.09) nurse(0.08) <span style=\"color:green;\">doctor</span>(0.11)<br />\n",
        "<b>essentially</b> :  possibly(0.08) eagerly(0.02) <span style=\"color:green;\">basically</span>(0.16) ordinarily(0.05)<br />\n",
        "<b>keen</b> :  useful(0.07) simple(-0.00) famous(0.04) <span style=\"color:green;\">sharp</span>(0.07)<br />\n",
        "<b>situated</b> :  rotating(0.01) isolated(0.03) emptying(0.02) <span style=\"color:green;\">positioned</span>(0.04)<br />\n",
        "<b>principal</b> :  most(-0.00) <span style=\"color:red;\">numerous</span>(0.07) <span style=\"text-decoration: underline; border-decoration-color: green; -moz-text-decoration-color: green;\">major</span>(-0.01) exceptional(0.03)<br />\n",
        "<b>slowly</b> :  rarely(0.09) <span style=\"color:green;\">gradually</span>(0.31) effectively(0.14) continuously(0.14)<br />\n",
        "<b>built</b> :  <span style=\"color:green;\">constructed</span>(0.00) proposed(-0.00) financed(0.00) organized(-0.00)<br />\n",
        "<b>tasks</b> :  customers(0.06) materials(0.06) shops(0.03) <span style=\"color:green;\">jobs</span>(0.07)<br />\n",
        "<b>unlikely</b> :  <span style=\"color:green;\">improbable</span>(0.07) disagreeable(0.02) different(0.00) unpopular(0.04)<br />\n",
        "<b>halfheartedly</b> :  <span style=\"color:red;\">customarily</span>(0.02) bipartisanly(0.00) <span style=\"text-decoration: underline; border-decoration-color: green; -moz-text-decoration-color: green;\">apathetically</span>(0.00) unconventionally(0.01)<br />\n",
        "<b>annals</b> :  homes(0.00) trails(0.01) <span style=\"color:green;\">chronicles</span>(0.06) songs(0.00)<br />\n",
        "<b>wildly</b> :  distinctively(0.05) mysteriously(0.05) abruptly(0.05) <span style=\"color:green;\">furiously</span>(0.07)<br />\n",
        "<b>hailed</b> :  judged(0.04) <span style=\"color:green;\">acclaimed</span>(0.06) remembered(0.06) addressed(0.02)<br />\n",
        "<b>command</b> :  observation(0.00) love(0.00) awareness(-0.00) <span style=\"color:green;\">mastery</span>(0.01)<br />\n",
        "<b>concocted</b> :  <span style=\"color:green;\">devised</span>(0.05) cleaned(0.02) requested(0.01) supervised(0.01)<br />\n",
        "<b>prospective</b> :  particular(-0.02) prudent(0.05) <span style=\"color:green;\">potential</span>(0.11) prominent(0.04)<br />\n",
        "<b>generally</b> :  descriptively(-0.00) <span style=\"text-decoration: underline; border-decoration-color: green; -moz-text-decoration-color: green;\">broadly</span>(-0.01) controversially(-0.01) <span style=\"color:red;\">accurately</span>(0.00)<br />\n",
        "<b>sustained</b> :  <span style=\"color:green;\">prolonged</span>(0.13) refined(0.04) lowered(0.06) analyzed(0.04)<br />\n",
        "<b>perilous</b> :  binding(-0.00) exciting(0.06) offensive(0.01) <span style=\"color:green;\">dangerous</span>(0.08)<br />\n",
        "<b>tranquillity</b> :  <span style=\"text-decoration: underline; border-decoration-color: green; -moz-text-decoration-color: green;\">peacefulness</span>(0.06) harshness(0.03) weariness(0.04) <span style=\"color:red;\">happiness</span>(0.06)<br />\n",
        "<b>dissipate</b> :  <span style=\"color:green;\">disperse</span>(0.09) isolate(0.03) disguise(0.02) photograph(0.01)<br />\n",
        "<b>primarily</b> :  occasionally(0.07) cautiously(-0.00) consistently(0.04) <span style=\"color:green;\">chiefly</span>(0.09)<br />\n",
        "<b>colloquial</b> :  recorded(-0.00) misunderstood(0.03) incorrect(0.05) <span style=\"color:green;\">conversational</span>(0.10)<br />\n",
        "<b>resolved</b> :  publicized(0.04) forgotten(0.04) <span style=\"text-decoration: underline; border-decoration-color: green; -moz-text-decoration-color: green;\">settled</span>(0.02) <span style=\"color:red;\">examined</span>(0.05)<br />\n",
        "<b>feasible</b> :  permitted(0.05) <span style=\"text-decoration: underline; border-decoration-color: green; -moz-text-decoration-color: green;\">possible</span>(0.01) <span style=\"color:red;\">equitable</span>(0.06) evident(0.04)<br />\n",
        "<b>expeditiously</b> :  frequently(0.01) actually(0.00) <span style=\"color:green;\">rapidly</span>(0.03) repeatedly(0.01)<br />\n",
        "<b>percentage</b> :  volume(-0.00) sample(0.06) <span style=\"color:green;\">proportion</span>(0.14) profit(0.06)<br />\n",
        "<b>terminated</b> :  <span style=\"text-decoration: underline; border-decoration-color: green; -moz-text-decoration-color: green;\">ended</span>(0.04) posed(0.02) <span style=\"color:red;\">postponed</span>(0.05) evaluated(0.03)<br />\n",
        "<b>uniform</b> :  hard(0.00) complex(0.00) <span style=\"text-decoration: underline; border-decoration-color: green; -moz-text-decoration-color: green;\">alike</span>(-0.00) <span style=\"color:red;\">sharp</span>(0.00)<br />\n",
        "<b>figure</b> :  list(0.00) <span style=\"color:green;\">solve</span>(0.01) divide(0.00) express(0.00)<br />\n",
        "<b>sufficient</b> :  recent(0.05) physiological(0.07) <span style=\"text-decoration: underline; border-decoration-color: green; -moz-text-decoration-color: green;\">enough</span>(-0.01) <span style=\"color:red;\">valuable</span>(0.09)<br />\n",
        "<b>fashion</b> :  ration(-0.00) <span style=\"color:red;\">fathom</span>(0.01) craze(0.00) <span style=\"text-decoration: underline; border-decoration-color: green; -moz-text-decoration-color: green;\">manner</span>(0.00)<br />\n",
        "<b>marketed</b> :  frozen(0.03) <span style=\"color:green;\">sold</span>(0.07) sweetened(0.03) diluted(0.02)<br />\n",
        "<b>bigger</b> :  steadier(0.03) closer(0.04) <span style=\"color:green;\">larger</span>(0.13) better(-0.00)<br />\n",
        "<b>roots</b> :  <span style=\"color:green;\">origins</span>(0.06) rituals(0.04) cure(0.03) function(-0.00)<br />\n",
        "<b>normally</b> :  haltingly(0.00) <span style=\"color:green;\">ordinarily</span>(0.14) permanently(0.10) periodically(0.10)<br />\n",
        "<br />success rate = 0.725</br>\n"
       ],
       "metadata": {},
       "output_type": "pyout",
       "prompt_number": 66,
       "text": [
        "<IPython.core.display.HTML at 0x7f7ad00edfd0>"
       ]
      }
     ],
     "prompt_number": 66
    },
    {
     "cell_type": "code",
     "collapsed": false,
     "input": [
      "#print (get_pmi(\"sufficient\"))\n",
      "#print (get_pmi(\"fearing\"))\n",
      "#cmp_words(\"sufficient\",\"fearing\")"
     ],
     "language": "python",
     "metadata": {},
     "outputs": [],
     "prompt_number": 44
    },
    {
     "cell_type": "code",
     "collapsed": false,
     "input": [
      "lst_sigmas=[]\n",
      "legends=[]\n",
      "for filename in glob.glob(\"./sigmas/*\"):\n",
      "    f=open(filename,\"r\")\n",
      "    sigmas = np.loadtxt(f)\n",
      "    lst_sigmas.append(sigmas)\n",
      "    plt.plot(sigmas,label=\"test\")\n",
      "    legends.append(filename.split(\"/\")[-1])\n",
      "    f.close()\n",
      "plt.legend(legends)\n",
      "#print (lst_sigmas)\n",
      "#plt.plot(x=range(8),y=lst_sigmas)"
     ],
     "language": "python",
     "metadata": {},
     "outputs": [
      {
       "metadata": {},
       "output_type": "pyout",
       "prompt_number": 159,
       "text": [
        "<matplotlib.legend.Legend at 0x7f547f055550>"
       ]
      },
      {
       "metadata": {},
       "output_type": "display_data",
       "png": "[encoded data removed]",
       "text": [
        "<matplotlib.figure.Figure at 0x7f547f055fd0>"
       ]
      }
     ],
     "prompt_number": 159
    },
    {
     "cell_type": "code",
     "collapsed": false,
     "input": [
      "%lsmagic"
     ],
     "language": "python",
     "metadata": {},
     "outputs": [
      {
       "json": [
        "{\"line\": {\"sx\": \"OSMagics\", \"unalias\": \"OSMagics\", \"colors\": \"BasicMagics\", \"less\": \"KernelMagics\", \"man\": \"KernelMagics\", \"cd\": \"OSMagics\", \"unload_ext\": \"ExtensionMagics\", \"automagic\": \"AutoMagics\", \"loadpy\": \"CodeMagics\", \"logstart\": \"LoggingMagics\", \"history\": \"HistoryMagics\", \"gui\": \"BasicMagics\", \"pinfo2\": \"NamespaceMagics\", \"killbgscripts\": \"ScriptMagics\", \"recall\": \"HistoryMagics\", \"pastebin\": \"CodeMagics\", \"whos\": \"NamespaceMagics\", \"page\": \"BasicMagics\", \"qtconsole\": \"KernelMagics\", \"install_ext\": \"ExtensionMagics\", \"reset_selective\": \"NamespaceMagics\", \"reset\": \"NamespaceMagics\", \"install_profiles\": \"DeprecatedMagics\", \"autocall\": \"AutoMagics\", \"time\": \"ExecutionMagics\", \"pfile\": \"NamespaceMagics\", \"psource\": \"NamespaceMagics\", \"rerun\": \"HistoryMagics\", \"config\": \"ConfigMagics\", \"mkdir\": \"Other\", \"xmode\": \"BasicMagics\", \"sc\": \"OSMagics\", \"load_ext\": \"ExtensionMagics\", \"rep\": \"Other\", \"psearch\": \"NamespaceMagics\", \"dhist\": \"OSMagics\", \"cat\": \"Other\", \"who_ls\": \"NamespaceMagics\", \"lk\": \"Other\", \"pprint\": \"BasicMagics\", \"notebook\": \"BasicMagics\", \"ed\": \"Other\", \"ldir\": \"Other\", \"logstate\": \"LoggingMagics\", \"debug\": \"ExecutionMagics\", \"ll\": \"Other\", \"who\": \"NamespaceMagics\", \"macro\": \"ExecutionMagics\", \"autosave\": \"KernelMagics\", \"pycat\": \"OSMagics\", \"hist\": \"Other\", \"tb\": \"ExecutionMagics\", \"pushd\": \"OSMagics\", \"install_default_config\": \"DeprecatedMagics\", \"pdef\": \"NamespaceMagics\", \"rehashx\": \"OSMagics\", \"profile\": \"BasicMagics\", \"bookmark\": \"OSMagics\", \"dirs\": \"OSMagics\", \"run\": \"ExecutionMagics\", \"reload_ext\": \"ExtensionMagics\", \"logstop\": \"LoggingMagics\", \"clear\": \"KernelMagics\", \"store\": \"StoreMagics\", \"popd\": \"OSMagics\", \"timeit\": \"ExecutionMagics\", \"mv\": \"Other\", \"xdel\": \"NamespaceMagics\", \"pdoc\": \"NamespaceMagics\", \"lsmagic\": \"BasicMagics\", \"precision\": \"BasicMagics\", \"logon\": \"LoggingMagics\", \"alias\": \"OSMagics\", \"save\": \"CodeMagics\", \"rmdir\": \"Other\", \"matplotlib\": \"PylabMagics\", \"cp\": \"Other\", \"pdb\": \"ExecutionMagics\", \"ls\": \"Other\", \"lf\": \"Other\", \"magic\": \"BasicMagics\", \"env\": \"OSMagics\", \"pylab\": \"PylabMagics\", \"doctest_mode\": \"KernelMagics\", \"more\": \"KernelMagics\", \"quickref\": \"BasicMagics\", \"edit\": \"KernelMagics\", \"load\": \"CodeMagics\", \"lx\": \"Other\", \"logoff\": \"LoggingMagics\", \"rm\": \"Other\", \"system\": \"OSMagics\", \"pwd\": \"OSMagics\", \"pinfo\": \"NamespaceMagics\", \"connect_info\": \"KernelMagics\", \"alias_magic\": \"BasicMagics\", \"prun\": \"ExecutionMagics\"}, \"cell\": {\"sx\": \"OSMagics\", \"script\": \"ScriptMagics\", \"pypy\": \"Other\", \"html\": \"DisplayMagics\", \"prun\": \"ExecutionMagics\", \"bash\": \"Other\", \"sh\": \"Other\", \"ruby\": \"Other\", \"python\": \"Other\", \"writefile\": \"OSMagics\", \"python2\": \"Other\", \"HTML\": \"Other\", \"python3\": \"Other\", \"latex\": \"DisplayMagics\", \"file\": \"Other\", \"system\": \"OSMagics\", \"!\": \"OSMagics\", \"svg\": \"DisplayMagics\", \"perl\": \"Other\", \"capture\": \"ExecutionMagics\", \"javascript\": \"DisplayMagics\", \"timeit\": \"ExecutionMagics\", \"debug\": \"ExecutionMagics\", \"time\": \"ExecutionMagics\", \"SVG\": \"Other\"}}"
       ],
       "metadata": {},
       "output_type": "pyout",
       "prompt_number": 92,
       "text": [
        "Available line magics:\n",
        "%alias  %alias_magic  %autocall  %automagic  %autosave  %bookmark  %cat  %cd  %clear  %colors  %config  %connect_info  %cp  %debug  %dhist  %dirs  %doctest_mode  %ed  %edit  %env  %gui  %hist  %history  %install_default_config  %install_ext  %install_profiles  %killbgscripts  %ldir  %less  %lf  %lk  %ll  %load  %load_ext  %loadpy  %logoff  %logon  %logstart  %logstate  %logstop  %ls  %lsmagic  %lx  %macro  %magic  %man  %matplotlib  %mkdir  %more  %mv  %notebook  %page  %pastebin  %pdb  %pdef  %pdoc  %pfile  %pinfo  %pinfo2  %popd  %pprint  %precision  %profile  %prun  %psearch  %psource  %pushd  %pwd  %pycat  %pylab  %qtconsole  %quickref  %recall  %rehashx  %reload_ext  %rep  %rerun  %reset  %reset_selective  %rm  %rmdir  %run  %save  %sc  %store  %sx  %system  %tb  %time  %timeit  %unalias  %unload_ext  %who  %who_ls  %whos  %xdel  %xmode\n",
        "\n",
        "Available cell magics:\n",
        "%%!  %%HTML  %%SVG  %%bash  %%capture  %%debug  %%file  %%html  %%javascript  %%latex  %%perl  %%prun  %%pypy  %%python  %%python2  %%python3  %%ruby  %%script  %%sh  %%svg  %%sx  %%system  %%time  %%timeit  %%writefile\n",
        "\n",
        "Automagic is ON, % prefix IS NOT needed for line magics."
       ]
      }
     ],
     "prompt_number": 92
    },
    {
     "cell_type": "code",
     "collapsed": false,
     "input": [
      "#l = [i[0] for i in testhelper.get_test_from_toefl(\"../tests/toefl/toefl\")]\n",
      "#for i in l:\n",
      "    #print (i)"
     ],
     "language": "python",
     "metadata": {},
     "outputs": [],
     "prompt_number": 30
    },
    {
     "cell_type": "code",
     "collapsed": false,
     "input": [
      "class Vocab_w2v(vsmlib.Vocabulary):\n",
      "    def __init__(self):\n",
      "        self.dic_words_ids={}\n",
      "        self.lst_words=[]\n",
      "        \n",
      "class model_w2v(vsmlib.Model_numbered):\n",
      "    def load_word(f):\n",
      "        result=b''\n",
      "        w=b''\n",
      "        while w!=b' ':\n",
      "            w = f.read(1)\n",
      "            result=result+w\n",
      "        return result[:-1]\n",
      "    def __init__(self,filename):\n",
      "        self.vocabulary = Vocab_w2v()\n",
      "        f=  open(filename,\"rb\")\n",
      "        header = f.readline().split()\n",
      "        cnt_rows=int(header[0])\n",
      "        size_row=int(header[1])\n",
      "        self.matrix = np.zeros((cnt_rows,size_row),dtype=np.float32)\n",
      "        print (\"cnt rows = {}, size row = {}\".format(cnt_rows,size_row))\n",
      "        for i in range(cnt_rows):\n",
      "            word = model_w2v.load_word(f).decode('ascii',errors=\"replace\").strip()\n",
      "            #print (word)\n",
      "            self.vocabulary.dic_words_ids[word]=i;\n",
      "            self.vocabulary.lst_words.append(word)\n",
      "            s_row = f.read(size_row*4)\n",
      "            row = np.fromstring(s_row, dtype=np.float32)\n",
      "            #row = row / np.linalg.norm(row)\n",
      "            self.matrix[i]=row\n",
      "        f.close()\n",
      "        \n",
      "m_w2v = model_w2v(\"/mnt/work/nlp_scratch/_w2v/vectors.bin\")\n",
      "wordlist = [random.choice(m_w2v.vocabulary.lst_words) for i in range(100)]\n",
      "print(*wordlist)"
     ],
     "language": "python",
     "metadata": {},
     "outputs": [
      {
       "output_type": "stream",
       "stream": "stdout",
       "text": [
        "cnt rows = 71291, size row = 200\n",
        "hasse"
       ]
      },
      {
       "output_type": "stream",
       "stream": "stdout",
       "text": [
        " intoned raucous treasure sumner frunze least joop mrna woodside aria antiquity parastatal onerous loma credited liturgical crockford anorexia tatra telic edb shingles rote karelia pip glassblower pruitt schutzmannschaft webmail indic leo suppressors keyser obituary kautsky killiecrankie rheumatology stockwell ticonderoga ombudsman revel sira patan cannibalistic besiege finches beautifully whitlam lessened today motif digits ample speciesism pediments concisely handles amok wied offstage bootable saddledome ardipithecus fargo nicky caching eidos pheromone cult gnaeus misplaced drywall roy uncomputable windshield foederati framers understated judy camper tb spouse banish monohulls cricetus strong donny val pen jearim clustered arteriosus cxd icftu rotunda graveyard belonging carlisle azur\n"
       ]
      }
     ],
     "prompt_number": 3
    },
    {
     "cell_type": "code",
     "collapsed": false,
     "input": [
      "#m_w2v.get_most_similar_words(\"best\")\n",
      "#bstr.decode('ascii')\n",
      "draw_features_and_similarity(m_w2v,True)"
     ],
     "language": "python",
     "metadata": {},
     "outputs": [
      {
       "ename": "NameError",
       "evalue": "name 'm_w2v' is not defined",
       "output_type": "pyerr",
       "traceback": [
        "\u001b[1;31m---------------------------------------------------------------------------\u001b[0m\n\u001b[1;31mNameError\u001b[0m                                 Traceback (most recent call last)",
        "\u001b[1;32m<ipython-input-9-c3b413f1cb59>\u001b[0m in \u001b[0;36m<module>\u001b[1;34m()\u001b[0m\n\u001b[0;32m      1\u001b[0m \u001b[1;31m#m_w2v.get_most_similar_words(\"best\")\u001b[0m\u001b[1;33m\u001b[0m\u001b[1;33m\u001b[0m\u001b[0m\n\u001b[0;32m      2\u001b[0m \u001b[1;31m#bstr.decode('ascii')\u001b[0m\u001b[1;33m\u001b[0m\u001b[1;33m\u001b[0m\u001b[0m\n\u001b[1;32m----> 3\u001b[1;33m \u001b[0mdraw_features_and_similarity\u001b[0m\u001b[1;33m(\u001b[0m\u001b[0mm_w2v\u001b[0m\u001b[1;33m,\u001b[0m\u001b[1;32mTrue\u001b[0m\u001b[1;33m)\u001b[0m\u001b[1;33m\u001b[0m\u001b[0m\n\u001b[0m",
        "\u001b[1;31mNameError\u001b[0m: name 'm_w2v' is not defined"
       ]
      }
     ],
     "prompt_number": 9
    },
    {
     "cell_type": "code",
     "collapsed": false,
     "input": [
      "mpl.rcParams['figure.figsize'] = (18.0, 8.0)\n",
      "#row1 = matr[dic_words[\"king\"]]\n",
      "#row2 = matr[dic_words[\"emperor\"]]\n",
      "#row3 = matr[dic_words[\"queen\"]]\n",
      "#wordlist = [\"apple\",\"banana\",\"kiwi\",\"orange\",\"tomato\",\"cherry\",\"pineapple\"]\n",
      "wordlist = [\"smaller\",\"bigger\",\"longer\",\"shorter\",\"larger\"]\n",
      "#wordlist = [\"red\",\"blue\"]\n",
      "row = np.zeros(len(m_svd_scipy.get_row(i)))\n",
      "for i in wordlist:\n",
      "    row += m_svd_scipy.get_row(i)\n",
      "    #row = row / np.linalg.norm(row)\n",
      "#plt.bar(range(0,len(row)), row, color = \"green\", linewidth  = 0, alpha = 1/len(wordlist))   \n",
      "#plt.bar(range(0,len(row)), row, color = \"green\", linewidth  = 0, alpha = 0.5)   \n",
      "\n",
      "#row = np.zeros(len(m_svd_scipy.get_row(i)))\n",
      "wordlist = [\"small\",\"big\",\"long\",\"short\",\"large\"]\n",
      "for i in wordlist:\n",
      "    row -= m_svd_scipy.get_row(i)\n",
      "    #row = row / np.linalg.norm(row)\n",
      "#plt.bar(range(0,len(row)), row, color = \"green\", linewidth  = 0, alpha = 1/len(wordlist))   \n",
      "plt.bar(range(0,len(row)), row, color = \"red\", linewidth  = 0, alpha = 0.5)   \n",
      "#for i in wordlist:\n",
      "#    row = m_svd_scipy.get_row(i)\n",
      "#    #row = row / np.linalg.norm(row)\n",
      "#    plt.bar(range(0,len(row)), row, color = \"red\", linewidth  = 0, alpha = 1/len(wordlist))   \n",
      "\n",
      "#m_svd_scipy.viz_wordlist(wordlist)\n",
      "plt.show()\n",
      "#wordlist = [\"london\",\"paris\",\"berlin\"]\n",
      "#m_svd_scipy.viz_wordlist(wordlist)\n",
      "#plt.show()\n",
      "er=row"
     ],
     "language": "python",
     "metadata": {},
     "outputs": [
      {
       "ename": "NameError",
       "evalue": "name 'm_svd_scipy' is not defined",
       "output_type": "pyerr",
       "traceback": [
        "\u001b[0;31m---------------------------------------------------------------------------\u001b[0m\n\u001b[0;31mNameError\u001b[0m                                 Traceback (most recent call last)",
        "\u001b[0;32m<ipython-input-8-06a88b56263e>\u001b[0m in \u001b[0;36m<module>\u001b[0;34m()\u001b[0m\n\u001b[1;32m      6\u001b[0m \u001b[0mwordlist\u001b[0m \u001b[0;34m=\u001b[0m \u001b[0;34m[\u001b[0m\u001b[0;34m\"smaller\"\u001b[0m\u001b[0;34m,\u001b[0m\u001b[0;34m\"bigger\"\u001b[0m\u001b[0;34m,\u001b[0m\u001b[0;34m\"longer\"\u001b[0m\u001b[0;34m,\u001b[0m\u001b[0;34m\"shorter\"\u001b[0m\u001b[0;34m,\u001b[0m\u001b[0;34m\"larger\"\u001b[0m\u001b[0;34m]\u001b[0m\u001b[0;34m\u001b[0m\u001b[0m\n\u001b[1;32m      7\u001b[0m \u001b[0;31m#wordlist = [\"red\",\"blue\"]\u001b[0m\u001b[0;34m\u001b[0m\u001b[0;34m\u001b[0m\u001b[0m\n\u001b[0;32m----> 8\u001b[0;31m \u001b[0mrow\u001b[0m \u001b[0;34m=\u001b[0m \u001b[0mnp\u001b[0m\u001b[0;34m.\u001b[0m\u001b[0mzeros\u001b[0m\u001b[0;34m(\u001b[0m\u001b[0mlen\u001b[0m\u001b[0;34m(\u001b[0m\u001b[0mm_svd_scipy\u001b[0m\u001b[0;34m.\u001b[0m\u001b[0mget_row\u001b[0m\u001b[0;34m(\u001b[0m\u001b[0mi\u001b[0m\u001b[0;34m)\u001b[0m\u001b[0;34m)\u001b[0m\u001b[0;34m)\u001b[0m\u001b[0;34m\u001b[0m\u001b[0m\n\u001b[0m\u001b[1;32m      9\u001b[0m \u001b[0;32mfor\u001b[0m \u001b[0mi\u001b[0m \u001b[0;32min\u001b[0m \u001b[0mwordlist\u001b[0m\u001b[0;34m:\u001b[0m\u001b[0;34m\u001b[0m\u001b[0m\n\u001b[1;32m     10\u001b[0m     \u001b[0mrow\u001b[0m \u001b[0;34m+=\u001b[0m \u001b[0mm_svd_scipy\u001b[0m\u001b[0;34m.\u001b[0m\u001b[0mget_row\u001b[0m\u001b[0;34m(\u001b[0m\u001b[0mi\u001b[0m\u001b[0;34m)\u001b[0m\u001b[0;34m\u001b[0m\u001b[0m\n",
        "\u001b[0;31mNameError\u001b[0m: name 'm_svd_scipy' is not defined"
       ]
      }
     ],
     "prompt_number": 8
    },
    {
     "cell_type": "code",
     "collapsed": false,
     "input": [
      "#wordlist = [\"apple\",\"king\",\"zero\",\"france\",\"car\",\"circle\",\"run\",\"hot\",\"myself\"]\n",
      "#viz_wordlist(wordlist2)\n",
      "#wordlist = [i*2 for i in range(10)]\n",
      "wordlist = [random.choice(m_svd_scipy.vocabulary.lst_words) for i in range(20)]\n",
      "print(wordlist)\n",
      "#m_w2v.viz_wordlist(wordlist)\n",
      "m_svd_scipy.viz_wordlist(wordlist)\n",
      "\n",
      "plt.show()"
     ],
     "language": "python",
     "metadata": {},
     "outputs": [
      {
       "output_type": "stream",
       "stream": "stdout",
       "text": [
        "['pinching', 'tiananmen', 'bignall', 'saracen', 'ibu', 'engelbart', 'wendell', 'littledale', 'erikson', 'warped', 'sarcophagi', 'aonb', 'lowest', 'newark', 'midhat', 'greyish', 'buzzers', 'outrunning', 'nosema', 'arguedas']\n"
       ]
      },
      {
       "metadata": {},
       "output_type": "display_data",
       "png": "[encoded data removed]",
       "text": [
        "<matplotlib.figure.Figure at 0x7fd650021550>"
       ]
      }
     ],
     "prompt_number": 66
    },
    {
     "cell_type": "code",
     "collapsed": false,
     "input": [
      "#vec= m_svd_scipy.get_row(\"small\")\n",
      "#vec[-1]=-vec[-1]\n",
      "#vec=vec+er\n",
      "#m_svd_scipy.get_most_similar_words(vec)\n",
      "#m_svd_scipy.get_most_similar_words(\"fast\")\n",
      "row1=m_svd_scipy.get_row(\"smaller\")\n",
      "row2=m_svd_scipy.get_row(\"small\")\n",
      "row3=m_svd_scipy.get_row(\"far\")\n",
      "row = row1-row2+row3\n",
      "m_svd_scipy.get_most_similar_words(row)"
     ],
     "language": "python",
     "metadata": {},
     "outputs": [
      {
       "metadata": {},
       "output_type": "pyout",
       "prompt_number": 69,
       "text": [
        "[['far', 0.66592201514235005],\n",
        " ['certainly', 0.44445207323601488],\n",
        " ['much', 0.44432489777265527],\n",
        " ['longer', 0.42619353107118185],\n",
        " ['ever', 0.4183633304391724],\n",
        " ['considerably', 0.41493452321963353],\n",
        " ['least', 0.41451602943566634],\n",
        " ['none', 0.40404042353959957],\n",
        " ['generally', 0.4027013469763554],\n",
        " ['anything', 0.40260018816305665]]"
       ]
      }
     ],
     "prompt_number": 69
    },
    {
     "cell_type": "code",
     "collapsed": false,
     "input": [],
     "language": "python",
     "metadata": {},
     "outputs": []
    }
   ],
   "metadata": {}
  }
 ]
}