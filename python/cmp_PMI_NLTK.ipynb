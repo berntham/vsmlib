{
 "metadata": {
  "name": ""
 },
 "nbformat": 3,
 "nbformat_minor": 0,
 "worksheets": [
  {
   "cells": [
    {
     "cell_type": "code",
     "collapsed": false,
     "input": [
      "import nltk\n",
      "from nltk.collocations import *\n",
      "import similarity\n",
      "from imp import reload\n",
      "reload(similarity)\n",
      "\n",
      "similarity.path_corpus = \"/home/blackbird/Cloud/Dropbox/Collaboration/Anna/Botva/DistributionalSimilarity/test_corpora.txt\"\n",
      "similarity.dir_cache = \"/mnt/work/nlp_temp\"\n",
      "similarity.purge()\n",
      "similarity.init()"
     ],
     "language": "python",
     "metadata": {},
     "outputs": [],
     "prompt_number": 3
    },
    {
     "cell_type": "code",
     "collapsed": false,
     "input": [
      "raw = open(\"/home/blackbird/Cloud/Dropbox/Collaboration/Anna/Botva/DistributionalSimilarity/test_corpora.txt\").read()\n",
      "tokens = nltk.word_tokenize(raw)\n",
      "bigrams = nltk.bigrams(tokens)"
     ],
     "language": "python",
     "metadata": {},
     "outputs": [],
     "prompt_number": 4
    },
    {
     "cell_type": "code",
     "collapsed": false,
     "input": [
      "def get_bigrams_by_word(text,w,window_size=2):\n",
      "    finder = BigramCollocationFinder.from_words(text,window_size)\n",
      "    #finder = BigramCollocationFinder.from_words(self.tokens, window_size)\n",
      "    finder.apply_freq_filter(2)\n",
      "    ignored_words=[]\n",
      "    #ignored_words = stopwords.words('english')\n",
      "    finder.apply_word_filter(lambda w: len(w) < 3 or w.lower() in ignored_words)\n",
      "    myfilter = lambda *w1: w not in w1\n",
      "    finder.apply_ngram_filter(myfilter)\n",
      "    #collocations = finder.nbest(bigram_measures.likelihood_ratio, num)\\n',\n",
      "    bigram_measures = nltk.collocations.BigramAssocMeasures()\n",
      "    #scored = finder.score_ngrams(bigram_measures.raw_freq)\n",
      "    scored = finder.score_ngrams(bigram_measures.pmi)\n",
      "    #scored = finder.score_ngrams(bigram_measures.likelihood_ratio)\n",
      "    return scored"
     ],
     "language": "python",
     "metadata": {},
     "outputs": [],
     "prompt_number": 5
    },
    {
     "cell_type": "code",
     "collapsed": false,
     "input": [
      "#similarity.CollocationMeasures.pmi(\"fast\").most_common(10)"
     ],
     "language": "python",
     "metadata": {},
     "outputs": [],
     "prompt_number": 9
    },
    {
     "cell_type": "code",
     "collapsed": false,
     "input": [
      "get_bigrams_by_word(tokens,\"fast\",window_size=2)"
     ],
     "language": "python",
     "metadata": {},
     "outputs": [
      {
       "metadata": {},
       "output_type": "pyout",
       "prompt_number": 10,
       "text": [
        "[(('fast', 'forward'), 1.7655347463629774),\n",
        " (('and', 'fast'), 1.3504972470841334),\n",
        " (('fast', 'backward'), 1.1805722456418213)]"
       ]
      }
     ],
     "prompt_number": 10
    },
    {
     "cell_type": "code",
     "collapsed": false,
     "input": [
      "len(tokens)"
     ],
     "language": "python",
     "metadata": {},
     "outputs": [
      {
       "metadata": {},
       "output_type": "pyout",
       "prompt_number": 8,
       "text": [
        "17"
       ]
      }
     ],
     "prompt_number": 8
    },
    {
     "cell_type": "code",
     "collapsed": false,
     "input": [],
     "language": "python",
     "metadata": {},
     "outputs": []
    }
   ],
   "metadata": {}
  }
 ]
}