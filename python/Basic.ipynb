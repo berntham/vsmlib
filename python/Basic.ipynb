{
 "metadata": {
  "name": ""
 },
 "nbformat": 3,
 "nbformat_minor": 0,
 "worksheets": [
  {
   "cells": [
    {
     "cell_type": "code",
     "collapsed": false,
     "input": [
      "import re\n",
      "import nltk\n",
      "from nltk.corpus import brown\n",
      "brown.words()\n"
     ],
     "language": "python",
     "metadata": {},
     "outputs": [
      {
       "metadata": {},
       "output_type": "pyout",
       "prompt_number": 1,
       "text": [
        "['The', 'Fulton', 'County', 'Grand', 'Jury', 'said', ...]"
       ]
      }
     ],
     "prompt_number": 1
    },
    {
     "cell_type": "code",
     "collapsed": false,
     "input": [
      "from nltk.book import *"
     ],
     "language": "python",
     "metadata": {},
     "outputs": [
      {
       "output_type": "stream",
       "stream": "stdout",
       "text": [
        "*** Introductory Examples for the NLTK Book ***\n",
        "Loading text1, ..., text9 and sent1, ..., sent9\n",
        "Type the name of the text or sentence to view it.\n",
        "Type: 'texts()' or 'sents()' to list the materials.\n",
        "text1:"
       ]
      },
      {
       "output_type": "stream",
       "stream": "stdout",
       "text": [
        " Moby Dick by Herman Melville 1851\n",
        "text2:"
       ]
      },
      {
       "output_type": "stream",
       "stream": "stdout",
       "text": [
        " Sense and Sensibility by Jane Austen 1811\n",
        "text3:"
       ]
      },
      {
       "output_type": "stream",
       "stream": "stdout",
       "text": [
        " The Book of Genesis\n",
        "text4:"
       ]
      },
      {
       "output_type": "stream",
       "stream": "stdout",
       "text": [
        " Inaugural Address Corpus\n",
        "text5:"
       ]
      },
      {
       "output_type": "stream",
       "stream": "stdout",
       "text": [
        " Chat Corpus\n",
        "text6: Monty Python and the Holy Grail\n",
        "text7:"
       ]
      },
      {
       "output_type": "stream",
       "stream": "stdout",
       "text": [
        " Wall Street Journal\n",
        "text8: Personals Corpus\n",
        "text9:"
       ]
      },
      {
       "output_type": "stream",
       "stream": "stdout",
       "text": [
        " The Man Who Was Thursday by G . K . Chesterton 1908\n"
       ]
      }
     ],
     "prompt_number": 2
    },
    {
     "cell_type": "code",
     "collapsed": false,
     "input": [
      "text2.concordance(\"happiness\")\n"
     ],
     "language": "python",
     "metadata": {},
     "outputs": [
      {
       "output_type": "stream",
       "stream": "stdout",
       "text": [
        "Building index...\n",
        "Displaying 25 of 66 matches:"
       ]
      },
      {
       "output_type": "stream",
       "stream": "stdout",
       "text": [
        "\n",
        "ree , that sanguine expectation of happiness which is happiness itself . But in\n",
        " expectation of happiness which is happiness itself . But in sorrow she must be\n",
        "early in life to despair of such a happiness . Why should you be less fortunate\n",
        "bourhood . It was necessary to the happiness of both ; for however dissimilar i\n",
        "dent mind . This was the season of happiness to Marianne . Her heart was devote\n",
        "d on her present home . Elinor ' s happiness was not so great . Her heart was n\n",
        "tion it was agreed , that although happiness could only be enjoyed at Whitwell \n",
        "the only form of building in which happiness is attainable , and were I rich en\n",
        "g but a kind of prescience of what happiness I should experience from it , can \n",
        "declared at once his affection and happiness . \" Shall we see you tomorrow to d\n",
        "ile on HIM , and in her sister ' s happiness forgot for a time her own disappoi\n",
        "have wealth or grandeur to do with happiness ?\" \" Grandeur has but little ,\" sa\n",
        "d Marianne , \" money can only give happiness where there is nothing else to giv\n",
        "with the delight of such imaginary happiness . \" We are all unanimous in that w\n",
        " was always eager to promote their happiness as far as she could , soon left th\n",
        "eyond any thing , and his greatest happiness was in being with them . Yet , he \n",
        " leisure has not promoted your own happiness , that your sons will be brought u\n",
        "education or state . Know your own happiness . You want nothing but patience --\n",
        "will , it must ere long become her happiness to prevent your whole youth from b\n",
        " the name of the man on who all my happiness depends .\" \" It is strange ,\" repl\n",
        " Ferrars , it will be more for the happiness of both of you ,' I should resolve\n",
        " to inform her confidante , of her happiness whenever she received a letter fro\n",
        "r ever , and it would give me such happiness , yes , almost the greatest happin\n",
        "piness , yes , almost the greatest happiness I am capable of , to be able to ac\n",
        "gh with your usual anxiety for our happiness ,\" said Elinor , \" you have been o\n"
       ]
      }
     ],
     "prompt_number": 3
    },
    {
     "cell_type": "code",
     "collapsed": false,
     "input": [
      " text2.similar(\"happiness\")"
     ],
     "language": "python",
     "metadata": {},
     "outputs": [
      {
       "output_type": "stream",
       "stream": "stdout",
       "text": [
        "Building word-context index...\n",
        "heart mind time behaviour kindness attachment attention fancy feelings\n",
        "it joy mother spirits agitation and disappointment eyes interest\n",
        "judgment name"
       ]
      },
      {
       "output_type": "stream",
       "stream": "stdout",
       "text": [
        "\n"
       ]
      }
     ],
     "prompt_number": 4
    },
    {
     "cell_type": "code",
     "collapsed": false,
     "input": [
      "text2.common_contexts([\"happiness\", \"heart\"])"
     ],
     "language": "python",
     "metadata": {},
     "outputs": [
      {
       "output_type": "stream",
       "stream": "stdout",
       "text": [
        "her_to his_and his_to of_which own_and own_it own_that s_was the_of\n"
       ]
      }
     ],
     "prompt_number": 5
    },
    {
     "cell_type": "code",
     "collapsed": false,
     "input": [
      "text4.dispersion_plot([\"citizens\", \"democracy\", \"freedom\", \"duties\", \"America\"])"
     ],
     "language": "python",
     "metadata": {},
     "outputs": [],
     "prompt_number": 6
    },
    {
     "cell_type": "code",
     "collapsed": false,
     "input": [
      "text2.collocations() #bigrams that occur more often than we would expect based on the frequency of individual words."
     ],
     "language": "python",
     "metadata": {},
     "outputs": [
      {
       "output_type": "stream",
       "stream": "stdout",
       "text": [
        "Building collocations list\n",
        "Colonel Brandon; Sir John; Lady Middleton; Miss Dashwood; every thing;\n",
        "thousand pounds; dare say; Miss Steeles; said Elinor; Miss Steele;\n",
        "every body; John Dashwood; great deal; Harley Street; Berkeley Street;\n",
        "Miss Dashwoods; young man; Combe Magna; every day; next morning"
       ]
      },
      {
       "output_type": "stream",
       "stream": "stdout",
       "text": [
        "\n"
       ]
      }
     ],
     "prompt_number": 7
    },
    {
     "cell_type": "code",
     "collapsed": false,
     "input": [
      "raw = open('corpus/clarissa1.txt').read().lower()\n",
      "tokens = nltk.word_tokenize(raw)\n",
      "text_clarissa = nltk.Text(tokens)\n",
      "text_clarissa.collocations() \n"
     ],
     "language": "python",
     "metadata": {},
     "outputs": [
      {
       "output_type": "stream",
       "stream": "stdout",
       "text": [
        "Building collocations list\n",
        "mr. lovelace; mr. solmes; miss howe; project gutenberg-tm; clarissa\n",
        "harlowe; miss clarissa; project gutenberg; every body; aunt hervey;\n",
        "every thing; literary archive; gutenberg-tm electronic; uncle antony;\n",
        "every one; gutenberg literary; mrs. norton; cl. harlowe.; mrs.\n",
        "fortescue; electronic works; archive foundation"
       ]
      },
      {
       "output_type": "stream",
       "stream": "stdout",
       "text": [
        "\n"
       ]
      }
     ],
     "prompt_number": 8
    },
    {
     "cell_type": "code",
     "collapsed": false,
     "input": [
      "len(text2)"
     ],
     "language": "python",
     "metadata": {},
     "outputs": [
      {
       "metadata": {},
       "output_type": "pyout",
       "prompt_number": 9,
       "text": [
        "141576"
       ]
      }
     ],
     "prompt_number": 9
    },
    {
     "cell_type": "code",
     "collapsed": false,
     "input": [
      "sorted(set(text2))[:10]        "
     ],
     "language": "python",
     "metadata": {},
     "outputs": [
      {
       "metadata": {},
       "output_type": "pyout",
       "prompt_number": 10,
       "text": [
        "['!', '!\"', '!\"--', \"!'\", '!\\'\"', '!--', '!--\"', '\"', '\"\\'', '\"--']"
       ]
      }
     ],
     "prompt_number": 10
    },
    {
     "cell_type": "code",
     "collapsed": false,
     "input": [
      "len(set(text3))"
     ],
     "language": "python",
     "metadata": {},
     "outputs": [
      {
       "metadata": {},
       "output_type": "pyout",
       "prompt_number": 11,
       "text": [
        "2789"
       ]
      }
     ],
     "prompt_number": 11
    },
    {
     "cell_type": "code",
     "collapsed": false,
     "input": [
      "from __future__ import division #lexical richness\n",
      "len(text2) / len(set(text2))"
     ],
     "language": "python",
     "metadata": {},
     "outputs": [
      {
       "metadata": {},
       "output_type": "pyout",
       "prompt_number": 12,
       "text": [
        "20.719449729255086"
       ]
      }
     ],
     "prompt_number": 12
    },
    {
     "cell_type": "code",
     "collapsed": false,
     "input": [
      "text2.count(\"happiness\")"
     ],
     "language": "python",
     "metadata": {},
     "outputs": [
      {
       "metadata": {},
       "output_type": "pyout",
       "prompt_number": 13,
       "text": [
        "66"
       ]
      }
     ],
     "prompt_number": 13
    },
    {
     "cell_type": "code",
     "collapsed": false,
     "input": [
      "def lexical_diversity(text):\n",
      "    return len(text) / len(set(text))"
     ],
     "language": "python",
     "metadata": {},
     "outputs": [],
     "prompt_number": 14
    },
    {
     "cell_type": "code",
     "collapsed": false,
     "input": [
      "lexical_diversity(text2)"
     ],
     "language": "python",
     "metadata": {},
     "outputs": [
      {
       "metadata": {},
       "output_type": "pyout",
       "prompt_number": 15,
       "text": [
        "20.719449729255086"
       ]
      }
     ],
     "prompt_number": 15
    },
    {
     "cell_type": "markdown",
     "metadata": {},
     "source": [
      "text2.index('happiness')"
     ]
    },
    {
     "cell_type": "code",
     "collapsed": false,
     "input": [
      "text2[2030]"
     ],
     "language": "python",
     "metadata": {},
     "outputs": [
      {
       "metadata": {},
       "output_type": "pyout",
       "prompt_number": 16,
       "text": [
        "'happiness'"
       ]
      }
     ],
     "prompt_number": 16
    },
    {
     "cell_type": "code",
     "collapsed": false,
     "input": [
      "fdist1 = FreqDist([word.lower() for word in text2 if word.isalpha()])\n",
      "fdist1.values()[:10]\n",
      "#fdist1.tabulate()\n",
      "#fdist1.plot(50, cumulative=True)\n",
      "fdist1.plot(50)\n",
      "#cnt = collections.Counter(words)\\n\",\n",
      "#\"#cnt.most_common(10)\\n\",\n",
      "#\"#cnt['happy']\\n\","
     ],
     "language": "python",
     "metadata": {},
     "outputs": [],
     "prompt_number": 5
    },
    {
     "cell_type": "code",
     "collapsed": false,
     "input": [
      "fdist1.hapaxes()[:10]\n"
     ],
     "language": "python",
     "metadata": {},
     "outputs": [
      {
       "metadata": {},
       "output_type": "pyout",
       "prompt_number": 18,
       "text": [
        "['abandoned',\n",
        " 'abatement',\n",
        " 'abbeyland',\n",
        " 'abhor',\n",
        " 'ablest',\n",
        " 'abominably',\n",
        " 'abounded',\n",
        " 'abridge',\n",
        " 'abridgement',\n",
        " 'abruptness']"
       ]
      }
     ],
     "prompt_number": 18
    },
    {
     "cell_type": "code",
     "collapsed": false,
     "input": [
      "V = set(text2)\n",
      "long_words = [w for w in V if len(w) > 15]\n",
      "sorted(long_words)"
     ],
     "language": "python",
     "metadata": {},
     "outputs": [
      {
       "metadata": {},
       "output_type": "pyout",
       "prompt_number": 19,
       "text": [
        "['companionableness',\n",
        " 'disinterestedness',\n",
        " 'disqualifications',\n",
        " 'incomprehensible']"
       ]
      }
     ],
     "prompt_number": 19
    },
    {
     "cell_type": "markdown",
     "metadata": {},
     "source": [
      "Bigrams"
     ]
    },
    {
     "cell_type": "code",
     "collapsed": false,
     "input": [
      "bigrams(['more', 'is', 'said', 'than', 'done'])"
     ],
     "language": "python",
     "metadata": {},
     "outputs": [
      {
       "metadata": {},
       "output_type": "pyout",
       "prompt_number": 20,
       "text": [
        "[('more', 'is'), ('is', 'said'), ('said', 'than'), ('than', 'done')]"
       ]
      }
     ],
     "prompt_number": 20
    },
    {
     "cell_type": "code",
     "collapsed": false,
     "input": [
      " sorted([w for w in set([w2.lower() for w2 in text2]) if w.endswith('ness')])"
     ],
     "language": "python",
     "metadata": {},
     "outputs": [
      {
       "metadata": {},
       "output_type": "pyout",
       "prompt_number": 21,
       "text": [
        "['abruptness',\n",
        " 'acuteness',\n",
        " 'archness',\n",
        " 'artlessness',\n",
        " 'awkwardness',\n",
        " 'backwardness',\n",
        " 'badness',\n",
        " 'bitterness',\n",
        " 'brightness',\n",
        " 'business',\n",
        " 'calmness',\n",
        " 'carefulness',\n",
        " 'carelessness',\n",
        " 'cautiousness',\n",
        " 'cheerfulness',\n",
        " 'coldness',\n",
        " 'companionableness',\n",
        " 'consciousness',\n",
        " 'coolness',\n",
        " 'correctness',\n",
        " 'crossness',\n",
        " 'dilatoriness',\n",
        " 'disinterestedness',\n",
        " 'dryness',\n",
        " 'dullness',\n",
        " 'eagerness',\n",
        " 'earnestness',\n",
        " 'emptiness',\n",
        " 'exactness',\n",
        " 'expensiveness',\n",
        " 'faintness',\n",
        " 'feebleness',\n",
        " 'firmness',\n",
        " 'fondness',\n",
        " 'forgiveness',\n",
        " 'frankness',\n",
        " 'friendliness',\n",
        " 'gentleness',\n",
        " 'gloominess',\n",
        " 'goodness',\n",
        " 'gracefulness',\n",
        " 'graciousness',\n",
        " 'greatness',\n",
        " 'happiness',\n",
        " 'hardness',\n",
        " 'heartiness',\n",
        " 'idleness',\n",
        " 'illness',\n",
        " 'incautiousness',\n",
        " 'inquisitiveness',\n",
        " 'kindness',\n",
        " 'likeness',\n",
        " 'liveliness',\n",
        " 'lowness',\n",
        " 'madness',\n",
        " 'meanness',\n",
        " 'mildness',\n",
        " 'minuteness',\n",
        " 'newness',\n",
        " 'openness',\n",
        " 'paleness',\n",
        " 'patroness',\n",
        " 'perverseness',\n",
        " 'playfulness',\n",
        " 'pleasantness',\n",
        " 'politeness',\n",
        " 'quietness',\n",
        " 'readiness',\n",
        " 'reasonableness',\n",
        " 'reservedness',\n",
        " 'sadness',\n",
        " 'sedateness',\n",
        " 'selfishness',\n",
        " 'shortness',\n",
        " 'shyness',\n",
        " 'sickness',\n",
        " 'smallness',\n",
        " 'smartness',\n",
        " 'sourness',\n",
        " 'steadiness',\n",
        " 'strangeness',\n",
        " 'sweetness',\n",
        " 'tediousness',\n",
        " 'tenderness',\n",
        " 'thoughtfulness',\n",
        " 'uneasiness',\n",
        " 'unhappiness',\n",
        " 'unkindness',\n",
        " 'unobtrusiveness',\n",
        " 'unpleasantness',\n",
        " 'unsuitableness',\n",
        " 'unwillingness',\n",
        " 'unworthiness',\n",
        " 'watchfulness',\n",
        " 'weakness',\n",
        " 'wildness',\n",
        " 'willingness',\n",
        " 'witness',\n",
        " 'wretchedness']"
       ]
      }
     ],
     "prompt_number": 21
    },
    {
     "cell_type": "code",
     "collapsed": false,
     "input": [],
     "language": "python",
     "metadata": {},
     "outputs": [],
     "prompt_number": 21
    },
    {
     "cell_type": "code",
     "collapsed": false,
     "input": [],
     "language": "python",
     "metadata": {},
     "outputs": []
    },
    {
     "cell_type": "code",
     "collapsed": false,
     "input": [],
     "language": "python",
     "metadata": {},
     "outputs": []
    }
   ],
   "metadata": {}
  }
 ]
}